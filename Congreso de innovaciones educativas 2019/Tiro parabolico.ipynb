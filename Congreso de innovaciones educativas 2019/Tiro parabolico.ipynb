{
 "cells": [
  {
   "cell_type": "markdown",
   "metadata": {},
   "source": [
    "## Ejercicio con Python sobre tiro parabólico\n",
    "\n",
    "En este ejercicio usaremos un sencillo _script_ para graficar la trayectoria de un proyectil tomando en cuenta la resistencia del aire. También calcularemos el rango del proyectil.\n",
    "\n",
    "La resistencia del aire, $F_d$, en $N$, es aproximada con la siguiente relación: \n",
    "\n",
    "  $$ F_d = C_d v^2 $$\n",
    "\n",
    "Donde $v$ es la rapidez en $m/s$ y $C_d$ es el coeficiente de arrastre.\n",
    "\n",
    "A continuación se presenta una guía paso a paso para escribir el _script_ mencionado. Algunas partes se han dejado fuera para ser completadas por el lector."
   ]
  },
  {
   "cell_type": "markdown",
   "metadata": {},
   "source": [
    "### Definición de parámetros\n",
    "\n",
    "Primero debemos importar los módulos necesarios para hacer los cálculos: numpy provee algunas funciones matemáticas, matplotlib provee las herramientas para graficar.\n",
    "\n",
    "Los parámetros del problema a definirse son:\n",
    "\n",
    "- masa del proyectil\n",
    "- aceleración debida a la gravedad\n",
    "- velocidad inicial (magnitud y dirección)\n",
    "- coefficiente de arrastre\n",
    "\n",
    "También se determina el intervalo de tiempo para dibujar la trayectoria del proyectil durante su viaje."
   ]
  },
  {
   "cell_type": "code",
   "execution_count": 1,
   "metadata": {},
   "outputs": [
    {
     "name": "stdout",
     "output_type": "stream",
     "text": [
      "80 60.0\n"
     ]
    }
   ],
   "source": [
    "import numpy as np\n",
    "import matplotlib.pyplot as plt\n",
    "#% matplotlib inline\n",
    "\n",
    "# Parámetros del modelo\n",
    "M = 1.0          # Masa del proyectil en kg\n",
    "g = 9.8          # Gravedad (m/s^2)\n",
    "V = 80           # Velocidad inicial en m/s\n",
    "ang = 60.0       # Ángulo de la velocidad inicial, en grados sexagesimales\n",
    "Cd = 0.005       # Coeficiente de arrastre\n",
    "dt = 0.5         # Intervalo temporal para dibujar trayectoria\n",
    "\n",
    "# Podemos revisar las variables desplegándolas. Por ejemplo:\n",
    "print (V, ang)"
   ]
  },
  {
   "cell_type": "markdown",
   "metadata": {},
   "source": [
    "### Configuración de las variables en $t=0$\n",
    "\n",
    "Generaremos la velocidad como una función del tiempo. Para ello, creamos las siguientes listas de datos:\n",
    "\n",
    "- Valores del tiempo $t$\n",
    "- Valores del componente _x_ de la velocidad $v_x$\n",
    "- Valores del componente _y_ de la velocidad $v_y$\n",
    "- Valores del componente _x_ de la aceleración $a_x$\n",
    "- Valores del componente _y_ de la aceleración $a_y$\n",
    "\n",
    "Comenzamos asignando los componentes de la velocidad inicial en $t=0$: $v_x = V \\cos\\theta$ y $v_y = V \\sin\\theta$.\n",
    "\n",
    "Para obtener la aceleración necesitamos la fuerza resultante, que depende del peso $W$ y el arrastre del aire $F_d$:\n",
    "\n",
    "$$ W = M g$$ \n",
    "\n",
    "y \n",
    "\n",
    "$$ F_d = C_d v^2 $$\n",
    "\n",
    "Los componentes _x, y_ de la fuerza resultante son dados por:\n",
    "\n",
    "$$ F_x = - F_d \\cos\\theta \\qquad \\text{y} \\qquad F_y = -Mg - F_d \\sin\\theta $$\n",
    "\n",
    "donde $\\theta$ es el ángulo que la velocidad forma con el eje _x_ positivo. Los componentes de la fuerza siguen la convención de ser positivos cuando apuntan hacia arriba y a la derecha.\n",
    "\n",
    "Gracias a la segunda ley de Newton, la aceleración del proyectil es dada por:\n",
    "\n",
    "$$ a_x = - (F_d \\cos\\theta)/M \\qquad \\text{y} \\qquad a_y = -g - (F_d \\sin\\theta)/M $$\n",
    "\n",
    "Implementaremos estos pasos para obtener la velocidad, la fuerza de arrastre y la aceleración en $t=0$.\n"
   ]
  },
  {
   "cell_type": "code",
   "execution_count": 2,
   "metadata": {},
   "outputs": [
    {
     "name": "stdout",
     "output_type": "stream",
     "text": [
      "-16.000000000000004\n",
      "-37.51281292110204\n",
      "40.00000000000001\n",
      "69.28203230275508\n"
     ]
    }
   ],
   "source": [
    "# Crear e inicializar las listas para almacenar los valores de tiempo y velocidad\n",
    "t = [0]                         # lista para llevar registro del tiempo\n",
    "vx = [V*np.cos(ang/180*np.pi)]  # listas para los componentes x e y de la velocidad\n",
    "vy = [V*np.sin(ang/180*np.pi)]\n",
    "\n",
    "# Fuerza de arrastre\n",
    "drag = Cd*V**2\n",
    "\n",
    "# Listas para los componentes de la aceleración\n",
    "ax = [-(drag*np.cos(ang/180*np.pi))/M]        \n",
    "ay = [-g-(drag*np.sin(ang/180*np.pi)/M)]\n",
    "\n",
    "# Revisar los valores mostrándolos en pantalla\n",
    "print(ax[0])\n",
    "print(ay[0])\n",
    "print(vx[0])\n",
    "print(vy[0])"
   ]
  },
  {
   "cell_type": "markdown",
   "metadata": {},
   "source": [
    "### Actualización de la velocidad conforme pasa el tiempo\n",
    "\n",
    "Para obtener el siguiente dato de velocidad usamos la siguiente aproximación:\n",
    "\n",
    "$$ a(t_{n}) = \\frac{dv(t_{n})}{dt} \\approx \\frac{v(t_{n+1}) - v(t_n)}{\\Delta t} $$\n",
    "\n",
    "o \n",
    "\n",
    "$$ v(t_{n+1}) \\approx v(t_n) +  a(t_n) \\Delta t $$\n",
    "\n",
    "Esta es una manera muy primitiva de integrar la aceleración para obtener la velocidad. Esto se conoce como el método de Euler, en la literatura.\n",
    "\n",
    "Calculemos las velocidades a lo largo de 10 \"pasos\" sobre el tiempo."
   ]
  },
  {
   "cell_type": "code",
   "execution_count": 3,
   "metadata": {},
   "outputs": [
    {
     "name": "stdout",
     "output_type": "stream",
     "text": [
      "t= [0, 0.5, 1.0, 1.5, 2.0, 2.5, 3.0, 3.5, 4.0, 4.5, 5.0]\n",
      "vx= [40.00000000000001, 32.00000000000001, 27.528951416567008, 24.787883378136915, 23.02339491459251, 21.846818145611152, 21.027776019653995, 20.413445666052425, 19.89116281938412, 19.368416481078107, 18.760291921319446]\n"
     ]
    },
    {
     "data": {
      "image/png": "[encoded data removed]",
      "text/plain": [
       "<Figure size 432x288 with 1 Axes>"
      ]
     },
     "metadata": {
      "needs_background": "light"
     },
     "output_type": "display_data"
    }
   ],
   "source": [
    "# Uso del método de Euler para actualizar las variables\n",
    "counter = 0\n",
    "while (counter < 10):\n",
    "    t.append(t[counter]+dt)                # incrementar en dt y añadir a la lista de datos de tiempo \n",
    "    vx.append(vx[counter]+dt*ax[counter])  # Actualizar la velocidad\n",
    "    vy.append(vy[counter]+dt*ay[counter])  \n",
    "\n",
    "    # Con la nueva velocidad se calculan:\n",
    "    vel = np.sqrt(vx[counter+1]**2 + vy[counter+1]**2)   # rapidez\n",
    "    drag = Cd*vel**2                                   # fuerza de arrastre\n",
    "    ax.append(-(drag*np.cos(ang/180*np.pi))/M)     \n",
    "    ay.append(-g-(drag*np.sin(ang/180*np.pi)/M))\n",
    "    \n",
    "    # Incrementar el contador\n",
    "    counter = counter +1\n",
    "\n",
    "# Revisión de los valores mediante despliegue\n",
    "print (\"t=\", t)\n",
    "print (\"vx=\", vx)\n",
    "\n",
    "# Gráfica de velocidad contra tiempo\n",
    "plt.plot(t,vx)\n",
    "plt.ylabel(\"velocidad en x (m/s)\")\n",
    "plt.xlabel(\"tiempo (s)\")\n",
    "plt.show()\n",
    "\n",
    "\n"
   ]
  },
  {
   "cell_type": "markdown",
   "metadata": {},
   "source": [
    "### Actualización de posiciones\n",
    "\n",
    "Con las velocidades calculadas, podemos obtener las posiciones sobre $x$ e $y$.\n",
    "\n",
    "$$ v_x(t_{n}) = \\frac{dx(t_{n})}{dt} \\approx \\frac{x(t_{n+1}) - x(t_n)}{\\Delta t} \n",
    "   \\qquad \\text{y} \\qquad \n",
    "   v_y(t_{n}) = \\frac{dy(t_{n})}{dt} \\approx \\frac{y(t_{n+1}) - y(t_n)}{\\Delta t}\n",
    "$$\n",
    "\n",
    "o \n",
    "\n",
    "$$ x(t_{n+1}) \\approx x(t_n) +  v_x(t_n) \\Delta t \n",
    "   \\qquad \\text{y} \\qquad \n",
    "   y(t_{n+1}) \\approx y(t_n) +  v_y(t_n) \\Delta t \n",
    "$$\n",
    "\n",
    "Comenzando con $x=0$ e $y=0$ en $t=0$, podemos usar el método de Euler para obtener las posiciones para los primeros 10 \"pasos\" sobre el tiempo, usando las velocidades halladas anteriormente."
   ]
  },
  {
   "cell_type": "code",
   "execution_count": 5,
   "metadata": {},
   "outputs": [
    {
     "data": {
      "image/png": "[encoded data removed]",
      "text/plain": [
       "<Figure size 432x288 with 1 Axes>"
      ]
     },
     "metadata": {
      "needs_background": "light"
     },
     "output_type": "display_data"
    },
    {
     "name": "stdout",
     "output_type": "stream",
     "text": [
      "Distancia recorrida por proyectil fue 134.3 m\n"
     ]
    }
   ],
   "source": [
    "# Inicializar las listas para posiciones en x e y\n",
    "x = [0]\n",
    "y = [0]\n",
    "\n",
    "# Usar el método de Euler para actualizar variables\n",
    "counter = 0\n",
    "while (counter <= 10):\n",
    "    # Actualizar posiciones en x e y\n",
    "    x.append(x[counter]+dt*vx[counter])    \n",
    "    y.append(y[counter]+dt*vy[counter])    \n",
    "    # Incremento del contador\n",
    "    counter = counter +1\n",
    "\n",
    "\n",
    "# Gráfica de la trayectoria\n",
    "plt.plot(x,y,'ro')\n",
    "plt.ylabel(\"y (m)\")\n",
    "plt.xlabel(\"x (m)\")\n",
    "plt.show()\n",
    "print (\"Distancia recorrida por proyectil fue {:3.1f} m\".format(x[counter]))"
   ]
  },
  {
   "cell_type": "markdown",
   "metadata": {},
   "source": [
    "### ¿Qué tan lejos puede llegar el proyectil?\n",
    "\n",
    "Intenta modificar la velocidad inicial del proyectil y el coeficiente de arrastre, para notar cómo cambia la trayectoria.\n",
    "\n",
    "Manteniendo la rapidez inicial fija, encuentra el ángulo que permitirá al proyectil llegar más lejos, dado un coeficiente de arrastre específico."
   ]
  }
 ],
 "metadata": {
  "kernelspec": {
   "display_name": "Python 3",
   "language": "python",
   "name": "python3"
  },
  "language_info": {
   "codemirror_mode": {
    "name": "ipython",
    "version": 3
   },
   "file_extension": ".py",
   "mimetype": "text/x-python",
   "name": "python",
   "nbconvert_exporter": "python",
   "pygments_lexer": "ipython3",
   "version": "3.7.0"
  }
 },
 "nbformat": 4,
 "nbformat_minor": 1
}

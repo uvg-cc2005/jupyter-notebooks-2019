{
 "cells": [
  {
   "cell_type": "markdown",
   "metadata": {},
   "source": [
    "En los siguientes ejercicios aprenderemos cómo trabajar eficientemente con los elementos en una lista.  Recorreremos una lista haciendo uso de un bucle 'for' y verificaremos la indentación de nuestro código para estructurar nuestro programa.\n",
    "\n",
    "Trabajaremos con listas numéricas y las partiremos para trabajar con un subset de datos.  Aprenderemos cómo copiar listas apropiadamente."
   ]
  },
  {
   "cell_type": "code",
   "execution_count": null,
   "metadata": {},
   "outputs": [],
   "source": [
    "# Pasando a través de cada elemento de una lista\n",
    "magos = ['alicia', 'david', 'carolina']\n",
    "\n",
    "for mago in magos:\n",
    "    print(mago)"
   ]
  },
  {
   "cell_type": "code",
   "execution_count": null,
   "metadata": {},
   "outputs": [],
   "source": [
    "# Errores de indentación\n",
    "\n",
    "# Error no. 1 - Olvidar indentar\n",
    "\n",
    "magos = ['alicia', 'david', 'carolina']\n",
    "\n",
    "for mago in magos:\n",
    "print(mago)"
   ]
  },
  {
   "cell_type": "code",
   "execution_count": null,
   "metadata": {},
   "outputs": [],
   "source": [
    "# Errores de indentación\n",
    "\n",
    "# Error no. 2 - Olvidar indentar la segunda línea de un loop\n",
    "\n",
    "magos = ['alicia', 'david', 'carolina']\n",
    "\n",
    "for mago in magos:\n",
    "    print(mago.title() + \", ése fue un gran truco!\")\n",
    "print(\"¡Ya quiero ver tu próximo truco, \" + mago.title() + \".\\n\")"
   ]
  },
  {
   "cell_type": "code",
   "execution_count": null,
   "metadata": {},
   "outputs": [],
   "source": [
    "# Errores de indentación\n",
    "\n",
    "# Error no. 3 - Olvidar indentar la segunda línea de un loop\n",
    "\n",
    "mensaje = \"¡Recuerda indentar bien!\"\n",
    "    print(mensaje)"
   ]
  },
  {
   "cell_type": "code",
   "execution_count": null,
   "metadata": {},
   "outputs": [],
   "source": [
    "# Errores de indentación\n",
    "\n",
    "# Error no. 4 - Indentación innecesaria después de un loop.\n",
    "\n",
    "magos = ['alicia', 'david', 'carolina']\n",
    "\n",
    "for mago in magos:\n",
    "    print(mago.title() + \", ése fue un gran truco!\")\n",
    "    print(\"¡Ya quiero ver tu próximo truco, \" + mago.title() + \".\\n\")\n",
    "    \n",
    "    print(\"¡Gracias a todos! Eso fue un show de magia genial.\")"
   ]
  },
  {
   "cell_type": "markdown",
   "metadata": {},
   "source": [
    "# Listas Numéricas"
   ]
  },
  {
   "cell_type": "code",
   "execution_count": 1,
   "metadata": {},
   "outputs": [
    {
     "name": "stdout",
     "output_type": "stream",
     "text": [
      "1\n",
      "2\n",
      "3\n",
      "4\n",
      "5\n"
     ]
    }
   ],
   "source": [
    "# Función range(init, end)\n",
    "\n",
    "for value in range(1, 6):\n",
    "    print(value)"
   ]
  },
  {
   "cell_type": "code",
   "execution_count": null,
   "metadata": {},
   "outputs": [],
   "source": [
    "# Crear una lista a partir de un rango de números\n",
    "\n",
    "numbers = list(range(1,6))\n",
    "print(numbers)"
   ]
  },
  {
   "cell_type": "code",
   "execution_count": null,
   "metadata": {},
   "outputs": [],
   "source": [
    "# Crear rangos de números no secuenciales\n",
    "\n",
    "numeros_pares = list(range(0, 101, 2))\n",
    "print(numeros_pares)"
   ]
  },
  {
   "cell_type": "code",
   "execution_count": null,
   "metadata": {},
   "outputs": [],
   "source": [
    "# Crea una lista con los cuadrados de los primeros 10 números naturales después del 0.\n",
    "\n",
    "squares = []\n",
    "\n",
    "for value in range(1,11):\n",
    "    square = value ** 2\n",
    "    squares.append(square)\n",
    "    \n",
    "print(squares)\n",
    "\n",
    "# ¿Podríamos hacer este código más conciso?"
   ]
  },
  {
   "cell_type": "code",
   "execution_count": null,
   "metadata": {},
   "outputs": [],
   "source": [
    "# Estadísticas simples con listas numéricas\n",
    "\n",
    "digitos = [1, 2, 3, 4, 5, 6, 7, 8, 9, 0]\n",
    "\n",
    "print(max(digitos))\n",
    "print(min(digitos))\n",
    "print(sum(digitos))"
   ]
  },
  {
   "cell_type": "markdown",
   "metadata": {},
   "source": [
    "# Trabajando con partes de una lista"
   ]
  },
  {
   "cell_type": "code",
   "execution_count": null,
   "metadata": {},
   "outputs": [],
   "source": [
    "# Partiendo una lista\n",
    "\n",
    "jugadores = ['charles', 'martina', 'michael', 'florence', 'eli']\n",
    "print(jugadores[0:3])"
   ]
  },
  {
   "cell_type": "code",
   "execution_count": null,
   "metadata": {},
   "outputs": [],
   "source": [
    "# Obteniendo secciones de una lista\n",
    "\n",
    "jugadores = ['charles', 'martina', 'michael', 'florence', 'eli']\n",
    "print(jugadores[1:3])"
   ]
  },
  {
   "cell_type": "code",
   "execution_count": null,
   "metadata": {},
   "outputs": [],
   "source": [
    "# Si omitimos el primer número antes de los dos puntos, Python inicia desde el principio de la lista.\n",
    "\n",
    "jugadores = ['charles', 'martina', 'michael', 'florence', 'eli']\n",
    "print(jugadores[:3])"
   ]
  },
  {
   "cell_type": "code",
   "execution_count": null,
   "metadata": {},
   "outputs": [],
   "source": [
    "# Si omitimos el último número después de los dos puntos, Python llega sólo hasta el final de la lista.\n",
    "\n",
    "jugadores = ['charles', 'martina', 'michael', 'florence', 'eli']\n",
    "print(jugadores[3:])"
   ]
  },
  {
   "cell_type": "code",
   "execution_count": null,
   "metadata": {},
   "outputs": [],
   "source": [
    "# Podemos utilizar slices (rebanadas) dentro de un for loop.\n",
    "\n",
    "jugadores = ['charles', 'martina', 'michael', 'florence', 'eli']\n",
    "\n",
    "# Imprimir el nombre de los primeros tres jugadores de mi grupo.\n",
    "\n",
    "print(\"Estos son los jugadores de mi equipo: \\n\")\n",
    "for jugador in jugadores[:3]:\n",
    "    print(jugador.title())"
   ]
  },
  {
   "cell_type": "code",
   "execution_count": null,
   "metadata": {},
   "outputs": [],
   "source": [
    "# Copiando una lista\n",
    "\n",
    "mi_comida = ['pizza', 'falafel', 'salpicón']\n",
    "comida_amigos = mi_comida[:]\n",
    "\n",
    "print(\"Mi comida favorita es: \", mi_comida)\n",
    "print(\"La comida favorita de mis amigos es: \", comida_amigos)"
   ]
  },
  {
   "cell_type": "code",
   "execution_count": null,
   "metadata": {},
   "outputs": [],
   "source": [
    "# Las copias son entidades independientes\n",
    "\n",
    "mi_comida = ['pizza', 'falafel', 'salpicón']\n",
    "comida_amigos = mi_comida[:]\n",
    "\n",
    "mi_comida.append(\"helado\")\n",
    "comida_amigos.append(\"hamburguesa\")\n",
    "\n",
    "print(\"Mi comida favorita es: \", mi_comida)\n",
    "print(\"La comida favorita de mis amigos es: \", comida_amigos)"
   ]
  },
  {
   "cell_type": "code",
   "execution_count": null,
   "metadata": {},
   "outputs": [],
   "source": [
    "# Si asignamos una lista a otra con el símbolo '=', las estaremos relacionando al apuntar ambas a los mismos valores.\n",
    "\n",
    "mi_comida = ['pizza', 'falafel', 'salpicón']\n",
    "comida_amigos = mi_comida\n",
    "\n",
    "mi_comida.append(\"helado\")\n",
    "comida_amigos.append(\"hamburguesa\")\n",
    "\n",
    "print(mi_comida)\n",
    "print(comida_amigos)\n"
   ]
  },
  {
   "cell_type": "markdown",
   "metadata": {},
   "source": [
    "# Tuplas"
   ]
  },
  {
   "cell_type": "code",
   "execution_count": null,
   "metadata": {},
   "outputs": [],
   "source": [
    "# Definición de una tupla\n",
    "\n",
    "dimensiones = (200, 500, 800)\n",
    "print(dimensiones[0])\n",
    "print(dimensiones[1])\n",
    "print(dimensiones[2])"
   ]
  },
  {
   "cell_type": "code",
   "execution_count": null,
   "metadata": {},
   "outputs": [],
   "source": [
    "# Intentemos cambiar los valores en una tupla.\n",
    "\n",
    "dimensiones = (200, 500, 800)\n",
    "\n",
    "dimensiones[0] = 300"
   ]
  }
 ],
 "metadata": {
  "kernelspec": {
   "display_name": "Python 3",
   "language": "python",
   "name": "python3"
  },
  "language_info": {
   "codemirror_mode": {
    "name": "ipython",
    "version": 3
   },
   "file_extension": ".py",
   "mimetype": "text/x-python",
   "name": "python",
   "nbconvert_exporter": "python",
   "pygments_lexer": "ipython3",
   "version": "3.7.1"
  }
 },
 "nbformat": 4,
 "nbformat_minor": 2
}

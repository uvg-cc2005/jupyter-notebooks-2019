{
 "cells": [
  {
   "cell_type": "markdown",
   "metadata": {},
   "source": [
    "# Try Except en Python 3\n",
    "\n",
    "(Por Julio Ayala)"
   ]
  },
  {
   "cell_type": "markdown",
   "metadata": {},
   "source": [
    "## Errores y excepciones\n",
    "\n",
    "Hasta ahora, nos hemos encontrado con distintos errores mientras programamos.\n",
    "\n",
    "Los errores más comunes que hemos visto van desde variables no definidas hasta operaciones con tipos de datos distintos. Los errores en Python se dividen en dos: **Errores de sintaxis** y **excepciones**."
   ]
  },
  {
   "cell_type": "markdown",
   "metadata": {},
   "source": [
    "### Errores de sintaxis e indentación\n",
    "\n",
    "Este tipo de errores son los más fáciles de detectar, ya que no permitirán iniciar la ejecución del programa. Estos son causados por mal uso de palabras reservadas, espaciado u orden de las instrucciones. El intérprete de Python nos indicará en qué línea ocurrió el error, lo cual nos ayuda a detectarlo y corregirlo. A continuación, se presentan algunos ejemplos:"
   ]
  },
  {
   "cell_type": "markdown",
   "metadata": {},
   "source": [
    "**Ejercicio 1.** En el siguiente ejemplo, se indica que ocurre un error de sintaxis luego de \"if True\", ya que no se incluyó ':' al final. En la siguiente celda, agrega tu solución a este error."
   ]
  },
  {
   "cell_type": "code",
   "execution_count": 1,
   "metadata": {},
   "outputs": [
    {
     "ename": "SyntaxError",
     "evalue": "invalid syntax (<ipython-input-1-ac84d8db323b>, line 1)",
     "output_type": "error",
     "traceback": [
      "\u001b[1;36m  File \u001b[1;32m\"<ipython-input-1-ac84d8db323b>\"\u001b[1;36m, line \u001b[1;32m1\u001b[0m\n\u001b[1;33m    if True\u001b[0m\n\u001b[1;37m           ^\u001b[0m\n\u001b[1;31mSyntaxError\u001b[0m\u001b[1;31m:\u001b[0m invalid syntax\n"
     ]
    }
   ],
   "source": [
    "if True\n",
    "    print(\"Hello World\")"
   ]
  },
  {
   "cell_type": "code",
   "execution_count": 7,
   "metadata": {},
   "outputs": [],
   "source": [
    "# Introduce tu solución aquí"
   ]
  },
  {
   "cell_type": "markdown",
   "metadata": {},
   "source": [
    "**Ejercicio 2.** En el este ejemplo se usa incorrectamente la palabra reservada \"for\". Agrega tu solución en la siguiente celda."
   ]
  },
  {
   "cell_type": "code",
   "execution_count": 2,
   "metadata": {},
   "outputs": [
    {
     "ename": "SyntaxError",
     "evalue": "invalid syntax (<ipython-input-2-12d6f7c4af4b>, line 1)",
     "output_type": "error",
     "traceback": [
      "\u001b[1;36m  File \u001b[1;32m\"<ipython-input-2-12d6f7c4af4b>\"\u001b[1;36m, line \u001b[1;32m1\u001b[0m\n\u001b[1;33m    For i in range(0,10):\u001b[0m\n\u001b[1;37m        ^\u001b[0m\n\u001b[1;31mSyntaxError\u001b[0m\u001b[1;31m:\u001b[0m invalid syntax\n"
     ]
    }
   ],
   "source": [
    "For i in range(0,10):\n",
    "    print(i)"
   ]
  },
  {
   "cell_type": "code",
   "execution_count": 11,
   "metadata": {},
   "outputs": [],
   "source": [
    "# Introduce tu solución aquí"
   ]
  },
  {
   "cell_type": "markdown",
   "metadata": {},
   "source": [
    "**Ejercicio 3.** Otro error de sintaxis común es el de indentación, en el cual el espaciado no es el correcto. "
   ]
  },
  {
   "cell_type": "code",
   "execution_count": 3,
   "metadata": {},
   "outputs": [
    {
     "ename": "IndentationError",
     "evalue": "expected an indented block (<ipython-input-3-25faf4ebe576>, line 3)",
     "output_type": "error",
     "traceback": [
      "\u001b[1;36m  File \u001b[1;32m\"<ipython-input-3-25faf4ebe576>\"\u001b[1;36m, line \u001b[1;32m3\u001b[0m\n\u001b[1;33m    print(\"El valor de a es 10\")\u001b[0m\n\u001b[1;37m        ^\u001b[0m\n\u001b[1;31mIndentationError\u001b[0m\u001b[1;31m:\u001b[0m expected an indented block\n"
     ]
    }
   ],
   "source": [
    "a = 10\n",
    "if a==10:\n",
    "print(\"El valor de a es 10\")"
   ]
  },
  {
   "cell_type": "code",
   "execution_count": 14,
   "metadata": {},
   "outputs": [],
   "source": [
    "#Introduce tu solución aquí"
   ]
  },
  {
   "cell_type": "markdown",
   "metadata": {},
   "source": [
    "Como vimos en los ejemplos anteriores, este tipo de errores se solucionan revisando la sintaxis de nuestro programa, ya que éste no se ejecutará a menos que tenga la sintaxis e indentación correcta.\n",
    "\n",
    "\n",
    "### Excepciones \n",
    "El otro tipo de errores que tenemos en Python son las excepciónes. Aunque nuestra sintaxis sea correcta, el intérprete de Python no los detectará sino hasta que el programa esté corriendo, y provocan que nuestro programa se detenga. Dentro de las excepciones tenemos categorías, en las que caben mencionar las siguientes:\n",
    "\n",
    "#### Excepción por nombre:  `NameError `\n",
    "Estas excepciones ocurren cuando intentamos usar una variable que aún no ha sido declarada, como se muestra en el siguiente ejemplo, en el que *b* solo se asigna cuando el valor de *a* es 100. Dado que *a* vale 99, nunca se asigna el valor de *b*."
   ]
  },
  {
   "cell_type": "code",
   "execution_count": 4,
   "metadata": {},
   "outputs": [
    {
     "ename": "NameError",
     "evalue": "name 'b' is not defined",
     "output_type": "error",
     "traceback": [
      "\u001b[1;31m---------------------------------------------------------------------------\u001b[0m",
      "\u001b[1;31mNameError\u001b[0m                                 Traceback (most recent call last)",
      "\u001b[1;32m<ipython-input-4-164d08ff31f4>\u001b[0m in \u001b[0;36m<module>\u001b[1;34m()\u001b[0m\n\u001b[0;32m      2\u001b[0m \u001b[1;32mif\u001b[0m \u001b[0ma\u001b[0m \u001b[1;33m==\u001b[0m \u001b[1;36m100\u001b[0m\u001b[1;33m:\u001b[0m\u001b[1;33m\u001b[0m\u001b[0m\n\u001b[0;32m      3\u001b[0m     \u001b[0mb\u001b[0m \u001b[1;33m=\u001b[0m \u001b[1;34m\"Texto\"\u001b[0m\u001b[1;33m\u001b[0m\u001b[0m\n\u001b[1;32m----> 4\u001b[1;33m \u001b[0mprint\u001b[0m\u001b[1;33m(\u001b[0m\u001b[0mb\u001b[0m\u001b[1;33m)\u001b[0m\u001b[1;33m\u001b[0m\u001b[0m\n\u001b[0m",
      "\u001b[1;31mNameError\u001b[0m: name 'b' is not defined"
     ]
    }
   ],
   "source": [
    "a = 99\n",
    "if a == 100:\n",
    "    b = \"Texto\"\n",
    "print(b)"
   ]
  },
  {
   "cell_type": "markdown",
   "metadata": {},
   "source": [
    "#### Excepción por tipo:  `TypeError `\n",
    "Este tipo de excepción ocurre cuando intentamos realizar una operación entre dos variables que no se pueden operar entre sí. En el siguiente ejemplo, la variable `a`es de tipo `int`, mientras que la variable `b`es de tipo `string`"
   ]
  },
  {
   "cell_type": "code",
   "execution_count": 5,
   "metadata": {},
   "outputs": [
    {
     "ename": "TypeError",
     "evalue": "unsupported operand type(s) for +: 'int' and 'str'",
     "output_type": "error",
     "traceback": [
      "\u001b[1;31m---------------------------------------------------------------------------\u001b[0m",
      "\u001b[1;31mTypeError\u001b[0m                                 Traceback (most recent call last)",
      "\u001b[1;32m<ipython-input-5-b9bae5047423>\u001b[0m in \u001b[0;36m<module>\u001b[1;34m()\u001b[0m\n\u001b[0;32m      1\u001b[0m \u001b[0ma\u001b[0m \u001b[1;33m=\u001b[0m \u001b[1;36m10\u001b[0m\u001b[1;33m\u001b[0m\u001b[0m\n\u001b[0;32m      2\u001b[0m \u001b[0mb\u001b[0m \u001b[1;33m=\u001b[0m \u001b[1;34m\"10\"\u001b[0m\u001b[1;33m\u001b[0m\u001b[0m\n\u001b[1;32m----> 3\u001b[1;33m \u001b[0mprint\u001b[0m\u001b[1;33m(\u001b[0m\u001b[0ma\u001b[0m\u001b[1;33m+\u001b[0m\u001b[0mb\u001b[0m\u001b[1;33m)\u001b[0m\u001b[1;33m\u001b[0m\u001b[0m\n\u001b[0m",
      "\u001b[1;31mTypeError\u001b[0m: unsupported operand type(s) for +: 'int' and 'str'"
     ]
    }
   ],
   "source": [
    "a = 10\n",
    "b = \"10\"\n",
    "print(a+b)"
   ]
  },
  {
   "cell_type": "markdown",
   "metadata": {},
   "source": [
    "#### Excepción de valor:  `ValueError `\n",
    "Este tipo de excepción ocurre cuando intentamos realizar una operación con una variable que tiene el tipo correcto, pero que su valor no es apropiado para dicha función. Como hemos visto antes, la función `int(variable)` convierte una variable a entero. En el siguiente ejemplo, al intentar convertir una cadena a entero, obtenemos este error:"
   ]
  },
  {
   "cell_type": "code",
   "execution_count": 6,
   "metadata": {},
   "outputs": [
    {
     "ename": "ValueError",
     "evalue": "invalid literal for int() with base 10: 'Uno'",
     "output_type": "error",
     "traceback": [
      "\u001b[1;31m---------------------------------------------------------------------------\u001b[0m",
      "\u001b[1;31mValueError\u001b[0m                                Traceback (most recent call last)",
      "\u001b[1;32m<ipython-input-6-2dd1c70ea332>\u001b[0m in \u001b[0;36m<module>\u001b[1;34m()\u001b[0m\n\u001b[0;32m      1\u001b[0m \u001b[0ma\u001b[0m \u001b[1;33m=\u001b[0m \u001b[1;34m\"Uno\"\u001b[0m\u001b[1;33m\u001b[0m\u001b[0m\n\u001b[1;32m----> 2\u001b[1;33m \u001b[0ma_entero\u001b[0m \u001b[1;33m=\u001b[0m \u001b[0mint\u001b[0m\u001b[1;33m(\u001b[0m\u001b[0ma\u001b[0m\u001b[1;33m)\u001b[0m\u001b[1;33m\u001b[0m\u001b[0m\n\u001b[0m",
      "\u001b[1;31mValueError\u001b[0m: invalid literal for int() with base 10: 'Uno'"
     ]
    }
   ],
   "source": [
    "a = \"Uno\"\n",
    "a_entero = int(a)"
   ]
  },
  {
   "cell_type": "markdown",
   "metadata": {},
   "source": [
    "#### Excepción por división entre cero:  `ZeroDivisionError`\n",
    "Esta excepción ocurre cuando se intenta dividir entre cero. Ya que esta no es una operación válida. Lo podemos observar en el siguiente ejemplo:"
   ]
  },
  {
   "cell_type": "code",
   "execution_count": 7,
   "metadata": {},
   "outputs": [
    {
     "ename": "ZeroDivisionError",
     "evalue": "division by zero",
     "output_type": "error",
     "traceback": [
      "\u001b[1;31m---------------------------------------------------------------------------\u001b[0m",
      "\u001b[1;31mZeroDivisionError\u001b[0m                         Traceback (most recent call last)",
      "\u001b[1;32m<ipython-input-7-1f64a51b9e5f>\u001b[0m in \u001b[0;36m<module>\u001b[1;34m()\u001b[0m\n\u001b[0;32m      1\u001b[0m \u001b[0mdividendo\u001b[0m \u001b[1;33m=\u001b[0m \u001b[1;36m21\u001b[0m\u001b[1;33m\u001b[0m\u001b[0m\n\u001b[0;32m      2\u001b[0m \u001b[0mdivisor\u001b[0m \u001b[1;33m=\u001b[0m \u001b[1;36m0\u001b[0m\u001b[1;33m\u001b[0m\u001b[0m\n\u001b[1;32m----> 3\u001b[1;33m \u001b[0mresultado\u001b[0m \u001b[1;33m=\u001b[0m \u001b[0mdividendo\u001b[0m\u001b[1;33m/\u001b[0m\u001b[0mdivisor\u001b[0m\u001b[1;33m\u001b[0m\u001b[0m\n\u001b[0m",
      "\u001b[1;31mZeroDivisionError\u001b[0m: division by zero"
     ]
    }
   ],
   "source": [
    "dividendo = 21\n",
    "divisor = 0\n",
    "resultado = dividendo/divisor"
   ]
  },
  {
   "cell_type": "markdown",
   "metadata": {},
   "source": [
    "## Manejo de excepciones: `try except`\n",
    "Como vimos en los ejemplos anteriores, las excepciones ocurren hasta que se ejecuta el programa. Las excepciones comúnmente ocurrirán según los datos ingresados por el usuario (*e.g.,* cuando se le pide un número e introduce una letra, ingresa un 0 como divisor, etc.). Estos problemas se pueden capturar mientras se ejecuta nuestro programa, y se puede reaccionar acorde. Lo podemos lograr haciendo uso de las clausulas `try` y `except`. La documentación de Python nos dice que su forma de uso es la siguiente:\n",
    "\n",
    "```\n",
    "try:\n",
    "    # Bloque de código que se ejecuta si no hay un error.\n",
    "except AlgunaExcepcion:\n",
    "    ## Qué se debe hacer si se encuentra dicha excepción.\n",
    "```\n",
    "Dentro de `try` colocaremos el código que se ejecuta normalmente (por ejemplo, una división, asignación de variables, etc.), y dentro del `except` colocamos el código que se ejecutará si encontramos un error específico. Es importante que en el `except` coloquemos el tipo de error que estamos capturando.\n",
    "\n",
    "A continuación se presentan ejemplos de uso de `try except`"
   ]
  },
  {
   "cell_type": "markdown",
   "metadata": {},
   "source": [
    "### `NameError`"
   ]
  },
  {
   "cell_type": "code",
   "execution_count": 8,
   "metadata": {},
   "outputs": [
    {
     "name": "stdout",
     "output_type": "stream",
     "text": [
      "z no está definido aún\n",
      "\n",
      "Continúa el programa\n"
     ]
    }
   ],
   "source": [
    "zeta = \"Z\"\n",
    "try:\n",
    "    print(z)\n",
    "except NameError:\n",
    "    print(\"z no está definido aún\")\n",
    "\n",
    "print(\"\\nContinúa el programa\")"
   ]
  },
  {
   "cell_type": "markdown",
   "metadata": {},
   "source": [
    "### `TypeError`"
   ]
  },
  {
   "cell_type": "code",
   "execution_count": 9,
   "metadata": {},
   "outputs": [
    {
     "name": "stdout",
     "output_type": "stream",
     "text": [
      "t no es de tipo int\n",
      "\n",
      "Continúa el programa\n"
     ]
    }
   ],
   "source": [
    "t = \"10\"\n",
    "try:\n",
    "    print(t/2)\n",
    "except TypeError:\n",
    "    print(\"t no es de tipo int\")\n",
    "\n",
    "print(\"\\nContinúa el programa\")"
   ]
  },
  {
   "cell_type": "markdown",
   "metadata": {},
   "source": [
    "### `ValueError`"
   ]
  },
  {
   "cell_type": "code",
   "execution_count": 10,
   "metadata": {},
   "outputs": [
    {
     "name": "stdout",
     "output_type": "stream",
     "text": [
      "Introduce un número: rrr\n",
      "El valor ingresado no es un número\n",
      "\n",
      "Continúa el programa, puede volver a pedirse el número en caso que no sea entero\n"
     ]
    }
   ],
   "source": [
    "v = input(\"Introduce un número: \")\n",
    "try:\n",
    "    print(int(v))\n",
    "except ValueError:\n",
    "    print(\"El valor ingresado no es un número\")\n",
    "    \n",
    "print(\"\\nContinúa el programa, puede volver a pedirse el número en caso que no sea entero\")"
   ]
  },
  {
   "cell_type": "markdown",
   "metadata": {},
   "source": [
    "### `ZeroDivisionError`"
   ]
  },
  {
   "cell_type": "code",
   "execution_count": 11,
   "metadata": {},
   "outputs": [
    {
     "name": "stdout",
     "output_type": "stream",
     "text": [
      "Introduce un número: 0\n",
      "El divisor no puede ser cero.\n",
      "\n",
      "Continúa el programa, puede volver a pedirse el número en caso que sea cero\n"
     ]
    }
   ],
   "source": [
    "dividendo1 = 100\n",
    "divisor1 = input(\"Introduce un número: \")\n",
    "try:\n",
    "    resultado1 = int(dividendo1) / int(divisor1) \n",
    "    print(resultado1)\n",
    "except ZeroDivisionError:\n",
    "    print(\"El divisor no puede ser cero.\")\n",
    "    \n",
    "print(\"\\nContinúa el programa, puede volver a pedirse el número en caso que sea cero\")"
   ]
  },
  {
   "cell_type": "markdown",
   "metadata": {},
   "source": [
    "En estos ejemplos pudimos ver cómo manejar ciertas excepciones.\n",
    "\n",
    "¡Ahora es tu turno! Toma los ejemplos de excepciones mostrados anteriormente y agrega `try` y `except` como sea necesario para que no se interrumpa la ejecución. Asegúrate de mostrar mensajes al usuario que sean amigables e informativos sobre el problema ocurrido."
   ]
  },
  {
   "cell_type": "code",
   "execution_count": null,
   "metadata": {},
   "outputs": [],
   "source": [
    "a = 99\n",
    "if a == 100:\n",
    "    b = \"Texto\"\n",
    "print(b)"
   ]
  },
  {
   "cell_type": "code",
   "execution_count": null,
   "metadata": {},
   "outputs": [],
   "source": [
    "a = 10\n",
    "b = \"10\"\n",
    "print(a+b)"
   ]
  },
  {
   "cell_type": "code",
   "execution_count": null,
   "metadata": {},
   "outputs": [],
   "source": [
    "a = \"Uno\"\n",
    "a_entero = int(a)"
   ]
  },
  {
   "cell_type": "code",
   "execution_count": null,
   "metadata": {},
   "outputs": [],
   "source": [
    "dividendo = 21\n",
    "divisor = 0\n",
    "resultado = dividendo/divisor"
   ]
  },
  {
   "cell_type": "markdown",
   "metadata": {},
   "source": [
    "Si quieres más información acerca de errores y excepciones, puedes consultar los siguientes recursos:\n",
    "\n",
    "- https://docs.python.org/3/tutorial/errors.html\n",
    "- https://docs.python.org/3/library/exceptions.html\n",
    "- https://www.tutorialspoint.com/python3/python_exceptions.htm    \n",
    "- http://www.pythonforbeginners.com/error-handling/python-errors-and-exceptions/\n",
    "    "
   ]
  }
 ],
 "metadata": {
  "kernelspec": {
   "display_name": "Python 3",
   "language": "python",
   "name": "python3"
  },
  "language_info": {
   "codemirror_mode": {
    "name": "ipython",
    "version": 3
   },
   "file_extension": ".py",
   "mimetype": "text/x-python",
   "name": "python",
   "nbconvert_exporter": "python",
   "pygments_lexer": "ipython3",
   "version": "3.7.0"
  }
 },
 "nbformat": 4,
 "nbformat_minor": 2
}

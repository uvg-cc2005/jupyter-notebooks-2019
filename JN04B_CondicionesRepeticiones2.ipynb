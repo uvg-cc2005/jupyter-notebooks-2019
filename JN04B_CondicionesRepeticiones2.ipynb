{
 "cells": [
  {
   "cell_type": "markdown",
   "metadata": {},
   "source": [
    "## 'Looping' a través de una lista"
   ]
  },
  {
   "cell_type": "code",
   "execution_count": null,
   "metadata": {},
   "outputs": [],
   "source": [
    "# Pasando a través de cada elemento de una lista\n",
    "\n",
    "# Copia el siguiente código y ejecútalo paso a paso.\n",
    "notas = ['do', 're', 'mi', 'fa', 'sol']\n",
    "\n",
    "for nota in notas:  #¿Qué hace esta línea?\n",
    "    print(nota)\n",
    "    \n",
    "# ¿Cuál es el valor final de 'nota'?"
   ]
  },
  {
   "cell_type": "code",
   "execution_count": null,
   "metadata": {},
   "outputs": [],
   "source": [
    "# Errores de indentación\n",
    "# Error no. 1 - Olvidar identar\n",
    "\n",
    "# Copia el siguiente código y ejecútalo.\n",
    "\n",
    "notas = ['do', 're', 'mi', 'fa', 'sol']\n",
    "\n",
    "for nota in notas:\n",
    "print(nota)\n",
    "\n",
    "# ¿Encontraste algún error? ¿Cuál?"
   ]
  },
  {
   "cell_type": "markdown",
   "metadata": {},
   "source": [
    "## Trabajando con listas de números"
   ]
  },
  {
   "cell_type": "code",
   "execution_count": null,
   "metadata": {},
   "outputs": [],
   "source": [
    "# Función range(init, end)\n",
    "\n",
    "# Copia y ejecuta el siguiente código.\n",
    "\n",
    "for valor in range(0, 6):\n",
    "    print(valor)\n",
    "\n",
    "# ¿Qué hace la función range(0,6)?\n",
    "# Lee un poco sobre la función range y responde:\n",
    "# (1) ¿Qué parámetros acepta?\n",
    "# (2) ¿Deben los parámetros ser tipo 'integers' o 'float'?\n",
    "# (3) ¿Acepta valores positivos y negativos como parámetros?"
   ]
  },
  {
   "cell_type": "code",
   "execution_count": null,
   "metadata": {},
   "outputs": [],
   "source": [
    "# Crear una lista a partir de un rango de números\n",
    "\n",
    "# Copia y ejecuta el siguiente código.\n",
    "\n",
    "numbers_1 = range(0,6)\n",
    "numbers_2= list(range(0,6))\n",
    "\n",
    "print(numbers_1)\n",
    "print(numbers_2)\n",
    "\n",
    "# ¿Cuál es la diferencia entre numbers_1 y numbers_2?\n",
    "\n",
    "print(type(numbers_1))\n",
    "print(type(numbers_2))\n"
   ]
  },
  {
   "cell_type": "code",
   "execution_count": null,
   "metadata": {},
   "outputs": [],
   "source": [
    "# Crear rangos de números no secuenciales\n",
    "\n",
    "# Ejercicio No. 1\n",
    "# Imprime en pantalla una lista con los números pares de 1 a 100.\n",
    "# Puedes utilizar la función 'range()' para este fin.\n",
    "\n",
    "numeros_pares = list(range(1, 101, 2))\n",
    "print(numeros_pares)"
   ]
  },
  {
   "cell_type": "code",
   "execution_count": null,
   "metadata": {},
   "outputs": [],
   "source": [
    "# Ejercicio No. 2\n",
    "# Crea una lista con los cubos de los primeros 10 números naturales después del 0.\n",
    "\n",
    "cubos = []\n",
    "\n",
    "for valor in range(1,11):\n",
    "    valor = valor ** 3\n",
    "    cubos.append(valor)\n",
    "    \n",
    "print(cubos)\n",
    "\n",
    "# ¿Podríamos hacer este código más conciso?\n"
   ]
  },
  {
   "cell_type": "markdown",
   "metadata": {},
   "source": [
    "## Looping a través de una sección de una lista"
   ]
  },
  {
   "cell_type": "code",
   "execution_count": null,
   "metadata": {},
   "outputs": [],
   "source": [
    "# ¡Recordemos un poco cómo podemos partir listas!\n",
    "# Copia y ejecuta las siguientes líneas de código.\n",
    "\n",
    "planetas = ['mercurio', 'venus', 'tierra', 'marte', 'júpiter','saturno','urano','neptuno','pluton']\n",
    "print(planetas[0:3])  # ¿Qué hace esta línea?\n",
    "print(planetas[1:3])  # ¿Qué hace esta línea?\n",
    "print(planetas[:3])   # ¿Qué hace esta línea?\n",
    "print(planetas[3:])   # ¿Qué hace esta línea?"
   ]
  },
  {
   "cell_type": "code",
   "execution_count": null,
   "metadata": {},
   "outputs": [],
   "source": [
    "# Ejercicio No. 3\n",
    "# ¿Cómo imprimirías los nombres de los planetas del Sistema Solar que están después de la Tierra, de forma que cada\n",
    "# planeta quede escrito en una línea distinta? Impríme los nombres haciendo uso del ciclo 'for'.  Los planetas deben\n",
    "# ser escritos con la primera letra mayúscula."
   ]
  },
  {
   "cell_type": "code",
   "execution_count": null,
   "metadata": {},
   "outputs": [],
   "source": [
    "# Partiendo una lista\n",
    "\n",
    "jugadores = ['charles', 'martina', 'michael', 'florence', 'eli']\n",
    "print(jugadores[0:3])"
   ]
  },
  {
   "cell_type": "code",
   "execution_count": null,
   "metadata": {},
   "outputs": [],
   "source": [
    "# Obteniendo secciones de una lista\n",
    "\n",
    "jugadores = ['charles', 'martina', 'michael', 'florence', 'eli']\n",
    "print(jugadores[1:3])"
   ]
  },
  {
   "cell_type": "code",
   "execution_count": null,
   "metadata": {},
   "outputs": [],
   "source": [
    "# Si omitimos el primer número antes de los dos puntos, Python inicia desde el principio de la lista.\n",
    "\n",
    "jugadores = ['charles', 'martina', 'michael', 'florence', 'eli']\n",
    "print(jugadores[:3])"
   ]
  },
  {
   "cell_type": "code",
   "execution_count": null,
   "metadata": {},
   "outputs": [],
   "source": [
    "# Si omitimos el último número después de los dos puntos, Python llega sólo hasta el final de la lista.\n",
    "\n",
    "jugadores = ['charles', 'martina', 'michael', 'florence', 'eli']\n",
    "print(jugadores[3:])"
   ]
  },
  {
   "cell_type": "code",
   "execution_count": null,
   "metadata": {},
   "outputs": [],
   "source": [
    "# Podemos utilizar slices (rebanadas) dentro de un for loop.\n",
    "\n",
    "jugadores = ['charles', 'martina', 'michael', 'florence', 'eli']\n",
    "\n",
    "# Imprimir el nombre de los primeros tres jugadores de mi grupo.\n",
    "\n",
    "print(\"Estos son los jugadores de mi equipo: \\n\")\n",
    "for jugador in jugadores[:3]:\n",
    "    print(jugador.title())"
   ]
  },
  {
   "cell_type": "markdown",
   "metadata": {},
   "source": [
    "### Utilizando múltiples listas"
   ]
  },
  {
   "cell_type": "code",
   "execution_count": null,
   "metadata": {},
   "outputs": [],
   "source": [
    "# Estás trabajando en un pizzería.  El siguiente extracto de código muestra cómo se gestionan los toppings\n",
    "# que se añaden a las pizzas.  \n",
    "# Copia el código y ejecútalo paso a paso.  Responde las preguntas que se te indican.\n",
    "\n",
    "# Aquí están los toppings que tienen disponibles durante el día.\n",
    "toppings_disponibles = ['champiñones', 'aceitunas','jalapeños',\n",
    "                       'pepperoni', 'piña', 'queso extra']\n",
    "\n",
    "# Estos son los toppings que el cliente seleccionó para agregar a su pizza.\n",
    "toppings_solicitados = ['champiñones', 'papas fritas', 'queso extra']\n",
    "\n",
    "for topping_solicitado in toppings_solicitados: # ¿Qué hace esta línea?\n",
    "    if topping_solicitado in toppings_disponibles: # ¿Qué hace esta línea?\n",
    "        print('Agregando ' + topping_solicitado + ' a su pizza.')\n",
    "    else:\n",
    "        print('Lo sentimos, no podemos agregar ' + topping_solicitado + ' a su pizza.')\n",
    "        \n",
    "print('\\n¡Su pizza está lista!')\n",
    "\n",
    "# Modifica este código para que se incluya en pantalla un listado de los toppings agregados y de los toppings \n",
    "# que no estaban disponibles.  Esta información debe imprimirse después que se dice que la pizza está lista."
   ]
  },
  {
   "cell_type": "markdown",
   "metadata": {},
   "source": [
    "## Iterando a través de un diccionario"
   ]
  },
  {
   "cell_type": "code",
   "execution_count": null,
   "metadata": {},
   "outputs": [],
   "source": [
    "# Iterando a través de todas las pareja 'key-value'.\n",
    "\n",
    "# A continuación se te muestra una sección de código que describe cómo un sitio \n",
    "# web almacena información de sus usuarios.\n",
    "# Copia y ejecuta el código.\n",
    "\n",
    "user_0 = {\n",
    "    'username':'aeinstein',\n",
    "    'first': 'albert',\n",
    "    'last':'einstein',\n",
    "}\n",
    "\n",
    "print(user_0.items()) # ¿Qué hace esta línea?\n",
    "\n",
    "for key, value in user_0.items(): # ¿Qué hace esta línea?\n",
    "    print(\"\\nKey:\", key)\n",
    "    print(\"Value:\", value)\n",
    "    \n",
    "# ¿Cuál es el valor final de la variable 'key'?\n",
    "# ¿Cuál es el valor final de la variable 'value'?"
   ]
  },
  {
   "cell_type": "code",
   "execution_count": null,
   "metadata": {},
   "outputs": [],
   "source": [
    "# Iterando a través de todos los 'keys' de un diccionario.\n",
    "\n",
    "# Copia y ejecuta el siguiente código.\n",
    "user_0 = {\n",
    "    'username':'aeinstein',\n",
    "    'first': 'albert',\n",
    "    'last':'einstein',\n",
    "}\n",
    "\n",
    "for atributo in user_0.keys(): #¿Qué indica esta instrucción?\n",
    "    print(atributo)\n",
    "\n",
    "# ¿Cuál es el valor final de la variable 'atributo'?"
   ]
  },
  {
   "cell_type": "code",
   "execution_count": null,
   "metadata": {},
   "outputs": [],
   "source": [
    "# En el código del ejercicio anterior, sustituye el 'ciclo for' con lo siguiente.\n",
    "\n",
    "for atributo in user_0:\n",
    "    print(atributo)\n",
    "    \n",
    "# ¿Fue distinto tu resultado?  \n",
    "# ¿Cuál sería tu conclusión?"
   ]
  },
  {
   "cell_type": "code",
   "execution_count": null,
   "metadata": {},
   "outputs": [],
   "source": [
    "# ¡¡¡EXTRA!!!\n",
    "# Seguimos iterando a través de los keys de un diccionario.\n",
    "# Copia y ejecuta el siguiente código.  Responde las preguntas conforme se te indica.\n",
    "\n",
    "artistas_favoritos = {\n",
    "    'paul':'jarabe de palo',\n",
    "    'john':'tool',\n",
    "    'ringo':'foo fighters',\n",
    "    'george':'isabel pantoja',\n",
    "}\n",
    "\n",
    "amigos = ['paul', 'john'] \n",
    "\n",
    "for nombre in artistas_favoritos.keys(): # ¿Qué hace esta línea?\n",
    "    print(nombre.title())\n",
    "    \n",
    "    if nombre in amigos: # ¿Qué hace esta línea?\n",
    "        print(\"Hola \" + nombre.title() +\n",
    "             \", veo que tu artista favorito es \" +\n",
    "             artistas_favoritos[nombre].title() + \"!\\n\")\n",
    "\n",
    "# ¿Por qué para Ringo y George no se imprime quién es su artista favorito?"
   ]
  },
  {
   "cell_type": "code",
   "execution_count": null,
   "metadata": {},
   "outputs": [],
   "source": [
    "# Ordenando los ítems de un diccionario en función de sus keys.\n",
    "\n",
    "artistas_favoritos = {\n",
    "    'paul':'jarabe de palo',\n",
    "    'john':'tool',\n",
    "    'ringo':'foo fighters',\n",
    "    'george':'isabel pantoja',\n",
    "}\n",
    "\n",
    "for nombre in sorted(artistas_favoritos.keys()):\n",
    "    print(nombre.title())"
   ]
  },
  {
   "cell_type": "code",
   "execution_count": null,
   "metadata": {},
   "outputs": [],
   "source": [
    "# Iterando a través de un diccionario en función de sus valores.\n",
    "\n",
    "# Copia y ejecuta el siguiente código.\n",
    "\n",
    "lenguajes_favoritos = {\n",
    "    'josé':'python',\n",
    "    'sofía': 'c',\n",
    "    'eduardo':'ruby',\n",
    "    'guillermo':'python',\n",
    "}\n",
    "\n",
    "print(\"Los siguientes lenguajes se han mencionado: \")\n",
    "for lenguaje in lenguajes_favoritos.values(): # ¿Qué hace esta línea?\n",
    "    print(lenguaje.title())\n",
    "\n",
    "# ¿Cuál es el valor final de la variable 'lenguaje'?\n",
    "    \n",
    "# Iterar sin colocar elementos repetidos.\n",
    "#print(\"Los siguientes lenguajes se han mencionado: \")\n",
    "#for lenguaje in set(lenguajes_favoritos.values()):\n",
    "#    print(lenguaje.title())"
   ]
  },
  {
   "cell_type": "code",
   "execution_count": null,
   "metadata": {},
   "outputs": [],
   "source": [
    "lenguajes_favoritos = {\n",
    "    'josé':'python',\n",
    "    'sofía': 'c',\n",
    "    'eduardo':'ruby',\n",
    "    'guillermo':'python',\n",
    "}\n",
    "\n",
    "print(\"Los siguientes lenguajes se han mencionado: \")\n",
    "for lenguaje in set(lenguajes_favoritos.values()):\n",
    "    print(lenguaje.title())"
   ]
  },
  {
   "cell_type": "code",
   "execution_count": null,
   "metadata": {},
   "outputs": [],
   "source": [
    "# Creando diccionarios dentro de diccionarios.\n",
    "\n",
    "# Copia y ejecuta el siguiente código.\n",
    "\n",
    "usuarios = {\n",
    "    'aeinstein':{\n",
    "        'first':'albert',\n",
    "        'last':'einstein',\n",
    "        'area':'physics'\n",
    "    },\n",
    "    'mcurie':{\n",
    "        'first':'marie',\n",
    "        'last':'curie',\n",
    "        'area':'physics'\n",
    "    },\n",
    "}\n",
    "\n",
    "for usuario, detalles in usuarios.items():  # ¿Qué hace esta línea?\n",
    "    print(\"\\nEl usuario \" + usuario + \" tiene las siguientes características:\")\n",
    "    for detalle, valor in detalles.items():\n",
    "        print(detalle.title() + \": \" + valor)\n",
    "        \n",
    "# ¿Cuál es el valor final de usuario y detalles?"
   ]
  },
  {
   "cell_type": "markdown",
   "metadata": {},
   "source": [
    "### Excepciones"
   ]
  },
  {
   "cell_type": "code",
   "execution_count": null,
   "metadata": {},
   "outputs": [],
   "source": [
    "# Copia y ejecuta la siguiente instrucción\n",
    "\n",
    "print(5/0)\n",
    "\n",
    "# ¿Qué resultado te da?\n",
    "# La línea que empieza con el 'ZeroDivisionError' nos dice el tipo de error o 'Excepción' que se obtuvo\n",
    "# al ejecutar el código.  En el siguiente ejercicio haremos algo para que Python no 'se pegue un tiro' \n",
    "# al encontrar algo que no puede ejecutarse."
   ]
  },
  {
   "cell_type": "code",
   "execution_count": null,
   "metadata": {},
   "outputs": [],
   "source": [
    "# Copia y ejecuta el siguiente código.\n",
    "\n",
    "try:\n",
    "    print(5/0)\n",
    "except ZeroDivisionError:\n",
    "    print(\"¡No podemos dividir entre cero!\")\n",
    "    \n",
    "# Explica cómo funciona este programa.  \n",
    "# ¿Cuándo se ejecuta lo que está en el bloque 'try'.\n",
    "# ¿Cuándo se ejecuta lo que está en el bloque 'except'."
   ]
  },
  {
   "cell_type": "code",
   "execution_count": null,
   "metadata": {},
   "outputs": [],
   "source": [
    "# Vamos a ir haciendo modificaciones al código del ejercicio previo.\n",
    "# Copia y ejecuta los códigos paso a paso para observar qué pasa.\n",
    "\n",
    "try:\n",
    "    print(5/0)\n",
    "except ZeroDivisionError:\n",
    "    pass\n",
    "\n",
    "# ¿Qué se imprimió en pantalla?\n",
    "# ¿Qué hace la línea con la instrucción 'pass'?"
   ]
  },
  {
   "cell_type": "code",
   "execution_count": null,
   "metadata": {},
   "outputs": [],
   "source": [
    "# Copia y ejecuta el código paso a paso.\n",
    "\n",
    "try:\n",
    "    print(5/0)\n",
    "except Exception: # ¿Qué significa la palabra 'Exception' en este caso?\n",
    "    print(\"¡No podemos dividir entre cero!\")\n",
    "\n",
    "# Podemos utilizar 'Exception' cuando queremos atrapar todas las excepciones o desconocemos\n",
    "# con especificidad las que van a salir."
   ]
  },
  {
   "cell_type": "code",
   "execution_count": null,
   "metadata": {},
   "outputs": [],
   "source": [
    "# Copia y ejecuta el código paso a paso.\n",
    "\n",
    "try:\n",
    "    print(5/0)\n",
    "except Exception as problem: \n",
    "    print(\"El problema es:\", problem)\n",
    "    print(\"¡No podemos dividir entre cero!\")\n",
    "\n",
    "    # ¿Qué valor adquiere la variable 'problem'."
   ]
  },
  {
   "cell_type": "code",
   "execution_count": null,
   "metadata": {},
   "outputs": [],
   "source": [
    "# Copia y ejecuta el código paso a paso.\n",
    "\n",
    "try:\n",
    "    respuesta = 10/2\n",
    "except Exception as problem:\n",
    "    print(\"El problema es:\", problem)\n",
    "    print(\"¡No podemos dividir entre cero!\")\n",
    "else:\n",
    "    print(\"El resultado de la división es: \", respuesta)\n",
    "\n",
    "# ¿Qué hace la sección 'else' del bloque? ¿Cuándo se ejecuta?"
   ]
  }
 ],
 "metadata": {
  "kernelspec": {
   "display_name": "Python 3",
   "language": "python",
   "name": "python3"
  },
  "language_info": {
   "codemirror_mode": {
    "name": "ipython",
    "version": 3
   },
   "file_extension": ".py",
   "mimetype": "text/x-python",
   "name": "python",
   "nbconvert_exporter": "python",
   "pygments_lexer": "ipython3",
   "version": "3.7.1"
  }
 },
 "nbformat": 4,
 "nbformat_minor": 2
}

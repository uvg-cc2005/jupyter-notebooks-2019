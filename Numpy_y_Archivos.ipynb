{
  "nbformat": 4,
  "nbformat_minor": 0,
  "metadata": {
    "kernelspec": {
      "display_name": "Python 3",
      "language": "python",
      "name": "python3"
    },
    "language_info": {
      "codemirror_mode": {
        "name": "ipython",
        "version": 3
      },
      "file_extension": ".py",
      "mimetype": "text/x-python",
      "name": "python",
      "nbconvert_exporter": "python",
      "pygments_lexer": "ipython3",
      "version": "3.7.3"
    },
    "colab": {
      "name": "Numpy_y_Archivos.ipynb",
      "provenance": []
    }
  },
  "cells": [
    {
      "cell_type": "markdown",
      "metadata": {
        "id": "cG_1kACb1dK2",
        "colab_type": "text"
      },
      "source": [
        "# Uso de NumPy para leer archivos\n",
        "\n",
        "Es posible usar el módulo NumPy para leer archivos .csv, o de otros tipos, y cargarlos directamente en arreglos.  Esto se puede hacer utilizando la función _**numpy.genfromtxt**_.  En este ejercicio lo utilizaremos para leer los datos en un archivo _clásico_ del repositorio **UCI Machine Learning Repository** llamado _winequality-red.csv_ que tiene datos sobre vinos rojos.\n",
        "\n",
        "En el código de abajo, se hace lo siguiente:\n",
        "\n",
        "1. Usar la función _genfromtxt_ para leer los datos del archivo _winequality-red.csv_.\n",
        "2. Especificar el argumento _delimiter=\";\"_ para separar los campos correctamente.\n",
        "3. Especificar el argumento _skip_header=1_ para brincar la primera fila (las etiquetas de los campos).\n",
        "\n",
        "NumPy automaticamente escogerá un tipo de dato para los elementos en el arreglo, basado en su formato."
      ]
    },
    {
      "cell_type": "code",
      "metadata": {
        "id": "aYStFu8r1dK9",
        "colab_type": "code",
        "colab": {}
      },
      "source": [
        "import numpy as np\n",
        "\n",
        "vinos = np.genfromtxt(\"winequality-red.csv\", delimiter=\";\", skip_header=1)\n",
        "\n",
        "vinos"
      ],
      "execution_count": 0,
      "outputs": []
    },
    {
      "cell_type": "markdown",
      "metadata": {
        "id": "oMu-lcXZ1dLe",
        "colab_type": "text"
      },
      "source": [
        "# Uso de Numpy para Guardar Archivos .csv\n",
        "\n",
        "También podemos guardar arreglos Numpy en archivos .csv\n",
        "Veremos cómo guardar arreglos Numpy de 1D y 2D en archivos .csv, con y sin encabezados y notas de pié.\n",
        "\n",
        "__numpy.savetxt()__\n",
        "\n",
        "El módulo de Numpy provee una función para guardar arreglos Numpy a un archvo de texto con delimitadores y otras opciones \"adhoc\" i.e.\n",
        "\n",
        "__numpy.savetxt(fname, arr, fmt='%.18e', delimiter=' ', newline='\\n', header='', footer='', comments='# ', encoding=None)__\n",
        "\n",
        "### Argumentos:\n",
        "- __arr__ : arrego Numpy 1D o 2D (a ser gurdado)\n",
        "- __fmt__ : Un patron de formato, o secuemcias de formatos, que se usarán para guardar elementos en el archivo.\n",
        "    - Si se usa un formateador único como ‘%d’ entonces será aplicado a todos los elementos.\n",
        "    - En el caso de arregos 2D una lista especificadora i.e. diferente para cada columna. (Optional)\n",
        "- __delimiter__ : Cadena o caracter a ser utilizado como separador de elementos (Optional)\n",
        "- __newline__ : Cadena o caracter a usarse como separador de líneas (Optional)\n",
        "- __header__ : Cadena a ser escrita al inicio del archivo de texto.\n",
        "- __footer__ : Cadena a ser escrita al final del archivode texto.\n",
        "- __comments__ : Marcador \"adhoc\" de comentarios, el default es ‘#’. Será puesto como prefijo al header y footer.\n",
        "\n",
        "Utilicemos esto para guardar arreglos Numpy 1D y 2D en un archivo csv.\n",
        "\n",
        "## Guardar un arreglo Numpy a un archivo CSV utilizando numpy.savetxt()\n",
        "Recuerde que el módulo numpy debe haber sido importado antes\n",
        "\n"
      ]
    },
    {
      "cell_type": "code",
      "metadata": {
        "id": "EfFhHEEe1dLi",
        "colab_type": "code",
        "colab": {}
      },
      "source": [
        "# Crear un arreglo Numpy 1D a partir de una lista de números\n",
        "arreglo = np.array([6, 1, 4, 2, 18, 9, 3, 4, 2, 8, 11])\n",
        "print('Arreglo Original: ', arreglo)"
      ],
      "execution_count": 0,
      "outputs": []
    },
    {
      "cell_type": "code",
      "metadata": {
        "id": "5zjozIg21dLv",
        "colab_type": "code",
        "colab": {}
      },
      "source": [
        "# Guardar arreglo Numpy en archivo csv\n",
        "np.savetxt('arreglo.csv', [arreglo], delimiter=',', fmt='%d')"
      ],
      "execution_count": 0,
      "outputs": []
    },
    {
      "cell_type": "markdown",
      "metadata": {
        "id": "Yz_qiXwY1dL5",
        "colab_type": "text"
      },
      "source": [
        "Se usó el delimitador ‘,’ para hacerlo en formato csv. También se pasó la cadena de formato ‘%d’, para que guarde los elementos como integer. El default es almacenar números en formato float. También debe notarse que si no se encierra el arreglo numpy por estos [ ] i.e. convertirlo a una lista para pasarlo a numpy.savetxt(), entoces el delimitador de coma no funcionará, ya que utilizará el delimitador ‘\\n’ por default. Así que envolver el arreglo por [ ] es obligatorio i.e. [arr].\n",
        "\n",
        "## Guardar un arreglo Numpy 1D en un archivo csv con Header (Encabezado) y Footer (Nota de Pié)\n",
        "\n",
        "Si se desea agregar comentarios al encabezado y a la nota de pié, al guardar el archivo .csv, se pueden usar los parámetros header y footer i.e."
      ]
    },
    {
      "cell_type": "code",
      "metadata": {
        "id": "vF9Pov5G1dL8",
        "colab_type": "code",
        "colab": {}
      },
      "source": [
        "# Guardar arreglo Numpy a csv con encabezado y nota de pié\n",
        "np.savetxt('arreglo_ep.csv', [arreglo], delimiter=',', fmt='%d' , header='Ejemplo de arreglo Numpy 2D :: Encabezado', footer='Esta es la nota de pié')"
      ],
      "execution_count": 0,
      "outputs": []
    },
    {
      "cell_type": "markdown",
      "metadata": {
        "id": "IdukhySR1dMF",
        "colab_type": "text"
      },
      "source": [
        "Por default los commentarios en ambos header y footer serán precedidos por ‘#’. Si se quiere cambiar esto, se puede pasar el parámetro comments de esta forma comments=’@’\n",
        "\n",
        "## Guardar un arreglo Numpy 2D a un archivo CSV"
      ]
    },
    {
      "cell_type": "code",
      "metadata": {
        "id": "tgTmWfJ81dMI",
        "colab_type": "code",
        "colab": {}
      },
      "source": [
        "# Crear a arreglo Numpy 2D lista de listas\n",
        "arreglo2D = np.array([[11, 12, 13, 22], [21, 7, 23, 14], [31, 10, 33, 7]])\n",
        "print('Arreglo Numpy 2D')\n",
        "print(arreglo2D)\n",
        "\n",
        "# Guardar arreglo Numpy 2D en un archivo csv\n",
        "np.savetxt('arreglo2D.csv', arreglo2D, delimiter=',', fmt='%d')"
      ],
      "execution_count": 0,
      "outputs": []
    },
    {
      "cell_type": "markdown",
      "metadata": {
        "id": "GH0TUf_Y1dMT",
        "colab_type": "text"
      },
      "source": [
        "También, en vez de guardar un arreglo Numpy 2D completo, si queremos podemos guardar solo una, o múltiples, columnas o filas.\n",
        "\n",
        "## Guardar una columna de un arreglo Numpy 2D a un archivo cvs"
      ]
    },
    {
      "cell_type": "code",
      "metadata": {
        "id": "-tj3iVH71dMV",
        "colab_type": "code",
        "colab": {}
      },
      "source": [
        "# Guardar la 2nda columna de un arreglo Numpy 2D a un archivo csv\n",
        "np.savetxt('arreglo2D_columna.csv', [arreglo2D[:,1]], delimiter=',', fmt='%d')"
      ],
      "execution_count": 0,
      "outputs": []
    },
    {
      "cell_type": "markdown",
      "metadata": {
        "id": "3-99kJWM1dMg",
        "colab_type": "text"
      },
      "source": [
        "## Guardar una fila de un arreglo Numpy 2D en un archivo csv"
      ]
    },
    {
      "cell_type": "code",
      "metadata": {
        "id": "duHLdGt21dMk",
        "colab_type": "code",
        "colab": {}
      },
      "source": [
        "# Guardar la 2nda fila de un arreglo Numpy 2D a un archivo csv\n",
        "np.savetxt('arreglo2D_fila.csv', [arreglo2D[1] ], delimiter=',', fmt='%d')"
      ],
      "execution_count": 0,
      "outputs": []
    },
    {
      "cell_type": "markdown",
      "metadata": {
        "id": "5lZSBuVz1dMx",
        "colab_type": "text"
      },
      "source": [
        "## Guardar un archivo Numpy estructurado en un archivo csv utilizando una lista de opciones de formato\n",
        "\n",
        "Crearémos un arreglo numpy estructurado en el que cada elemento en el arreglo contenga un string, float e integer i.e."
      ]
    },
    {
      "cell_type": "code",
      "metadata": {
        "id": "xnAgaUzQ1dMz",
        "colab_type": "code",
        "colab": {}
      },
      "source": [
        "# Crear el tipo de la estructura\n",
        "tipo_dato = [('Nombre', (np.str_, 10)), ('Notas', np.float64), ('Grado', np.int32)]\n",
        "\n",
        "# Crear un arreglo Numpy estructurado\n",
        "arreglo_estructurado = np.array([('Pedro', 33.3, 3), ('Maria', 44.4, 5), ('Juan', 66.6, 6), ('Rosa', 88.8, 7)], dtype=tipo_dato)\n",
        "print(arreglo_estructurado)\n",
        "\n",
        "# Guardar arreglo Numpy estructurado en archivo csv\n",
        "np.savetxt('arreglo_estructurado.csv', arreglo_estructurado, delimiter=',', fmt=['%s' , '%f', '%d'], header='Nombre,Notas,Grado', comments='')"
      ],
      "execution_count": 0,
      "outputs": []
    },
    {
      "cell_type": "code",
      "metadata": {
        "id": "KYLXxGQ41dM8",
        "colab_type": "code",
        "colab": {}
      },
      "source": [
        ""
      ],
      "execution_count": 0,
      "outputs": []
    }
  ]
}
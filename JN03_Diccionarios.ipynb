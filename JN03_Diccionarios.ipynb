{
 "cells": [
  {
   "cell_type": "markdown",
   "metadata": {},
   "source": [
    "# Diccionarios"
   ]
  },
  {
   "cell_type": "markdown",
   "metadata": {},
   "source": [
    "Bienvenido a la hoja de trabajo de diccionarios. En esta hoja de trabajo usted podrá editar el código de las diferentes celdas y ejecutarlo al presionar **Ctrl + Enter**.\n",
    "\n",
    "Modifique el siguiente código para hacer la prueba."
   ]
  },
  {
   "cell_type": "code",
   "execution_count": null,
   "metadata": {},
   "outputs": [],
   "source": [
    "nombre = \"\"\n",
    "carnet = \"\"\n",
    "\n",
    "print(\"Nombre: \", nombre, \" Carnet: \", carnet)"
   ]
  },
  {
   "cell_type": "markdown",
   "metadata": {},
   "source": [
    "Si recordamos las listas nos permiten tener una colección ordenada de elementos y poder acceder a ellos por medio de su índice. Por ejemplo, la siguiente es una lista de temperaturas máximas de la ciudad de Guatemala para esta semana."
   ]
  },
  {
   "cell_type": "code",
   "execution_count": null,
   "metadata": {},
   "outputs": [],
   "source": [
    "temperaturas = [27, 26, 24, 23, 24, 26, 24]"
   ]
  },
  {
   "cell_type": "markdown",
   "metadata": {},
   "source": [
    "Podemos poner las temperaturas en orden y decidir que el índice 0 corresponde al día lunes, el índice 1 al día martes y así sucesivamente.\n",
    "\n",
    "Si quisieramos por ejemplo la temperatura máxima del día miércoles la podríamos obtener de la siguiente manera"
   ]
  },
  {
   "cell_type": "code",
   "execution_count": null,
   "metadata": {},
   "outputs": [],
   "source": [
    "temperaturas = [27, 26, 24, 23, 24, 26, 24]\n",
    "#0 es lunes, 1 es martes, 2 es miércoles\n",
    "print(\"Temp para Miercoles: \", temperaturas[2], \"°C\")"
   ]
  },
  {
   "cell_type": "markdown",
   "metadata": {},
   "source": [
    "Las listas son bastante útiles cuando tenemos que hacer cálculos, encontrar el máximo, mínimo o mostrar la información en orden. Pero otras veces nos conviene más **referirnos a la información por un nombre o una clave y no por un índice**. En este caso podemos usar diccionarios."
   ]
  },
  {
   "cell_type": "code",
   "execution_count": null,
   "metadata": {},
   "outputs": [],
   "source": [
    "#Un diccionario vacío se crea con una llave que abre y otra que cierra\n",
    "poblacion_paises = {}  \n",
    "#Se agrega un elemento al diccionario de esta manera\n",
    "poblacion_paises[\"Guatemala\"] = 16.5"
   ]
  },
  {
   "cell_type": "markdown",
   "metadata": {},
   "source": [
    "En la siguiente celda agregue la información de población para los siguientes países (en millones de habitantes). Utilice como guía el ejemplo que se proporciona.\n",
    "\n",
    "- Guatemala: 16.5\n",
    "- Mexico: 127.5\n",
    "- EEUU: 322.2\n",
    "- Brasil: 207.6\n",
    "\n",
    "**Presione Ctrl + Enter para ejecutar el código**"
   ]
  },
  {
   "cell_type": "code",
   "execution_count": null,
   "metadata": {},
   "outputs": [],
   "source": [
    "#diccionario vacio\n",
    "poblacion_paises = {}\n",
    "\n",
    "\n",
    "poblacion_paises[\"Guatemala\"] = 16.5\n",
    "#agregue la informacion de poblaciones para los otros paises\n",
    "poblacion_paises[] =  \n",
    "poblacion_paises[] = \n",
    "poblacion_paises[] =  \n",
    "\n",
    "#se imprime el diccionario\n",
    "print(poblacion_paises)"
   ]
  },
  {
   "cell_type": "markdown",
   "metadata": {},
   "source": [
    "Si ejecutó el código de la celda anterior sin problemas podrá notar la sintaxis del diccionario. Un diccionario está entre llaves {} y tiene sus elementos separados por comas. **Cada elemento tiene dos partes**, que se llaman **clave** y **valor**, estos dos elementos están separados por **dos puntos**. \n",
    "\n",
    "Si deseamos crear un diccionario que ya contenga algunos elementos predefinidos, lo podemos hacer de la siguiente manera:"
   ]
  },
  {
   "cell_type": "code",
   "execution_count": null,
   "metadata": {},
   "outputs": [],
   "source": [
    "#Los elementos del diccionario están compuestos por clave o llave y valor\n",
    "estudiantes = {\n",
    "    '17115': 'Marta Garcia', \n",
    "    '17345': 'Pablo Gomez', \n",
    "    '17654': 'Lorena Quezada'\n",
    "}\n",
    "\n",
    "#Accedemos a los elementos indicando la clave\n",
    "print(estudiantes['17345'])\n",
    "#Note que al hacer la referencia segun la clave se imprime solo el valor"
   ]
  },
  {
   "cell_type": "markdown",
   "metadata": {},
   "source": [
    "En los diccionarios no existe la función append(), solo se pueden agregar nuevos elementos haciendo la asignación a la referencia del nuevo elemento, referenciado por la clave.  Modifique el siguiente código para agregar dos nuevos estudiantes:"
   ]
  },
  {
   "cell_type": "code",
   "execution_count": null,
   "metadata": {},
   "outputs": [],
   "source": [
    "estudiantes['17487'] = 'Carlos Barrera'\n",
    "estudiantes.append('17546', 'Liliana Véliz')"
   ]
  },
  {
   "cell_type": "markdown",
   "metadata": {},
   "source": [
    "Se puede modificar el valor de un elemento del diccionario al actualizar la referencia a una llave específica"
   ]
  },
  {
   "cell_type": "code",
   "execution_count": null,
   "metadata": {},
   "outputs": [],
   "source": [
    "estudiantes['17546'] = 'Liliana Vasquez'"
   ]
  },
  {
   "cell_type": "markdown",
   "metadata": {},
   "source": [
    "Podemos eliminar un elemento del diccionario utilizando *del*"
   ]
  },
  {
   "cell_type": "code",
   "execution_count": null,
   "metadata": {},
   "outputs": [],
   "source": [
    "del estudiantes['17546']\n",
    "print(estudiantes)"
   ]
  },
  {
   "cell_type": "markdown",
   "metadata": {},
   "source": [
    "Al igual que con las listas podemos utilizar **in** para saber si existe un elemento en el diccionario. En este caso se realiza la revisión tomando en cuenta únicamente las claves"
   ]
  },
  {
   "cell_type": "code",
   "execution_count": null,
   "metadata": {},
   "outputs": [],
   "source": [
    "carnet = '17115'\n",
    "if carnet in estudiantes:\n",
    "    print('El estudiante', carnet,  'si está en el diccionario')\n",
    "else:\n",
    "    print('El estudiante', carnet,  'no está en el diccionario')"
   ]
  },
  {
   "cell_type": "markdown",
   "metadata": {},
   "source": [
    "Modifique el código anterior para probar con un estudiante que no se encuentre en el diccionario. Presione Ctrl + Enter para ejecutar el código de la celda"
   ]
  },
  {
   "cell_type": "markdown",
   "metadata": {},
   "source": [
    "Si deseamos realizar una operación sobre todos los elementos del diccionario podemos hacerlo utilizando un for. Si utilizamos la sintaxis for elemento in diccionario, el for iterara sobre las llaves del diccionario, como puede ver en el siguiente ejemplo:"
   ]
  },
  {
   "cell_type": "code",
   "execution_count": null,
   "metadata": {},
   "outputs": [],
   "source": [
    "#Ciclo que itera sobre las llaves del diccionario\n",
    "for e in estudiantes:\n",
    "    print(e)"
   ]
  },
  {
   "cell_type": "markdown",
   "metadata": {},
   "source": [
    "Modifique el siguiente código para que el ciclo muestre la clave y el valor para cada elemento "
   ]
  },
  {
   "cell_type": "code",
   "execution_count": null,
   "metadata": {},
   "outputs": [],
   "source": [
    "for e in estudiantes:\n",
    "    print(e, \" \", estudiantes[])"
   ]
  },
  {
   "cell_type": "markdown",
   "metadata": {},
   "source": [
    "Podemos obtener las llaves de un diccionario con la función keys(), los valores con la función values() y los items completos con la función items()"
   ]
  },
  {
   "cell_type": "code",
   "execution_count": null,
   "metadata": {},
   "outputs": [],
   "source": [
    "print(\"Imprimiento llaves\")\n",
    "print (estudiantes.keys())"
   ]
  },
  {
   "cell_type": "code",
   "execution_count": null,
   "metadata": {},
   "outputs": [],
   "source": [
    "print(\"Imprimiendo valores\")\n",
    "print(estudiantes.values())"
   ]
  },
  {
   "cell_type": "code",
   "execution_count": null,
   "metadata": {},
   "outputs": [],
   "source": [
    "print(\"Imprimiendo items\")\n",
    "print(estudiantes.items())"
   ]
  },
  {
   "cell_type": "markdown",
   "metadata": {},
   "source": [
    "Podemos hacer un ciclo que itere sobre los valores del diccionario utilizando la función items, para obtener llave y valor al mismo tiempo"
   ]
  },
  {
   "cell_type": "code",
   "execution_count": null,
   "metadata": {},
   "outputs": [],
   "source": [
    "for carnet, nombre in estudiantes.items():\n",
    "    print(carnet, \" \", nombre)"
   ]
  },
  {
   "cell_type": "markdown",
   "metadata": {},
   "source": [
    "Modifique el siguiente código para que muestre los nombres de países y poblaciones utilizando un for y la función items"
   ]
  },
  {
   "cell_type": "code",
   "execution_count": null,
   "metadata": {},
   "outputs": [],
   "source": [
    "for pais, poblacion in poblacion_paises:\n",
    "    print (pais, 'tiene ', poblacion, ' millones de habitantes')"
   ]
  },
  {
   "cell_type": "markdown",
   "metadata": {},
   "source": [
    "## ¡Buen trabajo!"
   ]
  }
 ],
 "metadata": {
  "kernelspec": {
   "display_name": "Python 3",
   "language": "python",
   "name": "python3"
  },
  "language_info": {
   "codemirror_mode": {
    "name": "ipython",
    "version": 3
   },
   "file_extension": ".py",
   "mimetype": "text/x-python",
   "name": "python",
   "nbconvert_exporter": "python",
   "pygments_lexer": "ipython3",
   "version": "3.6.4"
  }
 },
 "nbformat": 4,
 "nbformat_minor": 2
}

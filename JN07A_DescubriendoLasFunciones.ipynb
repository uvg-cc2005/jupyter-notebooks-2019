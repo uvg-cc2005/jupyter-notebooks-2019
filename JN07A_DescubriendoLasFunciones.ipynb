{
 "cells": [
  {
   "cell_type": "markdown",
   "metadata": {},
   "source": [
    "## DEFINICIÓN DE UNA FUNCIÓN "
   ]
  },
  {
   "cell_type": "code",
   "execution_count": 25,
   "metadata": {},
   "outputs": [
    {
     "name": "stdout",
     "output_type": "stream",
     "text": [
      "Hello!\n",
      "Mostrar un saludo simple.\n"
     ]
    }
   ],
   "source": [
    "def saludar_usuario():\n",
    "    \"\"\"Mostrar un saludo simple.\"\"\" #docstring - Descripción de o que hace la función.\n",
    "    print(\"Hello!\")\n",
    "    \n",
    "saludar_usuario() # Llamada a la función\n",
    "print(saludar_usuario.__doc__) # Imprimiendo la descripción de la función"
   ]
  },
  {
   "cell_type": "code",
   "execution_count": 24,
   "metadata": {},
   "outputs": [
    {
     "name": "stdout",
     "output_type": "stream",
     "text": [
      "Hello, Amelia!\n",
      "Mostrar un saludo simple.\n"
     ]
    }
   ],
   "source": [
    "# Podemos pasar valores a una función para que ésta trabaje con ellos.\n",
    "\n",
    "def saludar_usuario(nombre_usuario): # Dentro de los paréntesis se especifica el nombre del parámetro a recibir\n",
    "                                     # La función puede recibir ninguno, uno o más parámetros\n",
    "    \"\"\"Mostrar un saludo simple.\"\"\"\n",
    "    print(\"Hello, \" + nombre_usuario.title() + \"!\")\n",
    "    \n",
    "saludar_usuario(\"amelia\")"
   ]
  },
  {
   "cell_type": "markdown",
   "metadata": {},
   "source": [
    "**EJERCICIO #1\n",
    "\n",
    "Escribe una función llamada 'display_message()' que imprima una oración diciéndole a todos que deben aprender a manejar funciones.  Llama la función y asegura que el mensaje se despliega de forma correcta."
   ]
  },
  {
   "cell_type": "markdown",
   "metadata": {},
   "source": [
    "**EJERCICIO #2\n",
    "\n",
    "Escribe una función llamada 'libro_favorito' que acepte un parámetro llamado 'título'.  Esta función debe imprimir un mensaje similar a 'Uno de mis libros favoritos es Alicia en el País de las Maravillas.'.  Llama la función y asegúrate de incluir el título del libro como un argumento al llamar la función."
   ]
  },
  {
   "cell_type": "markdown",
   "metadata": {},
   "source": [
    "**ARGUMENTOS POSICIONALES\n",
    "\n",
    "Python hace coincidir cada parámetro en la llamada con cada parámetro en la definición de la función según su posición. ¡El orden es importante!"
   ]
  },
  {
   "cell_type": "code",
   "execution_count": null,
   "metadata": {},
   "outputs": [],
   "source": [
    "# Argumentos posicionales\n",
    "\n",
    "def describe_pet(animal_type, pet_name):\n",
    "    \"\"\"Display information about a pet.\"\"\"\n",
    "    \n",
    "    print(\"\\nI have a \" + animal_type + \".\")\n",
    "    print(\"My \" + animal_type + \"'s name is \" + pet_name.title() + \".\")\n",
    "    \n",
    "describe_pet('hamster', 'leonardo')\n",
    "\n",
    "# Una función puede llamarse cuantas veces sea necesario.\n",
    "describe_pet('parrot', 'lorenzo')\n",
    "describe_pet('dog', 'marilú')\n",
    "    "
   ]
  },
  {
   "cell_type": "markdown",
   "metadata": {},
   "source": [
    "**ARGUMENTOS POR PALABRA CLAVE\n",
    "\n",
    "Asociamos directamente el valor al nombre, entonces, cuando se pasa un parámetro no hay confusión.\n",
    "* No nos tenemos que preocupar por el orden.\n",
    "* Al llamar a la función, nos tenemos que asegurar de colocar los nombres exactos que se usaron para los parámetros en la definición de la función."
   ]
  },
  {
   "cell_type": "code",
   "execution_count": null,
   "metadata": {},
   "outputs": [],
   "source": [
    "# Argumentos por palabra clave\n",
    "\n",
    "def describe_pet(animal_type, pet_name):\n",
    "    \"\"\"Display information about a pet.\"\"\"\n",
    "    \n",
    "    print(\"\\nI have a \" + animal_type + \".\")\n",
    "    print(\"My \" + animal_type + \"'s name is \" + pet_name.title() + \".\")\n",
    "    \n",
    "describe_pet(animal_type = 'hamster', pet_name = 'leonardo')\n",
    "describe_pet(pet_name = 'lorenzo', animal_type = 'parrot')"
   ]
  },
  {
   "cell_type": "markdown",
   "metadata": {},
   "source": [
    "**VALORES POR DEFECTO\n",
    "\n",
    "Cuando se omite el valor de un atributo al llamar una función, Python asigna a éste un valor por defecto si así se definió en la declaración de la función.\n",
    "* Cuando se usan valores por defecto, estos se listan después de todos los parámetros que no tienen valores por defecto para que Python siga interpretando los argumentos posicionales bien."
   ]
  },
  {
   "cell_type": "code",
   "execution_count": null,
   "metadata": {},
   "outputs": [],
   "source": [
    "# Valores por defecto\n",
    "# Ejemplo: La mayoría de personas tienen perros como mascotas.  Usemos 'dog' como el valor por defecto para animal_type.\n",
    "\n",
    "def describe_pet(pet_name, animal_type = 'dog'):\n",
    "    \"\"\"Display information about a pet.\"\"\"\n",
    "    \n",
    "    print(\"\\nI have a \" + animal_type + \".\")\n",
    "    print(\"My \" + animal_type + \"'s name is \" + pet_name.title() + \".\")\n",
    "    \n",
    "describe_pet(animal_type = 'hamster', pet_name = 'leonardo')\n",
    "describe_pet(pet_name = 'marilú')"
   ]
  },
  {
   "cell_type": "markdown",
   "metadata": {},
   "source": [
    "**DIFERENTES FORMAS PARA LLAMAR UNA FUNCIÓN"
   ]
  },
  {
   "cell_type": "code",
   "execution_count": null,
   "metadata": {},
   "outputs": [],
   "source": [
    "def describe_pet(pet_name, animal_type = 'dog'):\n",
    "    \"\"\"Display information about a pet.\"\"\"\n",
    "    \n",
    "    print(\"\\nI have a \" + animal_type + \".\")\n",
    "    print(\"My \" + animal_type + \"'s name is \" + pet_name.title() + \".\")\n",
    "    \n",
    "# Describamos a una perrita llamada Marilú.\n",
    "describe_pet(\"marilú\")\n",
    "describe_pet(pet_name = \"marilú\")\n",
    "\n",
    "# Describamos a Lorenzo, el loro.\n",
    "describe_pet(animal_type = 'parrot', pet_name = 'lorenzo')\n",
    "describe_pet(pet_name = 'lorenzo', animal_type = 'parrot')\n",
    "describe_pet('parrot', 'lorenzo')"
   ]
  },
  {
   "cell_type": "code",
   "execution_count": null,
   "metadata": {},
   "outputs": [],
   "source": [
    "# ALGUNOS ERRORES\n",
    "# Pasando más o menos argumentos de los necesarios.\n",
    "\n",
    "def describe_pet(pet_name, animal_type = 'dog'):\n",
    "    \"\"\"Display information about a pet.\"\"\"\n",
    "    \n",
    "    print(\"\\nI have a \" + animal_type + \".\")\n",
    "    print(\"My \" + animal_type + \"'s name is \" + pet_name.title() + \".\")\n",
    "    \n",
    "# No pasamos nada!\n",
    "describe_pet()\n",
    "\n",
    "# Pasamos de más.\n",
    "describe_pet('dog', 'amelia', 'olivia')"
   ]
  },
  {
   "cell_type": "markdown",
   "metadata": {},
   "source": [
    "**EJERCICIO #3\n",
    "\n",
    "Escribe una función llamada 'hacer_playera()' que acepte el tamaño y el mensaje a imprimir en la playera.  La función debe escribir una oración donde sumarice el tamaño y el mensaje escrito en la playera.  \n",
    "\n",
    "Llama la función una vez utilizando argumentos posicionales.  Llama a la función una segunda vez usando argumentos con la pareja nombre-valor."
   ]
  },
  {
   "cell_type": "markdown",
   "metadata": {},
   "source": [
    "**EJERCICIO #4\n",
    "\n",
    "Modifica la función 'hacer_playera()' para que haga playeras 'large' por defecto y que escriba el mensaje 'I love Python!' también por defecto.  Haz una playera 'large' y una 'medium' con el mensaje por defecto, y una playera de cualquier tamaño con otro mensaje."
   ]
  },
  {
   "cell_type": "markdown",
   "metadata": {},
   "source": [
    "**EJERCICIO #5\n",
    "\n",
    "Escribe una función llamada 'describe_city()' que acepte el nombre de una ciudad y el país donde se encuentra.  La función debe imprimir una oración sencilla como 'Reykjavik está en Islandia.'.  Dale al parámetro país un valor por defecto.  Llama tu función al menos tres veces, incluyendo una oportunidad donde la ciudad no está en el país por defecto."
   ]
  },
  {
   "cell_type": "markdown",
   "metadata": {},
   "source": [
    "## Resultado de una función"
   ]
  },
  {
   "cell_type": "code",
   "execution_count": null,
   "metadata": {},
   "outputs": [],
   "source": [
    "# Resultado simple\n",
    "\n",
    "def get_formatted_name(first_name, last_name):\n",
    "    \"\"\"Return a full name, neatly formatted.\"\"\"\n",
    "    full_name = first_name + \" \" + last_name\n",
    "    return full_name.title()\n",
    "\n",
    "# Llamamos a la función asignando el valor retornado a una variable.\n",
    "musician = get_formatted_name('jimi', 'hendrix')\n",
    "print(musician)"
   ]
  },
  {
   "cell_type": "code",
   "execution_count": null,
   "metadata": {},
   "outputs": [],
   "source": [
    "# Haciendo que un atributo sea opcional.\n",
    "\n",
    "# Ampliamos el ejemplo anterior para permitir que el programa gestione segundos nombres.  \n",
    "\n",
    "def get_formatted_name(first_name, middle_name, last_name):\n",
    "    \"\"\"Return a full name, neatly formatted.\"\"\"\n",
    "    full_name = first_name + \" \" + middle_name + \" \" + last_name\n",
    "    return full_name.title()\n",
    "\n",
    "# Llamamos a la función asignando el valor retornado a una variable.\n",
    "musician = get_formatted_name('john', 'lee', 'hooker')\n",
    "print(musician)\n",
    "\n",
    "# Esta función trabaja bien cuando se dan los tres atributos, pero no siempre necesitamos un 'segundo nombre'.\n",
    "# Para hacer que la variable 'middle_name' sea opcional, podemos darle un valor por defecto de \"\" (vacío)\n",
    "# e ignorar el valor a menos que se proporciona.  \n",
    "# Para ello, debemos mover el atributo 'middle_name' al final y asignarle un valor por defecto de \"\"."
   ]
  },
  {
   "cell_type": "code",
   "execution_count": null,
   "metadata": {},
   "outputs": [],
   "source": [
    "def get_formatted_name(first_name, last_name, middle_name = ''):\n",
    "    \"\"\"Return a full name, neatly formatted.\"\"\"\n",
    "    if middle_name != '':\n",
    "        full_name = first_name + \" \" + middle_name + \" \" + last_name\n",
    "    else:\n",
    "        full_name = first_name + \" \" + last_name\n",
    "        \n",
    "    return full_name.title()\n",
    "\n",
    "# Llamamos a la función asignando el valor retornado a una variable.\n",
    "musician = get_formatted_name('john', 'lee', 'hooker')\n",
    "print(musician)\n",
    "\n",
    "musician = get_formatted_name('jimi', 'hendrix')\n",
    "print(musician)"
   ]
  },
  {
   "cell_type": "code",
   "execution_count": null,
   "metadata": {},
   "outputs": [],
   "source": [
    "# Las funciones pueden retornar diccionarios \n",
    "\n",
    "def build_person(first_name, last_name):\n",
    "    \"\"\"Return a dictionary of information about a person.\"\"\"\n",
    "    person = {'first':first_name, 'last':last_name}\n",
    "    return person\n",
    "\n",
    "musician = build_person('jimi', 'hendrix')\n",
    "print(musician)"
   ]
  },
  {
   "cell_type": "code",
   "execution_count": null,
   "metadata": {},
   "outputs": [],
   "source": [
    "# Extendiendo la función anterior para aceptar parámetros opcionales, como la 'edad'.  \n",
    "\n",
    "def build_person(first_name, last_name, age=''):\n",
    "    \"\"\"Return a dictionary of information about a person.\"\"\"\n",
    "    person = {'first':first_name, 'last':last_name}\n",
    "    if age:\n",
    "        person['age'] = age\n",
    "    return person\n",
    "\n",
    "musician = build_person('jimi', 'hendrix', age = 27)\n",
    "print(musician)"
   ]
  },
  {
   "cell_type": "code",
   "execution_count": null,
   "metadata": {},
   "outputs": [],
   "source": [
    "# Todas nuestras estructuras de control pueden utilizarse dentro de las funciones!\n",
    "\n",
    "def get_formatted_name(first_name, last_name):\n",
    "    \"\"\"Return a full name, neatly formatted.\"\"\"\n",
    "    full_name = first_name + \" \" + last_name\n",
    "    return full_name.title()\n",
    "\n",
    "\n",
    "while True:\n",
    "    print(\"\\nPlease tell me your name:\")\n",
    "    print(\"enter 'q' at any time to quit\")\n",
    "    \n",
    "    f_name = input(\"First name: \")\n",
    "    if f_name == 'q':\n",
    "        break\n",
    "    \n",
    "    l_name = input(\"Last name: \")\n",
    "    if l_name == 'q':\n",
    "        break\n",
    "        \n",
    "    formatted_name = get_formatted_name(f_name, l_name)\n",
    "    print(\"\\nHello, \" + formatted_name + \"!\")"
   ]
  },
  {
   "cell_type": "markdown",
   "metadata": {},
   "source": [
    "**EJERCICIO #6\n",
    "\n",
    "Escribe una función llamada 'make_album()' que construya un diccionario describiendo un álbum musical.  La función debe requerir el nombre del artista y el título del álbum.  La función debe devolver el diccionario con estos dos datos.  Utiliza la función para hacer tres diccionarios distintos.  Impriman cada valor para demostrar que los diccionarios están devolviendo la información correctamente.  \n",
    "\n",
    "Agreguen un parámetro opcional a la función 'make_album()' que te permita guardar el número de canciones en el álbum.  Si la llamada a la función incluye este valor, agrégalo al diccionario.  Haz al menos una llamada a la función que incluye el número de canciones."
   ]
  },
  {
   "cell_type": "code",
   "execution_count": null,
   "metadata": {},
   "outputs": [],
   "source": [
    "# Pasemos una lista como argumento! La función adquiere acceso a todos los elementos de la lista.\n",
    "\n",
    "def greet_users(names):\n",
    "    \"\"\"Imprimir un saludo simple a cada usuario en la lista.\"\"\"\n",
    "    for name in names:\n",
    "        msg = \"Hello, \" + name.title() + \"!\"\n",
    "        print(msg)\n",
    "        \n",
    "usernames = [\"hannah\", \"ty\", \"margot\"]\n",
    "greet_users(usernames)"
   ]
  },
  {
   "cell_type": "markdown",
   "metadata": {},
   "source": [
    "**EJERCICIO #7\n",
    "\n",
    "**MODIFICANDO una lista dentro de una función:\n",
    "* A continuación se te presenta un programa que no utiliza funciones.  Reescríbelo utilizando funciones de forma que el código se vea más organizado.\n",
    "\n",
    "Una compañía crea modelos 3D a partir de diseños de usuarios.  Los diseños a imprimir se guardan en una lista y \n",
    "después de ser impresos se pasan a otra lista."
   ]
  },
  {
   "cell_type": "code",
   "execution_count": null,
   "metadata": {},
   "outputs": [],
   "source": [
    "# Iniciando con diseños a imprimir.\n",
    "unprinted_designs = ['iphone case', 'robot pendant', 'dodecahedron']\n",
    "completed_models = []\n",
    "\n",
    "# Simulando que imprimimos cada diseño hasta que no queda ninguno pendiente.\n",
    "# Mover cada diseño a la lista completed_models después de impresos\n",
    "\n",
    "while unprinted_designs:\n",
    "    current_design = unprinted_designs.pop()\n",
    "    \n",
    "    # Simulamos la creación de la impresión 3D.\n",
    "    print(\"Printing model: \" + current_design)\n",
    "    completed_models.append(current_design)\n",
    "\n",
    "# Mostrar todos los diseños impresos.\n",
    "print(\"\\nThe following models have been printed: \")\n",
    "for completed_model in completed_models:\n",
    "    print(completed_model)"
   ]
  },
  {
   "cell_type": "code",
   "execution_count": null,
   "metadata": {},
   "outputs": [],
   "source": [
    "# Reescribiendo...\n",
    "\n",
    "def print_models(unprinted_designs, completed_models):\n",
    "    \"\"\"\n",
    "    Simular imprimir cada diseño hasta que no quede ninguno.\n",
    "    Mover cada diseño a la lista completed_models después de impresos.\n",
    "    \"\"\"\n",
    "    \n",
    "    while unprinted_designs:\n",
    "        current_design = unprinted_designs.pop()\n",
    "    \n",
    "        # Simulamos la creación de la impresión 3D.\n",
    "        print(\"Printing model: \" + current_design)\n",
    "        completed_models.append(current_design)\n",
    "\n",
    "def show_completed_models(completed_models):\n",
    "    \"\"\" Mostrar todos los modelos que fueron impresos. \"\"\"\n",
    "    print(\"\\The following models have been printed: \")\n",
    "    for completed_model in completed_models:\n",
    "        print(completed_model)\n",
    "        \n",
    "unprinted_designs = ['iphone case', 'robot pendant', 'dodecahedron']\n",
    "completed_models = []\n",
    "\n",
    "print_models(unprinted_designs, completed_models)\n",
    "show_completed_models(completed_models)"
   ]
  },
  {
   "cell_type": "markdown",
   "metadata": {},
   "source": [
    "## PASANDO UN NÚMERO ARBITRARIO DE ARGUMENTOS\n",
    "\n",
    "**¡Pensemos en una función que construye pizzas! Necesita aceptar un número de 'toppings', pero de antemano no sabemos cuántos serán.  En la siguiente función, el parámetro 'toppings' recibe tantos argumentos como la línea de llamado a la función especifique.\n",
    "\n",
    "* El asterisco indica a Python que haga una tupla vacía con el nombre especificado y guarde todo dentro del argumento.\n"
   ]
  },
  {
   "cell_type": "code",
   "execution_count": 21,
   "metadata": {},
   "outputs": [
    {
     "name": "stdout",
     "output_type": "stream",
     "text": [
      "\n",
      "Making a pizza with the following toppings:\n",
      "- pepperoni\n",
      "\n",
      "Making a pizza with the following toppings:\n",
      "- mushrooms\n",
      "- green peppers\n",
      "- extra cheese\n"
     ]
    }
   ],
   "source": [
    "def make_pizza(*toppings):\n",
    "    \"\"\"Imprimir el listado de toppings que se han solicitado.\"\"\"\n",
    "    print(\"\\nMaking a pizza with the following toppings:\")\n",
    "    for topping in toppings:\n",
    "        print(\"- \" + topping)\n",
    "    \n",
    "make_pizza('pepperoni')\n",
    "make_pizza('mushrooms', 'green peppers', 'extra cheese')\n"
   ]
  },
  {
   "cell_type": "markdown",
   "metadata": {},
   "source": [
    "**ARGUMENTOS POSICIONALES ARBITRARIOS\n",
    "\n",
    "* Al definir la función, se coloca el argumento arbitrario hasta el final.\n",
    "* Python asignará los primeros argumentos a los primeros parámetros de su definición y colocará el resto dentro del arbitrario."
   ]
  },
  {
   "cell_type": "code",
   "execution_count": 22,
   "metadata": {},
   "outputs": [
    {
     "name": "stdout",
     "output_type": "stream",
     "text": [
      "\n",
      "Making a 16-inch pizza with the following toppings:\n",
      "- pepperoni\n",
      "\n",
      "Making a 12-inch pizza with the following toppings:\n",
      "- mushrooms\n",
      "- green peppers\n",
      "- extra cheese\n"
     ]
    }
   ],
   "source": [
    "def make_pizza(size, *toppings): \n",
    "    \"\"\"Imprimir el listado de toppings que se han solicitado.\"\"\"\n",
    "    print(\"\\nMaking a \" + str(size) + \"-inch pizza with the following toppings:\")\n",
    "    for topping in toppings:\n",
    "        print(\"- \" + topping)\n",
    "    \n",
    "make_pizza(16, 'pepperoni')\n",
    "make_pizza(12, 'mushrooms', 'green peppers', 'extra cheese')"
   ]
  },
  {
   "cell_type": "markdown",
   "metadata": {},
   "source": [
    "**ARGUMENTOS DE PALABRA CLAVE ARBITRARIOS\n",
    "\n",
    "* El argumento arbitrario es antecedido por un doble asterisco que indica a Python que cree un diccionario y guarde allí todas las parejas 'llave-valor' que reciba.\n",
    "\n",
    "En el ejemplo, se crea una función para construir perfiles de usuario."
   ]
  },
  {
   "cell_type": "code",
   "execution_count": null,
   "metadata": {},
   "outputs": [],
   "source": [
    "def build_profile(first, last, **user_info):\n",
    "    \"\"\"Construir un diccionario que contenga todo lo que sepamos de un usuario.\"\"\"\n",
    "    profile = {}\n",
    "    profile['first_name'] = first\n",
    "    profile['last_name'] = last\n",
    "    for key, value in user_info.items():\n",
    "        profile[key] = value\n",
    "    return profile\n",
    "\n",
    "user_profile = build_profile('albert', 'einstein', location = 'princeton', field = 'physics')\n",
    "\n",
    "print(user_profile)"
   ]
  },
  {
   "cell_type": "markdown",
   "metadata": {},
   "source": [
    "**EJERCICIO #8\n",
    "\n",
    "Escribe una función que acepte una lista de ingredientes que una persona quiera en un sandwich.  La función debe tener un parámetro que recolecte tantos ítems como la llamada a la función incluya y debe imprimir una descripción del sandwich que se está pidiendo.  Llama a la función tres veces, utilizando un número distinto de ingredientes en cada oportunidad."
   ]
  },
  {
   "cell_type": "markdown",
   "metadata": {},
   "source": [
    "**EJERCICIO #9\n",
    "\n",
    "Escribe una función que guarde información sobre un carro en un diccionario.  La función debe recibir siempre el nombre de un fabricante y de un modelo.  Debe aceptar un número arbitrario de argumentos por palabra clave.  Llama la función incluyendo la información requerida y dos parejas llave-valor adicionales, por ejemplo, el color y el número de puertas.  Tu función debe funcionar para una llamada como la siguiente:\n",
    "\n",
    "* car = make_car('subaru', 'outback', color = 'blue', puertas = 2)\n",
    "\n",
    "Imprime el diccionario que se crea para asegurarte que la información se maneja de forma adecuada."
   ]
  }
 ],
 "metadata": {
  "kernelspec": {
   "display_name": "Python 3",
   "language": "python",
   "name": "python3"
  },
  "language_info": {
   "codemirror_mode": {
    "name": "ipython",
    "version": 3
   },
   "file_extension": ".py",
   "mimetype": "text/x-python",
   "name": "python",
   "nbconvert_exporter": "python",
   "pygments_lexer": "ipython3",
   "version": "3.7.1"
  }
 },
 "nbformat": 4,
 "nbformat_minor": 2
}

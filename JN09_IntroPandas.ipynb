{
  "nbformat": 4,
  "nbformat_minor": 0,
  "metadata": {
    "colab": {
      "name": "IntroPandas.ipynb",
      "provenance": [],
      "collapsed_sections": [
        "9UopX1LaN1sw",
        "Gjh2RTjKRchf",
        "dUKylM7QTQJN",
        "a-BKwnp7kNRZ",
        "8npYmE3LnUn0"
      ]
    },
    "kernelspec": {
      "name": "python3",
      "display_name": "Python 3"
    }
  },
  "cells": [
    {
      "cell_type": "markdown",
      "metadata": {
        "id": "3XDmFU0wtXk7"
      },
      "source": [
        "# Introducción a Pandas"
      ]
    },
    {
      "cell_type": "markdown",
      "metadata": {
        "id": "EG2D12xotdo-"
      },
      "source": [
        "Una breve introducción de no más de 15 minutos a Pandas. Esta basado en el capítulo 2 de **Pandas in Action** de Boris Paskhaver."
      ]
    },
    {
      "cell_type": "code",
      "metadata": {
        "id": "psrO3gYy747-"
      },
      "source": [
        "import pandas as pd"
      ],
      "execution_count": 2,
      "outputs": []
    },
    {
      "cell_type": "markdown",
      "metadata": {
        "id": "QjsR6W8j8kDY"
      },
      "source": [
        "Leer el archivo movies.csv\n",
        "Los datos de ese archivo son guardados en el **DataFrame** que hemos llamado movies."
      ]
    },
    {
      "cell_type": "code",
      "metadata": {
        "id": "S5x_EBHS8q4u",
        "outputId": "a3c175b4-be57-4fc9-b489-a13b29acbffe",
        "colab": {
          "base_uri": "https://localhost:8080/",
          "height": 394
        }
      },
      "source": [
        "movies = pd.read_csv(\"movies.csv\")"
      ],
      "execution_count": 3,
      "outputs": [
        {
          "output_type": "error",
          "ename": "FileNotFoundError",
          "evalue": "ignored",
          "traceback": [
            "\u001b[0;31m---------------------------------------------------------------------------\u001b[0m",
            "\u001b[0;31mFileNotFoundError\u001b[0m                         Traceback (most recent call last)",
            "\u001b[0;32m<ipython-input-3-1bacfb2f62ee>\u001b[0m in \u001b[0;36m<module>\u001b[0;34m()\u001b[0m\n\u001b[0;32m----> 1\u001b[0;31m \u001b[0mmovies\u001b[0m \u001b[0;34m=\u001b[0m \u001b[0mpd\u001b[0m\u001b[0;34m.\u001b[0m\u001b[0mread_csv\u001b[0m\u001b[0;34m(\u001b[0m\u001b[0;34m\"movies.csv\"\u001b[0m\u001b[0;34m)\u001b[0m\u001b[0;34m\u001b[0m\u001b[0;34m\u001b[0m\u001b[0m\n\u001b[0m",
            "\u001b[0;32m/usr/local/lib/python3.6/dist-packages/pandas/io/parsers.py\u001b[0m in \u001b[0;36mread_csv\u001b[0;34m(filepath_or_buffer, sep, delimiter, header, names, index_col, usecols, squeeze, prefix, mangle_dupe_cols, dtype, engine, converters, true_values, false_values, skipinitialspace, skiprows, skipfooter, nrows, na_values, keep_default_na, na_filter, verbose, skip_blank_lines, parse_dates, infer_datetime_format, keep_date_col, date_parser, dayfirst, cache_dates, iterator, chunksize, compression, thousands, decimal, lineterminator, quotechar, quoting, doublequote, escapechar, comment, encoding, dialect, error_bad_lines, warn_bad_lines, delim_whitespace, low_memory, memory_map, float_precision)\u001b[0m\n\u001b[1;32m    684\u001b[0m     )\n\u001b[1;32m    685\u001b[0m \u001b[0;34m\u001b[0m\u001b[0m\n\u001b[0;32m--> 686\u001b[0;31m     \u001b[0;32mreturn\u001b[0m \u001b[0m_read\u001b[0m\u001b[0;34m(\u001b[0m\u001b[0mfilepath_or_buffer\u001b[0m\u001b[0;34m,\u001b[0m \u001b[0mkwds\u001b[0m\u001b[0;34m)\u001b[0m\u001b[0;34m\u001b[0m\u001b[0;34m\u001b[0m\u001b[0m\n\u001b[0m\u001b[1;32m    687\u001b[0m \u001b[0;34m\u001b[0m\u001b[0m\n\u001b[1;32m    688\u001b[0m \u001b[0;34m\u001b[0m\u001b[0m\n",
            "\u001b[0;32m/usr/local/lib/python3.6/dist-packages/pandas/io/parsers.py\u001b[0m in \u001b[0;36m_read\u001b[0;34m(filepath_or_buffer, kwds)\u001b[0m\n\u001b[1;32m    450\u001b[0m \u001b[0;34m\u001b[0m\u001b[0m\n\u001b[1;32m    451\u001b[0m     \u001b[0;31m# Create the parser.\u001b[0m\u001b[0;34m\u001b[0m\u001b[0;34m\u001b[0m\u001b[0;34m\u001b[0m\u001b[0m\n\u001b[0;32m--> 452\u001b[0;31m     \u001b[0mparser\u001b[0m \u001b[0;34m=\u001b[0m \u001b[0mTextFileReader\u001b[0m\u001b[0;34m(\u001b[0m\u001b[0mfp_or_buf\u001b[0m\u001b[0;34m,\u001b[0m \u001b[0;34m**\u001b[0m\u001b[0mkwds\u001b[0m\u001b[0;34m)\u001b[0m\u001b[0;34m\u001b[0m\u001b[0;34m\u001b[0m\u001b[0m\n\u001b[0m\u001b[1;32m    453\u001b[0m \u001b[0;34m\u001b[0m\u001b[0m\n\u001b[1;32m    454\u001b[0m     \u001b[0;32mif\u001b[0m \u001b[0mchunksize\u001b[0m \u001b[0;32mor\u001b[0m \u001b[0miterator\u001b[0m\u001b[0;34m:\u001b[0m\u001b[0;34m\u001b[0m\u001b[0;34m\u001b[0m\u001b[0m\n",
            "\u001b[0;32m/usr/local/lib/python3.6/dist-packages/pandas/io/parsers.py\u001b[0m in \u001b[0;36m__init__\u001b[0;34m(self, f, engine, **kwds)\u001b[0m\n\u001b[1;32m    944\u001b[0m             \u001b[0mself\u001b[0m\u001b[0;34m.\u001b[0m\u001b[0moptions\u001b[0m\u001b[0;34m[\u001b[0m\u001b[0;34m\"has_index_names\"\u001b[0m\u001b[0;34m]\u001b[0m \u001b[0;34m=\u001b[0m \u001b[0mkwds\u001b[0m\u001b[0;34m[\u001b[0m\u001b[0;34m\"has_index_names\"\u001b[0m\u001b[0;34m]\u001b[0m\u001b[0;34m\u001b[0m\u001b[0;34m\u001b[0m\u001b[0m\n\u001b[1;32m    945\u001b[0m \u001b[0;34m\u001b[0m\u001b[0m\n\u001b[0;32m--> 946\u001b[0;31m         \u001b[0mself\u001b[0m\u001b[0;34m.\u001b[0m\u001b[0m_make_engine\u001b[0m\u001b[0;34m(\u001b[0m\u001b[0mself\u001b[0m\u001b[0;34m.\u001b[0m\u001b[0mengine\u001b[0m\u001b[0;34m)\u001b[0m\u001b[0;34m\u001b[0m\u001b[0;34m\u001b[0m\u001b[0m\n\u001b[0m\u001b[1;32m    947\u001b[0m \u001b[0;34m\u001b[0m\u001b[0m\n\u001b[1;32m    948\u001b[0m     \u001b[0;32mdef\u001b[0m \u001b[0mclose\u001b[0m\u001b[0;34m(\u001b[0m\u001b[0mself\u001b[0m\u001b[0;34m)\u001b[0m\u001b[0;34m:\u001b[0m\u001b[0;34m\u001b[0m\u001b[0;34m\u001b[0m\u001b[0m\n",
            "\u001b[0;32m/usr/local/lib/python3.6/dist-packages/pandas/io/parsers.py\u001b[0m in \u001b[0;36m_make_engine\u001b[0;34m(self, engine)\u001b[0m\n\u001b[1;32m   1176\u001b[0m     \u001b[0;32mdef\u001b[0m \u001b[0m_make_engine\u001b[0m\u001b[0;34m(\u001b[0m\u001b[0mself\u001b[0m\u001b[0;34m,\u001b[0m \u001b[0mengine\u001b[0m\u001b[0;34m=\u001b[0m\u001b[0;34m\"c\"\u001b[0m\u001b[0;34m)\u001b[0m\u001b[0;34m:\u001b[0m\u001b[0;34m\u001b[0m\u001b[0;34m\u001b[0m\u001b[0m\n\u001b[1;32m   1177\u001b[0m         \u001b[0;32mif\u001b[0m \u001b[0mengine\u001b[0m \u001b[0;34m==\u001b[0m \u001b[0;34m\"c\"\u001b[0m\u001b[0;34m:\u001b[0m\u001b[0;34m\u001b[0m\u001b[0;34m\u001b[0m\u001b[0m\n\u001b[0;32m-> 1178\u001b[0;31m             \u001b[0mself\u001b[0m\u001b[0;34m.\u001b[0m\u001b[0m_engine\u001b[0m \u001b[0;34m=\u001b[0m \u001b[0mCParserWrapper\u001b[0m\u001b[0;34m(\u001b[0m\u001b[0mself\u001b[0m\u001b[0;34m.\u001b[0m\u001b[0mf\u001b[0m\u001b[0;34m,\u001b[0m \u001b[0;34m**\u001b[0m\u001b[0mself\u001b[0m\u001b[0;34m.\u001b[0m\u001b[0moptions\u001b[0m\u001b[0;34m)\u001b[0m\u001b[0;34m\u001b[0m\u001b[0;34m\u001b[0m\u001b[0m\n\u001b[0m\u001b[1;32m   1179\u001b[0m         \u001b[0;32melse\u001b[0m\u001b[0;34m:\u001b[0m\u001b[0;34m\u001b[0m\u001b[0;34m\u001b[0m\u001b[0m\n\u001b[1;32m   1180\u001b[0m             \u001b[0;32mif\u001b[0m \u001b[0mengine\u001b[0m \u001b[0;34m==\u001b[0m \u001b[0;34m\"python\"\u001b[0m\u001b[0;34m:\u001b[0m\u001b[0;34m\u001b[0m\u001b[0;34m\u001b[0m\u001b[0m\n",
            "\u001b[0;32m/usr/local/lib/python3.6/dist-packages/pandas/io/parsers.py\u001b[0m in \u001b[0;36m__init__\u001b[0;34m(self, src, **kwds)\u001b[0m\n\u001b[1;32m   2006\u001b[0m         \u001b[0mkwds\u001b[0m\u001b[0;34m[\u001b[0m\u001b[0;34m\"usecols\"\u001b[0m\u001b[0;34m]\u001b[0m \u001b[0;34m=\u001b[0m \u001b[0mself\u001b[0m\u001b[0;34m.\u001b[0m\u001b[0musecols\u001b[0m\u001b[0;34m\u001b[0m\u001b[0;34m\u001b[0m\u001b[0m\n\u001b[1;32m   2007\u001b[0m \u001b[0;34m\u001b[0m\u001b[0m\n\u001b[0;32m-> 2008\u001b[0;31m         \u001b[0mself\u001b[0m\u001b[0;34m.\u001b[0m\u001b[0m_reader\u001b[0m \u001b[0;34m=\u001b[0m \u001b[0mparsers\u001b[0m\u001b[0;34m.\u001b[0m\u001b[0mTextReader\u001b[0m\u001b[0;34m(\u001b[0m\u001b[0msrc\u001b[0m\u001b[0;34m,\u001b[0m \u001b[0;34m**\u001b[0m\u001b[0mkwds\u001b[0m\u001b[0;34m)\u001b[0m\u001b[0;34m\u001b[0m\u001b[0;34m\u001b[0m\u001b[0m\n\u001b[0m\u001b[1;32m   2009\u001b[0m         \u001b[0mself\u001b[0m\u001b[0;34m.\u001b[0m\u001b[0munnamed_cols\u001b[0m \u001b[0;34m=\u001b[0m \u001b[0mself\u001b[0m\u001b[0;34m.\u001b[0m\u001b[0m_reader\u001b[0m\u001b[0;34m.\u001b[0m\u001b[0munnamed_cols\u001b[0m\u001b[0;34m\u001b[0m\u001b[0;34m\u001b[0m\u001b[0m\n\u001b[1;32m   2010\u001b[0m \u001b[0;34m\u001b[0m\u001b[0m\n",
            "\u001b[0;32mpandas/_libs/parsers.pyx\u001b[0m in \u001b[0;36mpandas._libs.parsers.TextReader.__cinit__\u001b[0;34m()\u001b[0m\n",
            "\u001b[0;32mpandas/_libs/parsers.pyx\u001b[0m in \u001b[0;36mpandas._libs.parsers.TextReader._setup_parser_source\u001b[0;34m()\u001b[0m\n",
            "\u001b[0;31mFileNotFoundError\u001b[0m: [Errno 2] No such file or directory: 'movies.csv'"
          ]
        }
      ]
    },
    {
      "cell_type": "markdown",
      "metadata": {
        "id": "XlxC_V5B9e56"
      },
      "source": [
        "Un DataFrame es una de los tipos de datos que maneja Pandas. Es similar a una hoja electrónica, organizado por filas y columnas.\n",
        "Mostrar los primeros cuatro registros del DataFrame."
      ]
    },
    {
      "cell_type": "code",
      "metadata": {
        "id": "N74LQ8tL9i8m",
        "outputId": "a14819f7-731d-4f9f-c65e-ea50da75eb12",
        "colab": {
          "base_uri": "https://localhost:8080/",
          "height": 173
        }
      },
      "source": [
        "movies.head(4)"
      ],
      "execution_count": null,
      "outputs": [
        {
          "output_type": "execute_result",
          "data": {
            "text/html": [
              "<div>\n",
              "<style scoped>\n",
              "    .dataframe tbody tr th:only-of-type {\n",
              "        vertical-align: middle;\n",
              "    }\n",
              "\n",
              "    .dataframe tbody tr th {\n",
              "        vertical-align: top;\n",
              "    }\n",
              "\n",
              "    .dataframe thead th {\n",
              "        text-align: right;\n",
              "    }\n",
              "</style>\n",
              "<table border=\"1\" class=\"dataframe\">\n",
              "  <thead>\n",
              "    <tr style=\"text-align: right;\">\n",
              "      <th></th>\n",
              "      <th>Rank</th>\n",
              "      <th>Title</th>\n",
              "      <th>Studio</th>\n",
              "      <th>Gross</th>\n",
              "      <th>Year</th>\n",
              "    </tr>\n",
              "  </thead>\n",
              "  <tbody>\n",
              "    <tr>\n",
              "      <th>0</th>\n",
              "      <td>1</td>\n",
              "      <td>Avengers: Endgame</td>\n",
              "      <td>Buena Vista</td>\n",
              "      <td>$2,796.30</td>\n",
              "      <td>2019</td>\n",
              "    </tr>\n",
              "    <tr>\n",
              "      <th>1</th>\n",
              "      <td>2</td>\n",
              "      <td>Avatar</td>\n",
              "      <td>Fox</td>\n",
              "      <td>$2,789.70</td>\n",
              "      <td>2009</td>\n",
              "    </tr>\n",
              "    <tr>\n",
              "      <th>2</th>\n",
              "      <td>3</td>\n",
              "      <td>Titanic</td>\n",
              "      <td>Paramount</td>\n",
              "      <td>$2,187.50</td>\n",
              "      <td>1997</td>\n",
              "    </tr>\n",
              "    <tr>\n",
              "      <th>3</th>\n",
              "      <td>4</td>\n",
              "      <td>Star Wars: The Force Awakens</td>\n",
              "      <td>Buena Vista</td>\n",
              "      <td>$2,068.20</td>\n",
              "      <td>2015</td>\n",
              "    </tr>\n",
              "  </tbody>\n",
              "</table>\n",
              "</div>"
            ],
            "text/plain": [
              "   Rank                         Title       Studio       Gross  Year\n",
              "0     1             Avengers: Endgame  Buena Vista  $2,796.30   2019\n",
              "1     2                        Avatar          Fox  $2,789.70   2009\n",
              "2     3                       Titanic    Paramount  $2,187.50   1997\n",
              "3     4  Star Wars: The Force Awakens  Buena Vista  $2,068.20   2015"
            ]
          },
          "metadata": {
            "tags": []
          },
          "execution_count": 29
        }
      ]
    },
    {
      "cell_type": "markdown",
      "metadata": {
        "id": "DVa8OtWu47Ig"
      },
      "source": [
        "Puede notarse que al inicio de cada fila aparece un número resaltado en negritas.\n",
        "Ese es el **índice** de la fila. (Recuerda el índice cuando se emplean listas). Inicia desde el número 0."
      ]
    },
    {
      "cell_type": "markdown",
      "metadata": {
        "id": "h2-9BknJLU-y"
      },
      "source": [
        "Cada columna tiene un título: Rank, Title, Studio, Gross, Year"
      ]
    },
    {
      "cell_type": "markdown",
      "metadata": {
        "id": "MQo-aWjF_4DV"
      },
      "source": [
        "Podemos ver también, los últimos 4 registros del DataFrame."
      ]
    },
    {
      "cell_type": "code",
      "metadata": {
        "id": "KHJj7R8w_8cE",
        "outputId": "cb88f0c5-3a13-4a90-931f-d957a73e8ffb",
        "colab": {
          "base_uri": "https://localhost:8080/",
          "height": 173
        }
      },
      "source": [
        "movies.tail(4)"
      ],
      "execution_count": null,
      "outputs": [
        {
          "output_type": "execute_result",
          "data": {
            "text/html": [
              "<div>\n",
              "<style scoped>\n",
              "    .dataframe tbody tr th:only-of-type {\n",
              "        vertical-align: middle;\n",
              "    }\n",
              "\n",
              "    .dataframe tbody tr th {\n",
              "        vertical-align: top;\n",
              "    }\n",
              "\n",
              "    .dataframe thead th {\n",
              "        text-align: right;\n",
              "    }\n",
              "</style>\n",
              "<table border=\"1\" class=\"dataframe\">\n",
              "  <thead>\n",
              "    <tr style=\"text-align: right;\">\n",
              "      <th></th>\n",
              "      <th>Rank</th>\n",
              "      <th>Title</th>\n",
              "      <th>Studio</th>\n",
              "      <th>Gross</th>\n",
              "      <th>Year</th>\n",
              "    </tr>\n",
              "  </thead>\n",
              "  <tbody>\n",
              "    <tr>\n",
              "      <th>778</th>\n",
              "      <td>779</td>\n",
              "      <td>Garfield: The Movie</td>\n",
              "      <td>Fox</td>\n",
              "      <td>$200.80</td>\n",
              "      <td>2004</td>\n",
              "    </tr>\n",
              "    <tr>\n",
              "      <th>779</th>\n",
              "      <td>780</td>\n",
              "      <td>Cats &amp; Dogs</td>\n",
              "      <td>Warner Brothers</td>\n",
              "      <td>$200.70</td>\n",
              "      <td>2001</td>\n",
              "    </tr>\n",
              "    <tr>\n",
              "      <th>780</th>\n",
              "      <td>781</td>\n",
              "      <td>The Hunt for Red October</td>\n",
              "      <td>Paramount</td>\n",
              "      <td>$200.50</td>\n",
              "      <td>1990</td>\n",
              "    </tr>\n",
              "    <tr>\n",
              "      <th>781</th>\n",
              "      <td>782</td>\n",
              "      <td>Valkyrie</td>\n",
              "      <td>MGM</td>\n",
              "      <td>$200.30</td>\n",
              "      <td>2008</td>\n",
              "    </tr>\n",
              "  </tbody>\n",
              "</table>\n",
              "</div>"
            ],
            "text/plain": [
              "     Rank                     Title           Studio     Gross  Year\n",
              "778   779       Garfield: The Movie              Fox  $200.80   2004\n",
              "779   780               Cats & Dogs  Warner Brothers  $200.70   2001\n",
              "780   781  The Hunt for Red October        Paramount  $200.50   1990\n",
              "781   782                  Valkyrie              MGM  $200.30   2008"
            ]
          },
          "metadata": {
            "tags": []
          },
          "execution_count": 6
        }
      ]
    },
    {
      "cell_type": "markdown",
      "metadata": {
        "id": "rbNF42kx6pG-"
      },
      "source": [
        "Varias funciones de Python funcionan con los DataFrame. Por ejemplo podemos saber la cantidad de filas con len (como lo hacemos también con las listas):"
      ]
    },
    {
      "cell_type": "code",
      "metadata": {
        "id": "0jiZmil67KjS",
        "outputId": "eb524933-7166-47cb-a589-73354a9b52c1",
        "colab": {
          "base_uri": "https://localhost:8080/",
          "height": 34
        }
      },
      "source": [
        "len(movies)"
      ],
      "execution_count": null,
      "outputs": [
        {
          "output_type": "execute_result",
          "data": {
            "text/plain": [
              "782"
            ]
          },
          "metadata": {
            "tags": []
          },
          "execution_count": 7
        }
      ]
    },
    {
      "cell_type": "markdown",
      "metadata": {
        "id": "Fn0yIFPGLpNX"
      },
      "source": [
        "Se puede saber la cantidad de filas y columnas del DataFrame:\n"
      ]
    },
    {
      "cell_type": "code",
      "metadata": {
        "id": "4FFEqywEL3gI",
        "outputId": "5b69990b-1a82-4748-8a3f-dc9dc6a2ff5d",
        "colab": {
          "base_uri": "https://localhost:8080/",
          "height": 34
        }
      },
      "source": [
        "movies.shape"
      ],
      "execution_count": null,
      "outputs": [
        {
          "output_type": "execute_result",
          "data": {
            "text/plain": [
              "(782, 5)"
            ]
          },
          "metadata": {
            "tags": []
          },
          "execution_count": 8
        }
      ]
    },
    {
      "cell_type": "markdown",
      "metadata": {
        "id": "_D0wjtJ0MjbW"
      },
      "source": [
        "Se puede localizar una fila por su índice. Por ejemplo cual es la fila que tiene índice 499 (recordar que los índices inician en 0, como todo en Python)"
      ]
    },
    {
      "cell_type": "code",
      "metadata": {
        "id": "S5OujKBLM9AO",
        "outputId": "7c739ba8-8cc9-4bc0-9d9a-9062ef64272d",
        "colab": {
          "base_uri": "https://localhost:8080/",
          "height": 119
        }
      },
      "source": [
        "movies.iloc[499]"
      ],
      "execution_count": null,
      "outputs": [
        {
          "output_type": "execute_result",
          "data": {
            "text/plain": [
              "Rank                              500\n",
              "Title     Maze Runner: The Death Cure\n",
              "Studio                            Fox\n",
              "Gross                        $288.30 \n",
              "Year                             2018\n",
              "Name: 499, dtype: object"
            ]
          },
          "metadata": {
            "tags": []
          },
          "execution_count": 9
        }
      ]
    },
    {
      "cell_type": "markdown",
      "metadata": {
        "id": "Lpp4e0XBNWL4"
      },
      "source": [
        "Podemos ver también un rango de filas, de la misma manera que lo hariamos con un slice de una lista:"
      ]
    },
    {
      "cell_type": "code",
      "metadata": {
        "id": "W2dvqqywNgj8",
        "outputId": "4b603260-0e42-4209-8b5d-57534a63f638",
        "colab": {
          "base_uri": "https://localhost:8080/",
          "height": 204
        }
      },
      "source": [
        "movies.iloc[10:15]"
      ],
      "execution_count": null,
      "outputs": [
        {
          "output_type": "execute_result",
          "data": {
            "text/html": [
              "<div>\n",
              "<style scoped>\n",
              "    .dataframe tbody tr th:only-of-type {\n",
              "        vertical-align: middle;\n",
              "    }\n",
              "\n",
              "    .dataframe tbody tr th {\n",
              "        vertical-align: top;\n",
              "    }\n",
              "\n",
              "    .dataframe thead th {\n",
              "        text-align: right;\n",
              "    }\n",
              "</style>\n",
              "<table border=\"1\" class=\"dataframe\">\n",
              "  <thead>\n",
              "    <tr style=\"text-align: right;\">\n",
              "      <th></th>\n",
              "      <th>Rank</th>\n",
              "      <th>Title</th>\n",
              "      <th>Studio</th>\n",
              "      <th>Gross</th>\n",
              "      <th>Year</th>\n",
              "    </tr>\n",
              "  </thead>\n",
              "  <tbody>\n",
              "    <tr>\n",
              "      <th>10</th>\n",
              "      <td>11</td>\n",
              "      <td>Harry Potter and the Deathly Hallows Part 2</td>\n",
              "      <td>Warner Brothers</td>\n",
              "      <td>$1,341.70</td>\n",
              "      <td>2011</td>\n",
              "    </tr>\n",
              "    <tr>\n",
              "      <th>11</th>\n",
              "      <td>12</td>\n",
              "      <td>Star Wars: The Last Jedi</td>\n",
              "      <td>Buena Vista</td>\n",
              "      <td>$1,332.50</td>\n",
              "      <td>2017</td>\n",
              "    </tr>\n",
              "    <tr>\n",
              "      <th>12</th>\n",
              "      <td>13</td>\n",
              "      <td>Jurassic World: Fallen Kingdom</td>\n",
              "      <td>Universal</td>\n",
              "      <td>$1,309.50</td>\n",
              "      <td>2018</td>\n",
              "    </tr>\n",
              "    <tr>\n",
              "      <th>13</th>\n",
              "      <td>14</td>\n",
              "      <td>Frozen</td>\n",
              "      <td>Buena Vista</td>\n",
              "      <td>$1,276.50</td>\n",
              "      <td>2013</td>\n",
              "    </tr>\n",
              "    <tr>\n",
              "      <th>14</th>\n",
              "      <td>15</td>\n",
              "      <td>Beauty and the Beast</td>\n",
              "      <td>Buena Vista</td>\n",
              "      <td>$1,263.50</td>\n",
              "      <td>2017</td>\n",
              "    </tr>\n",
              "  </tbody>\n",
              "</table>\n",
              "</div>"
            ],
            "text/plain": [
              "    Rank                                        Title  ...       Gross  Year\n",
              "10    11  Harry Potter and the Deathly Hallows Part 2  ...  $1,341.70   2011\n",
              "11    12                     Star Wars: The Last Jedi  ...  $1,332.50   2017\n",
              "12    13               Jurassic World: Fallen Kingdom  ...  $1,309.50   2018\n",
              "13    14                                       Frozen  ...  $1,276.50   2013\n",
              "14    15                         Beauty and the Beast  ...  $1,263.50   2017\n",
              "\n",
              "[5 rows x 5 columns]"
            ]
          },
          "metadata": {
            "tags": []
          },
          "execution_count": 10
        }
      ]
    },
    {
      "cell_type": "markdown",
      "metadata": {
        "id": "9UopX1LaN1sw"
      },
      "source": [
        "# Consultas sobre el DataFrame"
      ]
    },
    {
      "cell_type": "markdown",
      "metadata": {
        "id": "XbufB3OePEac"
      },
      "source": [
        "Podemos ver cuales son las películas más recientes. Para eso podemos ordenar el DataFrame por la columna Year. (Solo veremos las primeras 6 filas de ese resultado, recordar que el DataFrame tiene muchas más filas)"
      ]
    },
    {
      "cell_type": "code",
      "metadata": {
        "id": "8EwzpQXaPqXD",
        "outputId": "c50bea0a-c6d3-4b4e-d28b-b8ad735be501",
        "colab": {
          "base_uri": "https://localhost:8080/",
          "height": 235
        }
      },
      "source": [
        "movies.sort_values(\"Year\",ascending=False).head(6)"
      ],
      "execution_count": null,
      "outputs": [
        {
          "output_type": "execute_result",
          "data": {
            "text/html": [
              "<div>\n",
              "<style scoped>\n",
              "    .dataframe tbody tr th:only-of-type {\n",
              "        vertical-align: middle;\n",
              "    }\n",
              "\n",
              "    .dataframe tbody tr th {\n",
              "        vertical-align: top;\n",
              "    }\n",
              "\n",
              "    .dataframe thead th {\n",
              "        text-align: right;\n",
              "    }\n",
              "</style>\n",
              "<table border=\"1\" class=\"dataframe\">\n",
              "  <thead>\n",
              "    <tr style=\"text-align: right;\">\n",
              "      <th></th>\n",
              "      <th>Rank</th>\n",
              "      <th>Title</th>\n",
              "      <th>Studio</th>\n",
              "      <th>Gross</th>\n",
              "      <th>Year</th>\n",
              "    </tr>\n",
              "  </thead>\n",
              "  <tbody>\n",
              "    <tr>\n",
              "      <th>0</th>\n",
              "      <td>1</td>\n",
              "      <td>Avengers: Endgame</td>\n",
              "      <td>Buena Vista</td>\n",
              "      <td>$2,796.30</td>\n",
              "      <td>2019</td>\n",
              "    </tr>\n",
              "    <tr>\n",
              "      <th>457</th>\n",
              "      <td>458</td>\n",
              "      <td>John Wick: Chapter 3 - Parabellum</td>\n",
              "      <td>Lionsgate</td>\n",
              "      <td>$304.70</td>\n",
              "      <td>2019</td>\n",
              "    </tr>\n",
              "    <tr>\n",
              "      <th>113</th>\n",
              "      <td>114</td>\n",
              "      <td>The Wandering Earth</td>\n",
              "      <td>China Film Corporation</td>\n",
              "      <td>$699.80</td>\n",
              "      <td>2019</td>\n",
              "    </tr>\n",
              "    <tr>\n",
              "      <th>197</th>\n",
              "      <td>198</td>\n",
              "      <td>Toy Story 4</td>\n",
              "      <td>Buena Vista</td>\n",
              "      <td>$519.80</td>\n",
              "      <td>2019</td>\n",
              "    </tr>\n",
              "    <tr>\n",
              "      <th>198</th>\n",
              "      <td>199</td>\n",
              "      <td>How to Train Your Dragon: The Hidden World</td>\n",
              "      <td>Universal</td>\n",
              "      <td>$519.80</td>\n",
              "      <td>2019</td>\n",
              "    </tr>\n",
              "    <tr>\n",
              "      <th>262</th>\n",
              "      <td>263</td>\n",
              "      <td>Pokemon Detective Pikachu</td>\n",
              "      <td>Warner Brothers</td>\n",
              "      <td>$427.50</td>\n",
              "      <td>2019</td>\n",
              "    </tr>\n",
              "  </tbody>\n",
              "</table>\n",
              "</div>"
            ],
            "text/plain": [
              "     Rank                                       Title  ...       Gross  Year\n",
              "0       1                           Avengers: Endgame  ...  $2,796.30   2019\n",
              "457   458           John Wick: Chapter 3 - Parabellum  ...    $304.70   2019\n",
              "113   114                         The Wandering Earth  ...    $699.80   2019\n",
              "197   198                                 Toy Story 4  ...    $519.80   2019\n",
              "198   199  How to Train Your Dragon: The Hidden World  ...    $519.80   2019\n",
              "262   263                   Pokemon Detective Pikachu  ...    $427.50   2019\n",
              "\n",
              "[6 rows x 5 columns]"
            ]
          },
          "metadata": {
            "tags": []
          },
          "execution_count": 11
        }
      ]
    },
    {
      "cell_type": "markdown",
      "metadata": {
        "id": "PTLpOHbUQPW4"
      },
      "source": [
        "Ahora ordenaremos el DataFrame por dos columnas: Studio (alfabéticamente) y luego por Year (en orden ascendente). Solo veremos las primeras filas del resultado."
      ]
    },
    {
      "cell_type": "code",
      "metadata": {
        "id": "l7B96jtFQwC6",
        "outputId": "570c6c29-7a47-4b6a-a6cc-f2688ce2e775",
        "colab": {
          "base_uri": "https://localhost:8080/",
          "height": 204
        }
      },
      "source": [
        "movies.sort_values([\"Studio\",\"Year\"]).head()"
      ],
      "execution_count": null,
      "outputs": [
        {
          "output_type": "execute_result",
          "data": {
            "text/html": [
              "<div>\n",
              "<style scoped>\n",
              "    .dataframe tbody tr th:only-of-type {\n",
              "        vertical-align: middle;\n",
              "    }\n",
              "\n",
              "    .dataframe tbody tr th {\n",
              "        vertical-align: top;\n",
              "    }\n",
              "\n",
              "    .dataframe thead th {\n",
              "        text-align: right;\n",
              "    }\n",
              "</style>\n",
              "<table border=\"1\" class=\"dataframe\">\n",
              "  <thead>\n",
              "    <tr style=\"text-align: right;\">\n",
              "      <th></th>\n",
              "      <th>Rank</th>\n",
              "      <th>Title</th>\n",
              "      <th>Studio</th>\n",
              "      <th>Gross</th>\n",
              "      <th>Year</th>\n",
              "    </tr>\n",
              "  </thead>\n",
              "  <tbody>\n",
              "    <tr>\n",
              "      <th>587</th>\n",
              "      <td>588</td>\n",
              "      <td>The Blair Witch Project</td>\n",
              "      <td>Artisan</td>\n",
              "      <td>$248.60</td>\n",
              "      <td>1999</td>\n",
              "    </tr>\n",
              "    <tr>\n",
              "      <th>707</th>\n",
              "      <td>708</td>\n",
              "      <td>101 Dalmatians</td>\n",
              "      <td>Buena Vista</td>\n",
              "      <td>$215.90</td>\n",
              "      <td>1961</td>\n",
              "    </tr>\n",
              "    <tr>\n",
              "      <th>754</th>\n",
              "      <td>755</td>\n",
              "      <td>The Jungle Book</td>\n",
              "      <td>Buena Vista</td>\n",
              "      <td>$205.80</td>\n",
              "      <td>1967</td>\n",
              "    </tr>\n",
              "    <tr>\n",
              "      <th>409</th>\n",
              "      <td>410</td>\n",
              "      <td>Who Framed Roger Rabbit</td>\n",
              "      <td>Buena Vista</td>\n",
              "      <td>$329.80</td>\n",
              "      <td>1988</td>\n",
              "    </tr>\n",
              "    <tr>\n",
              "      <th>635</th>\n",
              "      <td>636</td>\n",
              "      <td>Dead Poets Society</td>\n",
              "      <td>Buena Vista</td>\n",
              "      <td>$235.90</td>\n",
              "      <td>1989</td>\n",
              "    </tr>\n",
              "  </tbody>\n",
              "</table>\n",
              "</div>"
            ],
            "text/plain": [
              "     Rank                    Title       Studio     Gross  Year\n",
              "587   588  The Blair Witch Project      Artisan  $248.60   1999\n",
              "707   708           101 Dalmatians  Buena Vista  $215.90   1961\n",
              "754   755          The Jungle Book  Buena Vista  $205.80   1967\n",
              "409   410  Who Framed Roger Rabbit  Buena Vista  $329.80   1988\n",
              "635   636       Dead Poets Society  Buena Vista  $235.90   1989"
            ]
          },
          "metadata": {
            "tags": []
          },
          "execution_count": 12
        }
      ]
    },
    {
      "cell_type": "markdown",
      "metadata": {
        "id": "Gjh2RTjKRchf"
      },
      "source": [
        "# Contando valores"
      ]
    },
    {
      "cell_type": "markdown",
      "metadata": {
        "id": "7XANFCUJRimp"
      },
      "source": [
        "Contemos cuantas películas se han producido por Studio. Primero seleccionemos la columna. **NOTA**: recuerda que aquí siempre usamos head() solo para limitar la cantidad de lineas mostradas (porque son muchas filas)."
      ]
    },
    {
      "cell_type": "code",
      "metadata": {
        "id": "YpQsa1ciRyDT",
        "outputId": "a0a71e57-3e9a-4b38-cdbf-76a75039c914",
        "colab": {
          "base_uri": "https://localhost:8080/",
          "height": 119
        }
      },
      "source": [
        "movies[\"Studio\"].head()"
      ],
      "execution_count": null,
      "outputs": [
        {
          "output_type": "execute_result",
          "data": {
            "text/plain": [
              "0    Buena Vista\n",
              "1            Fox\n",
              "2      Paramount\n",
              "3    Buena Vista\n",
              "4    Buena Vista\n",
              "Name: Studio, dtype: object"
            ]
          },
          "metadata": {
            "tags": []
          },
          "execution_count": 13
        }
      ]
    },
    {
      "cell_type": "markdown",
      "metadata": {
        "id": "MwXyp57YSKWi"
      },
      "source": [
        "Ahora si viene la instrucción completa para contar las películas por Studio:"
      ]
    },
    {
      "cell_type": "code",
      "metadata": {
        "id": "GkxI_PNPSYkW",
        "outputId": "52f15d2f-95b4-47d2-bae3-e5fc6ebd25ae",
        "colab": {
          "base_uri": "https://localhost:8080/",
          "height": 204
        }
      },
      "source": [
        "movies[\"Studio\"].value_counts().head(10)"
      ],
      "execution_count": null,
      "outputs": [
        {
          "output_type": "execute_result",
          "data": {
            "text/plain": [
              "Warner Brothers    132\n",
              "Buena Vista        125\n",
              "Fox                117\n",
              "Universal          109\n",
              "Sony                86\n",
              "Paramount           76\n",
              "Dreamworks          27\n",
              "Lionsgate           21\n",
              "New Line            16\n",
              "MGM                 11\n",
              "Name: Studio, dtype: int64"
            ]
          },
          "metadata": {
            "tags": []
          },
          "execution_count": 14
        }
      ]
    },
    {
      "cell_type": "markdown",
      "metadata": {
        "id": "dUKylM7QTQJN"
      },
      "source": [
        "# Filtrado: seleccionar solo filas deseadas"
      ]
    },
    {
      "cell_type": "markdown",
      "metadata": {
        "id": "S_P0C0-XTWZv"
      },
      "source": [
        "Seleccionar solo las películas producidas por el Studio MGM. "
      ]
    },
    {
      "cell_type": "code",
      "metadata": {
        "id": "9W0VzuCEULgv",
        "outputId": "ca92da3e-af42-409b-ad6b-ece56bac7a1a",
        "colab": {
          "base_uri": "https://localhost:8080/",
          "height": 390
        }
      },
      "source": [
        "movies[movies[\"Studio\"]==\"MGM\"]"
      ],
      "execution_count": null,
      "outputs": [
        {
          "output_type": "execute_result",
          "data": {
            "text/html": [
              "<div>\n",
              "<style scoped>\n",
              "    .dataframe tbody tr th:only-of-type {\n",
              "        vertical-align: middle;\n",
              "    }\n",
              "\n",
              "    .dataframe tbody tr th {\n",
              "        vertical-align: top;\n",
              "    }\n",
              "\n",
              "    .dataframe thead th {\n",
              "        text-align: right;\n",
              "    }\n",
              "</style>\n",
              "<table border=\"1\" class=\"dataframe\">\n",
              "  <thead>\n",
              "    <tr style=\"text-align: right;\">\n",
              "      <th></th>\n",
              "      <th>Rank</th>\n",
              "      <th>Title</th>\n",
              "      <th>Studio</th>\n",
              "      <th>Gross</th>\n",
              "      <th>Year</th>\n",
              "    </tr>\n",
              "  </thead>\n",
              "  <tbody>\n",
              "    <tr>\n",
              "      <th>259</th>\n",
              "      <td>260</td>\n",
              "      <td>Die Another Day</td>\n",
              "      <td>MGM</td>\n",
              "      <td>$432.00</td>\n",
              "      <td>2002</td>\n",
              "    </tr>\n",
              "    <tr>\n",
              "      <th>287</th>\n",
              "      <td>288</td>\n",
              "      <td>Gone with the Wind</td>\n",
              "      <td>MGM</td>\n",
              "      <td>$402.40</td>\n",
              "      <td>1939</td>\n",
              "    </tr>\n",
              "    <tr>\n",
              "      <th>348</th>\n",
              "      <td>349</td>\n",
              "      <td>The World Is Not Enough</td>\n",
              "      <td>MGM</td>\n",
              "      <td>$361.80</td>\n",
              "      <td>1999</td>\n",
              "    </tr>\n",
              "    <tr>\n",
              "      <th>360</th>\n",
              "      <td>361</td>\n",
              "      <td>Rain Man</td>\n",
              "      <td>MGM</td>\n",
              "      <td>$354.80</td>\n",
              "      <td>1988</td>\n",
              "    </tr>\n",
              "    <tr>\n",
              "      <th>366</th>\n",
              "      <td>367</td>\n",
              "      <td>GoldenEye</td>\n",
              "      <td>MGM</td>\n",
              "      <td>$352.20</td>\n",
              "      <td>1995</td>\n",
              "    </tr>\n",
              "    <tr>\n",
              "      <th>370</th>\n",
              "      <td>371</td>\n",
              "      <td>Hannibal</td>\n",
              "      <td>MGM</td>\n",
              "      <td>$351.70</td>\n",
              "      <td>2001</td>\n",
              "    </tr>\n",
              "    <tr>\n",
              "      <th>403</th>\n",
              "      <td>404</td>\n",
              "      <td>Tomorrow Never Dies</td>\n",
              "      <td>MGM</td>\n",
              "      <td>$333.00</td>\n",
              "      <td>1997</td>\n",
              "    </tr>\n",
              "    <tr>\n",
              "      <th>466</th>\n",
              "      <td>467</td>\n",
              "      <td>Rocky IV</td>\n",
              "      <td>MGM</td>\n",
              "      <td>$300.50</td>\n",
              "      <td>1985</td>\n",
              "    </tr>\n",
              "    <tr>\n",
              "      <th>717</th>\n",
              "      <td>718</td>\n",
              "      <td>Creed II</td>\n",
              "      <td>MGM</td>\n",
              "      <td>$214.10</td>\n",
              "      <td>2018</td>\n",
              "    </tr>\n",
              "    <tr>\n",
              "      <th>740</th>\n",
              "      <td>741</td>\n",
              "      <td>Moonraker</td>\n",
              "      <td>MGM</td>\n",
              "      <td>$210.30</td>\n",
              "      <td>1979</td>\n",
              "    </tr>\n",
              "    <tr>\n",
              "      <th>781</th>\n",
              "      <td>782</td>\n",
              "      <td>Valkyrie</td>\n",
              "      <td>MGM</td>\n",
              "      <td>$200.30</td>\n",
              "      <td>2008</td>\n",
              "    </tr>\n",
              "  </tbody>\n",
              "</table>\n",
              "</div>"
            ],
            "text/plain": [
              "     Rank                    Title Studio     Gross  Year\n",
              "259   260          Die Another Day    MGM  $432.00   2002\n",
              "287   288       Gone with the Wind    MGM  $402.40   1939\n",
              "348   349  The World Is Not Enough    MGM  $361.80   1999\n",
              "360   361                 Rain Man    MGM  $354.80   1988\n",
              "366   367                GoldenEye    MGM  $352.20   1995\n",
              "370   371                 Hannibal    MGM  $351.70   2001\n",
              "403   404      Tomorrow Never Dies    MGM  $333.00   1997\n",
              "466   467                 Rocky IV    MGM  $300.50   1985\n",
              "717   718                 Creed II    MGM  $214.10   2018\n",
              "740   741                Moonraker    MGM  $210.30   1979\n",
              "781   782                 Valkyrie    MGM  $200.30   2008"
            ]
          },
          "metadata": {
            "tags": []
          },
          "execution_count": 15
        }
      ]
    },
    {
      "cell_type": "markdown",
      "metadata": {
        "id": "SD2PwUjmVKrm"
      },
      "source": [
        "Ver que el criterio para la búsqueda es tomar las filas que tienen **Studio** igual a \"MGM\". Ese criterio lo podemos también escribir:"
      ]
    },
    {
      "cell_type": "code",
      "metadata": {
        "id": "KfU2zSLzVjhG"
      },
      "source": [
        "producidas_por_MGM = movies[\"Studio\"] == \"MGM\""
      ],
      "execution_count": null,
      "outputs": []
    },
    {
      "cell_type": "markdown",
      "metadata": {
        "id": "tFvXoGfoVq7l"
      },
      "source": [
        "Ahora **criterio** guarda los índices de las filas que cumplen con la condición deseada. Así lo podemos emplear para mostrar esas filas:"
      ]
    },
    {
      "cell_type": "code",
      "metadata": {
        "id": "EbVYrELKWKgc",
        "outputId": "5d0aa08a-b804-465a-a351-7a8bfc0cfb0e",
        "colab": {
          "base_uri": "https://localhost:8080/",
          "height": 390
        }
      },
      "source": [
        "movies[producidas_por_MGM]"
      ],
      "execution_count": null,
      "outputs": [
        {
          "output_type": "execute_result",
          "data": {
            "text/html": [
              "<div>\n",
              "<style scoped>\n",
              "    .dataframe tbody tr th:only-of-type {\n",
              "        vertical-align: middle;\n",
              "    }\n",
              "\n",
              "    .dataframe tbody tr th {\n",
              "        vertical-align: top;\n",
              "    }\n",
              "\n",
              "    .dataframe thead th {\n",
              "        text-align: right;\n",
              "    }\n",
              "</style>\n",
              "<table border=\"1\" class=\"dataframe\">\n",
              "  <thead>\n",
              "    <tr style=\"text-align: right;\">\n",
              "      <th></th>\n",
              "      <th>Rank</th>\n",
              "      <th>Title</th>\n",
              "      <th>Studio</th>\n",
              "      <th>Gross</th>\n",
              "      <th>Year</th>\n",
              "    </tr>\n",
              "  </thead>\n",
              "  <tbody>\n",
              "    <tr>\n",
              "      <th>259</th>\n",
              "      <td>260</td>\n",
              "      <td>Die Another Day</td>\n",
              "      <td>MGM</td>\n",
              "      <td>$432.00</td>\n",
              "      <td>2002</td>\n",
              "    </tr>\n",
              "    <tr>\n",
              "      <th>287</th>\n",
              "      <td>288</td>\n",
              "      <td>Gone with the Wind</td>\n",
              "      <td>MGM</td>\n",
              "      <td>$402.40</td>\n",
              "      <td>1939</td>\n",
              "    </tr>\n",
              "    <tr>\n",
              "      <th>348</th>\n",
              "      <td>349</td>\n",
              "      <td>The World Is Not Enough</td>\n",
              "      <td>MGM</td>\n",
              "      <td>$361.80</td>\n",
              "      <td>1999</td>\n",
              "    </tr>\n",
              "    <tr>\n",
              "      <th>360</th>\n",
              "      <td>361</td>\n",
              "      <td>Rain Man</td>\n",
              "      <td>MGM</td>\n",
              "      <td>$354.80</td>\n",
              "      <td>1988</td>\n",
              "    </tr>\n",
              "    <tr>\n",
              "      <th>366</th>\n",
              "      <td>367</td>\n",
              "      <td>GoldenEye</td>\n",
              "      <td>MGM</td>\n",
              "      <td>$352.20</td>\n",
              "      <td>1995</td>\n",
              "    </tr>\n",
              "    <tr>\n",
              "      <th>370</th>\n",
              "      <td>371</td>\n",
              "      <td>Hannibal</td>\n",
              "      <td>MGM</td>\n",
              "      <td>$351.70</td>\n",
              "      <td>2001</td>\n",
              "    </tr>\n",
              "    <tr>\n",
              "      <th>403</th>\n",
              "      <td>404</td>\n",
              "      <td>Tomorrow Never Dies</td>\n",
              "      <td>MGM</td>\n",
              "      <td>$333.00</td>\n",
              "      <td>1997</td>\n",
              "    </tr>\n",
              "    <tr>\n",
              "      <th>466</th>\n",
              "      <td>467</td>\n",
              "      <td>Rocky IV</td>\n",
              "      <td>MGM</td>\n",
              "      <td>$300.50</td>\n",
              "      <td>1985</td>\n",
              "    </tr>\n",
              "    <tr>\n",
              "      <th>717</th>\n",
              "      <td>718</td>\n",
              "      <td>Creed II</td>\n",
              "      <td>MGM</td>\n",
              "      <td>$214.10</td>\n",
              "      <td>2018</td>\n",
              "    </tr>\n",
              "    <tr>\n",
              "      <th>740</th>\n",
              "      <td>741</td>\n",
              "      <td>Moonraker</td>\n",
              "      <td>MGM</td>\n",
              "      <td>$210.30</td>\n",
              "      <td>1979</td>\n",
              "    </tr>\n",
              "    <tr>\n",
              "      <th>781</th>\n",
              "      <td>782</td>\n",
              "      <td>Valkyrie</td>\n",
              "      <td>MGM</td>\n",
              "      <td>$200.30</td>\n",
              "      <td>2008</td>\n",
              "    </tr>\n",
              "  </tbody>\n",
              "</table>\n",
              "</div>"
            ],
            "text/plain": [
              "     Rank                    Title Studio     Gross  Year\n",
              "259   260          Die Another Day    MGM  $432.00   2002\n",
              "287   288       Gone with the Wind    MGM  $402.40   1939\n",
              "348   349  The World Is Not Enough    MGM  $361.80   1999\n",
              "360   361                 Rain Man    MGM  $354.80   1988\n",
              "366   367                GoldenEye    MGM  $352.20   1995\n",
              "370   371                 Hannibal    MGM  $351.70   2001\n",
              "403   404      Tomorrow Never Dies    MGM  $333.00   1997\n",
              "466   467                 Rocky IV    MGM  $300.50   1985\n",
              "717   718                 Creed II    MGM  $214.10   2018\n",
              "740   741                Moonraker    MGM  $210.30   1979\n",
              "781   782                 Valkyrie    MGM  $200.30   2008"
            ]
          },
          "metadata": {
            "tags": []
          },
          "execution_count": 17
        }
      ]
    },
    {
      "cell_type": "markdown",
      "metadata": {
        "id": "49bFgaDaWafF"
      },
      "source": [
        "Ambos resultados son iguales. Pero muchas veces es más claro poner una instrucción adicional para expresar el criterio y luego emplearlo en la selección de las filas."
      ]
    },
    {
      "cell_type": "markdown",
      "metadata": {
        "id": "P-aCimfuZ10r"
      },
      "source": [
        "Podemos combinar criterios. Por ejemplo crearemos un criterio adicional para las películas estrenadas después del año 2000:"
      ]
    },
    {
      "cell_type": "code",
      "metadata": {
        "id": "E_-6_BjTaBPI"
      },
      "source": [
        "estrenos_despues_2000 = movies['Year'] > 2000"
      ],
      "execution_count": null,
      "outputs": []
    },
    {
      "cell_type": "markdown",
      "metadata": {
        "id": "vblZpKpTaJX4"
      },
      "source": [
        "Y ahora combinamos ambos criterios para ver las películas producidas por MGM y que se hayan estrenado después del año 2000:"
      ]
    },
    {
      "cell_type": "code",
      "metadata": {
        "id": "GgMsYknzaTp5",
        "outputId": "dbc73606-e267-44bc-f0c9-66a4e0e968c9",
        "colab": {
          "base_uri": "https://localhost:8080/",
          "height": 173
        }
      },
      "source": [
        "movies[producidas_por_MGM & estrenos_despues_2000]"
      ],
      "execution_count": null,
      "outputs": [
        {
          "output_type": "execute_result",
          "data": {
            "text/html": [
              "<div>\n",
              "<style scoped>\n",
              "    .dataframe tbody tr th:only-of-type {\n",
              "        vertical-align: middle;\n",
              "    }\n",
              "\n",
              "    .dataframe tbody tr th {\n",
              "        vertical-align: top;\n",
              "    }\n",
              "\n",
              "    .dataframe thead th {\n",
              "        text-align: right;\n",
              "    }\n",
              "</style>\n",
              "<table border=\"1\" class=\"dataframe\">\n",
              "  <thead>\n",
              "    <tr style=\"text-align: right;\">\n",
              "      <th></th>\n",
              "      <th>Rank</th>\n",
              "      <th>Title</th>\n",
              "      <th>Studio</th>\n",
              "      <th>Gross</th>\n",
              "      <th>Year</th>\n",
              "    </tr>\n",
              "  </thead>\n",
              "  <tbody>\n",
              "    <tr>\n",
              "      <th>259</th>\n",
              "      <td>260</td>\n",
              "      <td>Die Another Day</td>\n",
              "      <td>MGM</td>\n",
              "      <td>$432.00</td>\n",
              "      <td>2002</td>\n",
              "    </tr>\n",
              "    <tr>\n",
              "      <th>370</th>\n",
              "      <td>371</td>\n",
              "      <td>Hannibal</td>\n",
              "      <td>MGM</td>\n",
              "      <td>$351.70</td>\n",
              "      <td>2001</td>\n",
              "    </tr>\n",
              "    <tr>\n",
              "      <th>717</th>\n",
              "      <td>718</td>\n",
              "      <td>Creed II</td>\n",
              "      <td>MGM</td>\n",
              "      <td>$214.10</td>\n",
              "      <td>2018</td>\n",
              "    </tr>\n",
              "    <tr>\n",
              "      <th>781</th>\n",
              "      <td>782</td>\n",
              "      <td>Valkyrie</td>\n",
              "      <td>MGM</td>\n",
              "      <td>$200.30</td>\n",
              "      <td>2008</td>\n",
              "    </tr>\n",
              "  </tbody>\n",
              "</table>\n",
              "</div>"
            ],
            "text/plain": [
              "     Rank            Title Studio     Gross  Year\n",
              "259   260  Die Another Day    MGM  $432.00   2002\n",
              "370   371         Hannibal    MGM  $351.70   2001\n",
              "717   718         Creed II    MGM  $214.10   2018\n",
              "781   782         Valkyrie    MGM  $200.30   2008"
            ]
          },
          "metadata": {
            "tags": []
          },
          "execution_count": 19
        }
      ]
    },
    {
      "cell_type": "markdown",
      "metadata": {
        "id": "cOEcOk5Qc59x"
      },
      "source": [
        "También podemos combinar los criterios indicando que se cumpla uno u el otro critero (or lógico):"
      ]
    },
    {
      "cell_type": "code",
      "metadata": {
        "id": "syicGrDCdDSM",
        "outputId": "c1717659-073e-412e-901f-1a13e2756325",
        "colab": {
          "base_uri": "https://localhost:8080/",
          "height": 419
        }
      },
      "source": [
        "movies[producidas_por_MGM | estrenos_despues_2000]"
      ],
      "execution_count": null,
      "outputs": [
        {
          "output_type": "execute_result",
          "data": {
            "text/html": [
              "<div>\n",
              "<style scoped>\n",
              "    .dataframe tbody tr th:only-of-type {\n",
              "        vertical-align: middle;\n",
              "    }\n",
              "\n",
              "    .dataframe tbody tr th {\n",
              "        vertical-align: top;\n",
              "    }\n",
              "\n",
              "    .dataframe thead th {\n",
              "        text-align: right;\n",
              "    }\n",
              "</style>\n",
              "<table border=\"1\" class=\"dataframe\">\n",
              "  <thead>\n",
              "    <tr style=\"text-align: right;\">\n",
              "      <th></th>\n",
              "      <th>Rank</th>\n",
              "      <th>Title</th>\n",
              "      <th>Studio</th>\n",
              "      <th>Gross</th>\n",
              "      <th>Year</th>\n",
              "    </tr>\n",
              "  </thead>\n",
              "  <tbody>\n",
              "    <tr>\n",
              "      <th>0</th>\n",
              "      <td>1</td>\n",
              "      <td>Avengers: Endgame</td>\n",
              "      <td>Buena Vista</td>\n",
              "      <td>$2,796.30</td>\n",
              "      <td>2019</td>\n",
              "    </tr>\n",
              "    <tr>\n",
              "      <th>1</th>\n",
              "      <td>2</td>\n",
              "      <td>Avatar</td>\n",
              "      <td>Fox</td>\n",
              "      <td>$2,789.70</td>\n",
              "      <td>2009</td>\n",
              "    </tr>\n",
              "    <tr>\n",
              "      <th>3</th>\n",
              "      <td>4</td>\n",
              "      <td>Star Wars: The Force Awakens</td>\n",
              "      <td>Buena Vista</td>\n",
              "      <td>$2,068.20</td>\n",
              "      <td>2015</td>\n",
              "    </tr>\n",
              "    <tr>\n",
              "      <th>4</th>\n",
              "      <td>5</td>\n",
              "      <td>Avengers: Infinity War</td>\n",
              "      <td>Buena Vista</td>\n",
              "      <td>$2,048.40</td>\n",
              "      <td>2018</td>\n",
              "    </tr>\n",
              "    <tr>\n",
              "      <th>5</th>\n",
              "      <td>6</td>\n",
              "      <td>Jurassic World</td>\n",
              "      <td>Universal</td>\n",
              "      <td>$1,671.70</td>\n",
              "      <td>2015</td>\n",
              "    </tr>\n",
              "    <tr>\n",
              "      <th>...</th>\n",
              "      <td>...</td>\n",
              "      <td>...</td>\n",
              "      <td>...</td>\n",
              "      <td>...</td>\n",
              "      <td>...</td>\n",
              "    </tr>\n",
              "    <tr>\n",
              "      <th>776</th>\n",
              "      <td>777</td>\n",
              "      <td>21 Jump Street</td>\n",
              "      <td>Sony</td>\n",
              "      <td>$201.60</td>\n",
              "      <td>2012</td>\n",
              "    </tr>\n",
              "    <tr>\n",
              "      <th>777</th>\n",
              "      <td>778</td>\n",
              "      <td>Yogi Bear</td>\n",
              "      <td>Warner Brothers</td>\n",
              "      <td>$201.60</td>\n",
              "      <td>2010</td>\n",
              "    </tr>\n",
              "    <tr>\n",
              "      <th>778</th>\n",
              "      <td>779</td>\n",
              "      <td>Garfield: The Movie</td>\n",
              "      <td>Fox</td>\n",
              "      <td>$200.80</td>\n",
              "      <td>2004</td>\n",
              "    </tr>\n",
              "    <tr>\n",
              "      <th>779</th>\n",
              "      <td>780</td>\n",
              "      <td>Cats &amp; Dogs</td>\n",
              "      <td>Warner Brothers</td>\n",
              "      <td>$200.70</td>\n",
              "      <td>2001</td>\n",
              "    </tr>\n",
              "    <tr>\n",
              "      <th>781</th>\n",
              "      <td>782</td>\n",
              "      <td>Valkyrie</td>\n",
              "      <td>MGM</td>\n",
              "      <td>$200.30</td>\n",
              "      <td>2008</td>\n",
              "    </tr>\n",
              "  </tbody>\n",
              "</table>\n",
              "<p>599 rows × 5 columns</p>\n",
              "</div>"
            ],
            "text/plain": [
              "     Rank                         Title           Studio       Gross  Year\n",
              "0       1             Avengers: Endgame      Buena Vista  $2,796.30   2019\n",
              "1       2                        Avatar              Fox  $2,789.70   2009\n",
              "3       4  Star Wars: The Force Awakens      Buena Vista  $2,068.20   2015\n",
              "4       5        Avengers: Infinity War      Buena Vista  $2,048.40   2018\n",
              "5       6                Jurassic World        Universal  $1,671.70   2015\n",
              "..    ...                           ...              ...         ...   ...\n",
              "776   777                21 Jump Street             Sony    $201.60   2012\n",
              "777   778                     Yogi Bear  Warner Brothers    $201.60   2010\n",
              "778   779           Garfield: The Movie              Fox    $200.80   2004\n",
              "779   780                   Cats & Dogs  Warner Brothers    $200.70   2001\n",
              "781   782                      Valkyrie              MGM    $200.30   2008\n",
              "\n",
              "[599 rows x 5 columns]"
            ]
          },
          "metadata": {
            "tags": []
          },
          "execution_count": 20
        }
      ]
    },
    {
      "cell_type": "markdown",
      "metadata": {
        "id": "a-BKwnp7kNRZ"
      },
      "source": [
        "# Limpiar datos (opcional)"
      ]
    },
    {
      "cell_type": "markdown",
      "metadata": {
        "id": "oq4iBP89kTOH"
      },
      "source": [
        "Una de las labores que usualmente tenemos que hacer en nuestras labores de análisis de datos (y Data Science) es ajustar los valores que se nos proporcionan para poder hacer cálculos con ellos."
      ]
    },
    {
      "cell_type": "markdown",
      "metadata": {
        "id": "tXlN-yqwkf0n"
      },
      "source": [
        "Vamos a \"limpiar\" la columna **Gross** para que sea numérica. Observar que ahorita tiene el signo $ y comas para separar los millares. Los quitaremos y la convertiremos a flotante."
      ]
    },
    {
      "cell_type": "code",
      "metadata": {
        "id": "lVYgisKFlbfu",
        "outputId": "66039079-36a2-48bc-ed1e-1e5319b3d1e2",
        "colab": {
          "base_uri": "https://localhost:8080/",
          "height": 221
        }
      },
      "source": [
        "movies['Gross'].str.replace('$','').str.replace(',','')"
      ],
      "execution_count": null,
      "outputs": [
        {
          "output_type": "execute_result",
          "data": {
            "text/plain": [
              "0      2796.30 \n",
              "1      2789.70 \n",
              "2      2187.50 \n",
              "3      2068.20 \n",
              "4      2048.40 \n",
              "         ...   \n",
              "777     201.60 \n",
              "778     200.80 \n",
              "779     200.70 \n",
              "780     200.50 \n",
              "781     200.30 \n",
              "Name: Gross, Length: 782, dtype: object"
            ]
          },
          "metadata": {
            "tags": []
          },
          "execution_count": 21
        }
      ]
    },
    {
      "cell_type": "markdown",
      "metadata": {
        "id": "q2QBQ_4jl5ss"
      },
      "source": [
        "Ya se quitaron el signo $ y las comas. Ahora le agregaremos que lo convierta a números flotantes."
      ]
    },
    {
      "cell_type": "code",
      "metadata": {
        "id": "Q4I1YO55mKsl",
        "outputId": "c2c54216-bc0c-4eee-f2e9-d26dcbe9403f",
        "colab": {
          "base_uri": "https://localhost:8080/",
          "height": 221
        }
      },
      "source": [
        "movies['Gross'].str.replace('$','').str.replace(',','').astype(float)"
      ],
      "execution_count": null,
      "outputs": [
        {
          "output_type": "execute_result",
          "data": {
            "text/plain": [
              "0      2796.3\n",
              "1      2789.7\n",
              "2      2187.5\n",
              "3      2068.2\n",
              "4      2048.4\n",
              "        ...  \n",
              "777     201.6\n",
              "778     200.8\n",
              "779     200.7\n",
              "780     200.5\n",
              "781     200.3\n",
              "Name: Gross, Length: 782, dtype: float64"
            ]
          },
          "metadata": {
            "tags": []
          },
          "execution_count": 22
        }
      ]
    },
    {
      "cell_type": "markdown",
      "metadata": {
        "id": "0AVkYSe5m1pV"
      },
      "source": [
        "Estas operaciones han creado una columna (en Pandas se llama Series) distinta de nuestro DataFrame, para que éste no sea alterado. \n",
        "Ya vimos que si es lo que queremos y ahora sustituiremos la columna Gross de nuestro DataFrame:"
      ]
    },
    {
      "cell_type": "code",
      "metadata": {
        "id": "JuU5tvD3mreJ"
      },
      "source": [
        "movies['Gross'] = movies['Gross'].str.replace('$','').str.replace(',','').astype(float)"
      ],
      "execution_count": null,
      "outputs": []
    },
    {
      "cell_type": "markdown",
      "metadata": {
        "id": "PDgjCi-Lm-k_"
      },
      "source": [
        "veamos si funcionó, mostrar la columna **Gross**"
      ]
    },
    {
      "cell_type": "code",
      "metadata": {
        "id": "j8TQ5ixKnEyw",
        "outputId": "024db99f-c9e0-4837-d921-18fcf1ff7655",
        "colab": {
          "base_uri": "https://localhost:8080/",
          "height": 221
        }
      },
      "source": [
        "movies['Gross']"
      ],
      "execution_count": null,
      "outputs": [
        {
          "output_type": "execute_result",
          "data": {
            "text/plain": [
              "0      2796.3\n",
              "1      2789.7\n",
              "2      2187.5\n",
              "3      2068.2\n",
              "4      2048.4\n",
              "        ...  \n",
              "777     201.6\n",
              "778     200.8\n",
              "779     200.7\n",
              "780     200.5\n",
              "781     200.3\n",
              "Name: Gross, Length: 782, dtype: float64"
            ]
          },
          "metadata": {
            "tags": []
          },
          "execution_count": 24
        }
      ]
    },
    {
      "cell_type": "markdown",
      "metadata": {
        "id": "Nw9lV1OynO_d"
      },
      "source": [
        "Listo! Ya hemos limpiado nuestros datos para que se puedan hacer cálculos con ellos."
      ]
    },
    {
      "cell_type": "markdown",
      "metadata": {
        "id": "8npYmE3LnUn0"
      },
      "source": [
        "# Agrupar Datos"
      ]
    },
    {
      "cell_type": "markdown",
      "metadata": {
        "id": "9D5cQdc9noPN"
      },
      "source": [
        "Sacaremos los totales de ingresos de la columna **Gross** agrupados por **Studio** que produjo las películas."
      ]
    },
    {
      "cell_type": "markdown",
      "metadata": {
        "id": "iNi0sOn9okYr"
      },
      "source": [
        "Primero agruparemos el DataFrame por Studio:"
      ]
    },
    {
      "cell_type": "code",
      "metadata": {
        "id": "5ptdW8bSonxL"
      },
      "source": [
        "studios = movies.groupby('Studio')"
      ],
      "execution_count": null,
      "outputs": []
    },
    {
      "cell_type": "markdown",
      "metadata": {
        "id": "o3kp3kRRo5l8"
      },
      "source": [
        "Y ahora encontrar los totales por la columna Gross.\n",
        "Usaremos head para desplegar solo las primeras filas"
      ]
    },
    {
      "cell_type": "code",
      "metadata": {
        "id": "_QHU-ruFpEn9",
        "outputId": "dae0484c-6409-40a7-b830-cdb1f942478f",
        "colab": {
          "base_uri": "https://localhost:8080/",
          "height": 136
        }
      },
      "source": [
        "studios['Gross'].sum().head()"
      ],
      "execution_count": null,
      "outputs": [
        {
          "output_type": "execute_result",
          "data": {
            "text/plain": [
              "Studio\n",
              "Artisan                     248.6\n",
              "Buena Vista               73585.0\n",
              "CL                          228.1\n",
              "China Film Corporation      699.8\n",
              "Columbia                   1276.6\n",
              "Name: Gross, dtype: float64"
            ]
          },
          "metadata": {
            "tags": []
          },
          "execution_count": 26
        }
      ]
    },
    {
      "cell_type": "markdown",
      "metadata": {
        "id": "yhXGZET8puST"
      },
      "source": [
        "Pero los queremos ordenados por el que tiene más ingresos en la columna Gross:"
      ]
    },
    {
      "cell_type": "code",
      "metadata": {
        "id": "bOZwTD1hp0dC",
        "outputId": "7bab1207-b5a6-4380-a6e4-90565447f5d1",
        "colab": {
          "base_uri": "https://localhost:8080/",
          "height": 136
        }
      },
      "source": [
        "studios['Gross'].sum().sort_values(ascending= False).head()"
      ],
      "execution_count": null,
      "outputs": [
        {
          "output_type": "execute_result",
          "data": {
            "text/plain": [
              "Studio\n",
              "Buena Vista        73585.0\n",
              "Warner Brothers    58643.8\n",
              "Fox                50420.8\n",
              "Universal          44302.3\n",
              "Sony               32822.5\n",
              "Name: Gross, dtype: float64"
            ]
          },
          "metadata": {
            "tags": []
          },
          "execution_count": 26
        }
      ]
    }
  ]
}
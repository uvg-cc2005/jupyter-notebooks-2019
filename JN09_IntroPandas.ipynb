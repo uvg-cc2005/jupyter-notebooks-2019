{
 "cells": [
  {
   "cell_type": "markdown",
   "metadata": {
    "id": "3XDmFU0wtXk7"
   },
   "source": [
    "# Introducción a Pandas"
   ]
  },
  {
   "cell_type": "markdown",
   "metadata": {
    "id": "EG2D12xotdo-"
   },
   "source": [
    "Una breve introducción de no más de 15 minutos a Pandas. Esta basado en el capítulo 2 de **Pandas in Action** de Boris Paskhaver."
   ]
  },
  {
   "cell_type": "code",
   "execution_count": null,
   "metadata": {
    "id": "psrO3gYy747-"
   },
   "outputs": [],
   "source": [
    "import numpy as np\n",
    "import pandas as pd"
   ]
  },
  {
   "cell_type": "markdown",
   "metadata": {
    "id": "QjsR6W8j8kDY"
   },
   "source": [
    "Leer el archivo movies.csv\n",
    "Los datos de ese archivo son guardados en el **DataFrame** que hemos llamado movies."
   ]
  },
  {
   "cell_type": "code",
   "execution_count": null,
   "metadata": {
    "colab": {
     "base_uri": "https://localhost:8080/",
     "height": 376
    },
    "id": "S5x_EBHS8q4u",
    "outputId": "de83edd8-ecdd-484a-dcc2-7d8ae7a805af"
   },
   "outputs": [],
   "source": [
    "movies = pd.read_csv(\"https://raw.githubusercontent.com/uvg-cc2005/jupyter-notebooks-2019/master/movies.csv\")"
   ]
  },
  {
   "cell_type": "markdown",
   "metadata": {},
   "source": [
    "Veamos de qué tipo es esta variable"
   ]
  },
  {
   "cell_type": "code",
   "execution_count": null,
   "metadata": {},
   "outputs": [],
   "source": [
    "type(movies)"
   ]
  },
  {
   "cell_type": "markdown",
   "metadata": {
    "id": "XlxC_V5B9e56"
   },
   "source": [
    "Un DataFrame es una de los tipos de datos que maneja Pandas. Es similar a una hoja electrónica, organizado por filas y columnas.\n",
    "Mostrar los primeros cuatro registros del DataFrame."
   ]
  },
  {
   "cell_type": "code",
   "execution_count": null,
   "metadata": {
    "colab": {
     "base_uri": "https://localhost:8080/",
     "height": 173
    },
    "id": "N74LQ8tL9i8m",
    "outputId": "73e3973a-1387-46dd-c8ba-6502808ee31f"
   },
   "outputs": [],
   "source": [
    "movies.head(4)"
   ]
  },
  {
   "cell_type": "markdown",
   "metadata": {
    "id": "DVa8OtWu47Ig"
   },
   "source": [
    "Puede notarse que al inicio de cada fila aparece un número resaltado en negritas.\n",
    "Ese es el **índice** de la fila. (Recuerda el índice cuando se emplean listas). Inicia desde el número 0."
   ]
  },
  {
   "cell_type": "markdown",
   "metadata": {
    "id": "h2-9BknJLU-y"
   },
   "source": [
    "Cada columna tiene un título: Rank, Title, Studio, Gross, Year"
   ]
  },
  {
   "cell_type": "markdown",
   "metadata": {
    "id": "MQo-aWjF_4DV"
   },
   "source": [
    "Podemos ver también, los últimos 4 registros del DataFrame."
   ]
  },
  {
   "cell_type": "code",
   "execution_count": null,
   "metadata": {
    "colab": {
     "base_uri": "https://localhost:8080/",
     "height": 173
    },
    "id": "KHJj7R8w_8cE",
    "outputId": "97f78f58-1973-4304-ca1a-7868e395b7da"
   },
   "outputs": [],
   "source": [
    "movies.tail(4)"
   ]
  },
  {
   "cell_type": "markdown",
   "metadata": {
    "id": "rbNF42kx6pG-"
   },
   "source": [
    "Varias funciones de Python funcionan con los DataFrame. Por ejemplo podemos saber la cantidad de filas con len (como lo hacemos también con las listas):"
   ]
  },
  {
   "cell_type": "code",
   "execution_count": null,
   "metadata": {
    "colab": {
     "base_uri": "https://localhost:8080/",
     "height": 34
    },
    "id": "0jiZmil67KjS",
    "outputId": "da505d8d-b382-4874-8597-14d709c25d1c"
   },
   "outputs": [],
   "source": [
    "len(movies)"
   ]
  },
  {
   "cell_type": "markdown",
   "metadata": {
    "id": "Fn0yIFPGLpNX"
   },
   "source": [
    "Se puede saber la cantidad de filas y columnas del DataFrame:\n"
   ]
  },
  {
   "cell_type": "code",
   "execution_count": null,
   "metadata": {
    "colab": {
     "base_uri": "https://localhost:8080/",
     "height": 34
    },
    "id": "4FFEqywEL3gI",
    "outputId": "75f0f57a-f1df-49a1-d087-d6b1f9dba928"
   },
   "outputs": [],
   "source": [
    "movies.shape"
   ]
  },
  {
   "cell_type": "markdown",
   "metadata": {
    "id": "_D0wjtJ0MjbW"
   },
   "source": [
    "Se puede localizar una fila por su índice. Por ejemplo cual es la fila que tiene índice 499 (recordar que los índices inician en 0, como todo en Python)"
   ]
  },
  {
   "cell_type": "code",
   "execution_count": null,
   "metadata": {
    "colab": {
     "base_uri": "https://localhost:8080/",
     "height": 119
    },
    "id": "S5OujKBLM9AO",
    "outputId": "97224cc0-edb8-4766-c349-a589943be57c"
   },
   "outputs": [],
   "source": [
    "movies.iloc[499]"
   ]
  },
  {
   "cell_type": "markdown",
   "metadata": {
    "id": "Lpp4e0XBNWL4"
   },
   "source": [
    "Podemos ver también un rango de filas, de la misma manera que lo hariamos con un slice de una lista:"
   ]
  },
  {
   "cell_type": "code",
   "execution_count": null,
   "metadata": {
    "colab": {
     "base_uri": "https://localhost:8080/",
     "height": 204
    },
    "id": "W2dvqqywNgj8",
    "outputId": "48ad113a-cdf1-48c0-b930-d2ab3e669af6"
   },
   "outputs": [],
   "source": [
    "movies.iloc[10:15]"
   ]
  },
  {
   "cell_type": "markdown",
   "metadata": {},
   "source": [
    "Podemos ver de qué tipo es cada una de las columnas"
   ]
  },
  {
   "cell_type": "code",
   "execution_count": null,
   "metadata": {},
   "outputs": [],
   "source": [
    "movies.info()"
   ]
  },
  {
   "cell_type": "markdown",
   "metadata": {},
   "source": [
    "Pandas considera las cadenas como un Objeto.  Notar que la columna \"Gross\" no es un número por el \"$\" y la \",\""
   ]
  },
  {
   "cell_type": "markdown",
   "metadata": {},
   "source": [
    "Podemos obtener unas estadísticas simples"
   ]
  },
  {
   "cell_type": "code",
   "execution_count": null,
   "metadata": {},
   "outputs": [],
   "source": [
    "movies.describe()"
   ]
  },
  {
   "cell_type": "markdown",
   "metadata": {},
   "source": [
    "Vemos que no hay estadístticas para \"Gross\" porque no es numérica la columna.\n",
    "\n",
    "De todos modos si podemos generar algunos datos de interés sobre las columnas no numéricas"
   ]
  },
  {
   "cell_type": "code",
   "execution_count": null,
   "metadata": {},
   "outputs": [],
   "source": [
    "movies.describe(include=np.object) "
   ]
  },
  {
   "cell_type": "markdown",
   "metadata": {
    "id": "9UopX1LaN1sw"
   },
   "source": [
    "# Consultas sobre el DataFrame"
   ]
  },
  {
   "cell_type": "markdown",
   "metadata": {
    "id": "XbufB3OePEac"
   },
   "source": [
    "Podemos ver cuales son las películas más recientes. Para eso podemos ordenar el DataFrame por la columna Year. (Solo veremos las primeras 6 filas de ese resultado, recordar que el DataFrame tiene muchas más filas)"
   ]
  },
  {
   "cell_type": "code",
   "execution_count": null,
   "metadata": {
    "colab": {
     "base_uri": "https://localhost:8080/",
     "height": 235
    },
    "id": "8EwzpQXaPqXD",
    "outputId": "95cc1c8f-8e4d-47e6-eff3-da6a95364e22"
   },
   "outputs": [],
   "source": [
    "movies.sort_values(\"Year\",ascending=False).head(6)"
   ]
  },
  {
   "cell_type": "markdown",
   "metadata": {
    "id": "PTLpOHbUQPW4"
   },
   "source": [
    "Ahora ordenaremos el DataFrame por dos columnas: Studio (alfabéticamente) y luego por Year (en orden ascendente). Solo veremos las primeras filas del resultado."
   ]
  },
  {
   "cell_type": "code",
   "execution_count": null,
   "metadata": {
    "colab": {
     "base_uri": "https://localhost:8080/",
     "height": 204
    },
    "id": "l7B96jtFQwC6",
    "outputId": "503eb8fb-a819-4aac-fcca-dc9ec73fed2a"
   },
   "outputs": [],
   "source": [
    "movies.sort_values([\"Studio\",\"Year\"]).head()"
   ]
  },
  {
   "cell_type": "markdown",
   "metadata": {
    "id": "Gjh2RTjKRchf"
   },
   "source": [
    "# Contando valores"
   ]
  },
  {
   "cell_type": "markdown",
   "metadata": {
    "id": "7XANFCUJRimp"
   },
   "source": [
    "Contemos cuantas películas se han producido por Studio. Primero seleccionemos la columna. **NOTA**: recuerda que aquí siempre usamos head() solo para limitar la cantidad de lineas mostradas (porque son muchas filas)."
   ]
  },
  {
   "cell_type": "code",
   "execution_count": null,
   "metadata": {
    "colab": {
     "base_uri": "https://localhost:8080/",
     "height": 119
    },
    "id": "YpQsa1ciRyDT",
    "outputId": "4156de54-05e1-435a-b9d7-25b685e6a469"
   },
   "outputs": [],
   "source": [
    "movies[\"Studio\"].head()"
   ]
  },
  {
   "cell_type": "markdown",
   "metadata": {
    "id": "MwXyp57YSKWi"
   },
   "source": [
    "Una de las cosas bonitas de Pandas es que podemos \"encadenar\" (poner una tras otra) instrucciones\n",
    "\n",
    "Ahora si viene la instrucción completa para contar las películas por Studio:"
   ]
  },
  {
   "cell_type": "code",
   "execution_count": null,
   "metadata": {
    "colab": {
     "base_uri": "https://localhost:8080/",
     "height": 204
    },
    "id": "GkxI_PNPSYkW",
    "outputId": "f3cf5307-5dc3-4eb5-c605-7eb2fffc2c2e"
   },
   "outputs": [],
   "source": [
    "movies[\"Studio\"].value_counts().head(10)"
   ]
  },
  {
   "cell_type": "markdown",
   "metadata": {
    "id": "dUKylM7QTQJN"
   },
   "source": [
    "# Filtrado: seleccionar solo filas deseadas"
   ]
  },
  {
   "cell_type": "markdown",
   "metadata": {
    "id": "S_P0C0-XTWZv"
   },
   "source": [
    "Seleccionar solo las películas producidas por el Studio MGM. \n",
    "\n",
    "Hay varias formas de hacerlo.  La primera, poner una condición dentro del índice de lo que buscamos:"
   ]
  },
  {
   "cell_type": "code",
   "execution_count": null,
   "metadata": {
    "colab": {
     "base_uri": "https://localhost:8080/",
     "height": 390
    },
    "id": "9W0VzuCEULgv",
    "outputId": "c3556f3d-bc1e-4fd6-e889-8f0a3aa98203"
   },
   "outputs": [],
   "source": [
    "movies[movies[\"Studio\"]==\"MGM\"]"
   ]
  },
  {
   "cell_type": "markdown",
   "metadata": {
    "id": "SD2PwUjmVKrm"
   },
   "source": [
    "Ver que el criterio para la búsqueda es tomar las filas que tienen **Studio** igual a \"MGM\". \n",
    "\n",
    "La segunda forma es creando una \"máscara\" en base al criterio:"
   ]
  },
  {
   "cell_type": "code",
   "execution_count": null,
   "metadata": {
    "id": "KfU2zSLzVjhG"
   },
   "outputs": [],
   "source": [
    "producidas_por_MGM = movies[\"Studio\"] == \"MGM\""
   ]
  },
  {
   "cell_type": "markdown",
   "metadata": {},
   "source": [
    "La \"máscara\" se ve así:"
   ]
  },
  {
   "cell_type": "code",
   "execution_count": null,
   "metadata": {},
   "outputs": [],
   "source": [
    "producidas_por_MGM"
   ]
  },
  {
   "cell_type": "markdown",
   "metadata": {
    "id": "tFvXoGfoVq7l"
   },
   "source": [
    "Ahora **la máscara** guarda los índices de las filas que cumplen con la condición deseada. Así lo podemos emplear para mostrar esas filas:"
   ]
  },
  {
   "cell_type": "code",
   "execution_count": null,
   "metadata": {
    "colab": {
     "base_uri": "https://localhost:8080/",
     "height": 390
    },
    "id": "EbVYrELKWKgc",
    "outputId": "015709db-0cda-45aa-9ed6-02b2357dce5e"
   },
   "outputs": [],
   "source": [
    "movies[producidas_por_MGM]"
   ]
  },
  {
   "cell_type": "markdown",
   "metadata": {
    "id": "49bFgaDaWafF"
   },
   "source": [
    "Ambos resultados son iguales. Pero muchas veces es más claro poner una instrucción adicional para expresar el criterio (máscara) y luego emplearlo en la selección de las filas."
   ]
  },
  {
   "cell_type": "markdown",
   "metadata": {},
   "source": [
    "Una tercera forma es utilizando la instrucción \"query\".  Aquellos que han trabajado con lenguajes para bases de datos les parecerá familiar:"
   ]
  },
  {
   "cell_type": "code",
   "execution_count": null,
   "metadata": {},
   "outputs": [],
   "source": [
    "movies.query('Studio == \"MGM\"')"
   ]
  },
  {
   "cell_type": "markdown",
   "metadata": {
    "id": "P-aCimfuZ10r"
   },
   "source": [
    "Podemos combinar criterios. Por ejemplo crearemos un criterio adicional para las películas estrenadas después del año 2000:"
   ]
  },
  {
   "cell_type": "code",
   "execution_count": null,
   "metadata": {
    "id": "E_-6_BjTaBPI"
   },
   "outputs": [],
   "source": [
    "estrenos_despues_2000 = movies['Year'] > 2000"
   ]
  },
  {
   "cell_type": "code",
   "execution_count": null,
   "metadata": {},
   "outputs": [],
   "source": [
    "estrenos_despues_2000"
   ]
  },
  {
   "cell_type": "markdown",
   "metadata": {
    "id": "vblZpKpTaJX4"
   },
   "source": [
    "Y ahora combinamos ambos criterios para ver las películas producidas por MGM y que se hayan estrenado después del año 2000:"
   ]
  },
  {
   "cell_type": "code",
   "execution_count": null,
   "metadata": {
    "colab": {
     "base_uri": "https://localhost:8080/",
     "height": 173
    },
    "id": "GgMsYknzaTp5",
    "outputId": "e81df3e3-a80f-4a98-c071-207c794d9d72"
   },
   "outputs": [],
   "source": [
    "movies[producidas_por_MGM & estrenos_despues_2000]"
   ]
  },
  {
   "cell_type": "markdown",
   "metadata": {},
   "source": [
    "Con la instrucción \"query\""
   ]
  },
  {
   "cell_type": "code",
   "execution_count": null,
   "metadata": {},
   "outputs": [],
   "source": [
    "movies.query('(Studio == \"MGM\") and (Year > 2000)')"
   ]
  },
  {
   "cell_type": "markdown",
   "metadata": {
    "id": "cOEcOk5Qc59x"
   },
   "source": [
    "También podemos combinar los criterios indicando que se cumpla uno u el otro critero (or lógico):"
   ]
  },
  {
   "cell_type": "code",
   "execution_count": null,
   "metadata": {
    "colab": {
     "base_uri": "https://localhost:8080/",
     "height": 419
    },
    "id": "syicGrDCdDSM",
    "outputId": "4346bfc2-1d9f-4dc0-fdf7-bb323d27c78d",
    "scrolled": true
   },
   "outputs": [],
   "source": [
    "movies[producidas_por_MGM | estrenos_despues_2000]"
   ]
  },
  {
   "cell_type": "markdown",
   "metadata": {},
   "source": [
    "Con la instrucción query:"
   ]
  },
  {
   "cell_type": "code",
   "execution_count": null,
   "metadata": {},
   "outputs": [],
   "source": [
    "movies.query('(Studio == \"MGM\") or (Year > 2000)')"
   ]
  },
  {
   "cell_type": "markdown",
   "metadata": {
    "id": "a-BKwnp7kNRZ"
   },
   "source": [
    "# Limpiar datos (opcional)"
   ]
  },
  {
   "cell_type": "markdown",
   "metadata": {
    "id": "oq4iBP89kTOH"
   },
   "source": [
    "Una de las labores que usualmente tenemos que hacer en nuestras labores de análisis de datos (y Data Science) es ajustar los valores que se nos proporcionan para poder hacer cálculos con ellos."
   ]
  },
  {
   "cell_type": "markdown",
   "metadata": {
    "id": "tXlN-yqwkf0n"
   },
   "source": [
    "Vamos a \"limpiar\" la columna **Gross** para que sea numérica. Observar que ahorita tiene el signo $ y comas para separar los millares. Los quitaremos y la convertiremos a flotante.\n",
    "\n",
    "Primero eliminamos el \"$\" reemplazándolo por el caracter nulo '' utilizando las instrucciones ya conocidas para manejar cadenas, del módulo \"str\""
   ]
  },
  {
   "cell_type": "code",
   "execution_count": null,
   "metadata": {
    "colab": {
     "base_uri": "https://localhost:8080/",
     "height": 221
    },
    "id": "lVYgisKFlbfu",
    "outputId": "5df4fb7b-74ee-4098-a39e-d6bce82bfec0"
   },
   "outputs": [],
   "source": [
    "movies['Gross'].str.replace('$','')"
   ]
  },
  {
   "cell_type": "markdown",
   "metadata": {},
   "source": [
    "Podemos quitar el \"$\" y ls \",\" encadenando las instrucciones"
   ]
  },
  {
   "cell_type": "code",
   "execution_count": null,
   "metadata": {},
   "outputs": [],
   "source": [
    "movies['Gross'].str.replace('$','').str.replace(',','')"
   ]
  },
  {
   "cell_type": "markdown",
   "metadata": {
    "id": "q2QBQ_4jl5ss"
   },
   "source": [
    "Ya se quitaron el signo $ y las comas. Ahora le agregaremos que lo convierta a números flotantes."
   ]
  },
  {
   "cell_type": "code",
   "execution_count": null,
   "metadata": {
    "colab": {
     "base_uri": "https://localhost:8080/",
     "height": 221
    },
    "id": "Q4I1YO55mKsl",
    "outputId": "7c2d6b0b-b14f-465c-9a1d-f205083ad571"
   },
   "outputs": [],
   "source": [
    "movies['Gross'].str.replace('$','').str.replace(',','').astype(float)"
   ]
  },
  {
   "cell_type": "markdown",
   "metadata": {},
   "source": [
    "Nótese que hasta este último paso, el tipo de la columna cambió a \"float64\"\n",
    "\n",
    "Aca lo hicimos en pasos, pero solo es necesario usar esta última instrucción gracias al \"encadenamiento\" de instrucciones"
   ]
  },
  {
   "cell_type": "markdown",
   "metadata": {
    "id": "0AVkYSe5m1pV"
   },
   "source": [
    "Estas operaciones han creado una columna (en Pandas se llama Series) distinta de nuestro DataFrame, para que éste no sea alterado. \n",
    "Ya vimos que si es lo que queremos y ahora sustituiremos la columna Gross de nuestro DataFrame:"
   ]
  },
  {
   "cell_type": "code",
   "execution_count": null,
   "metadata": {
    "id": "JuU5tvD3mreJ"
   },
   "outputs": [],
   "source": [
    "movies['Gross'] = movies['Gross'].str.replace('$','').str.replace(',','').astype(float)"
   ]
  },
  {
   "cell_type": "markdown",
   "metadata": {
    "id": "PDgjCi-Lm-k_"
   },
   "source": [
    "veamos si funcionó, mostrar la columna **Gross**"
   ]
  },
  {
   "cell_type": "code",
   "execution_count": null,
   "metadata": {
    "colab": {
     "base_uri": "https://localhost:8080/",
     "height": 221
    },
    "id": "j8TQ5ixKnEyw",
    "outputId": "f6ebd34e-d9c8-492f-b943-93f55d5353b8"
   },
   "outputs": [],
   "source": [
    "movies['Gross']"
   ]
  },
  {
   "cell_type": "markdown",
   "metadata": {
    "id": "Nw9lV1OynO_d"
   },
   "source": [
    "Listo! Ya hemos limpiado nuestros datos para que se puedan hacer cálculos con ellos."
   ]
  },
  {
   "cell_type": "code",
   "execution_count": null,
   "metadata": {},
   "outputs": [],
   "source": [
    "movies.describe()"
   ]
  },
  {
   "cell_type": "markdown",
   "metadata": {
    "id": "8npYmE3LnUn0"
   },
   "source": [
    "# Agrupar Datos"
   ]
  },
  {
   "cell_type": "markdown",
   "metadata": {
    "id": "9D5cQdc9noPN"
   },
   "source": [
    "Sacaremos los totales de ingresos de la columna **Gross** agrupados por **Studio** que produjo las películas."
   ]
  },
  {
   "cell_type": "markdown",
   "metadata": {
    "id": "iNi0sOn9okYr"
   },
   "source": [
    "Primero agruparemos el DataFrame por Studio:"
   ]
  },
  {
   "cell_type": "code",
   "execution_count": null,
   "metadata": {
    "id": "5ptdW8bSonxL"
   },
   "outputs": [],
   "source": [
    "studios = movies.groupby('Studio')"
   ]
  },
  {
   "cell_type": "markdown",
   "metadata": {
    "id": "o3kp3kRRo5l8"
   },
   "source": [
    "Y ahora encontrar los totales por la columna Gross.\n",
    "Usaremos head para desplegar solo las primeras filas"
   ]
  },
  {
   "cell_type": "code",
   "execution_count": null,
   "metadata": {
    "colab": {
     "base_uri": "https://localhost:8080/",
     "height": 136
    },
    "id": "_QHU-ruFpEn9",
    "outputId": "d3433ed5-fd59-460f-d93b-8288ecf300fc"
   },
   "outputs": [],
   "source": [
    "studios['Gross'].sum().head()"
   ]
  },
  {
   "cell_type": "markdown",
   "metadata": {},
   "source": [
    "Si queremos varias estadísticas, podemos \"agregarlas\" con la función \"agg\""
   ]
  },
  {
   "cell_type": "code",
   "execution_count": null,
   "metadata": {
    "scrolled": true
   },
   "outputs": [],
   "source": [
    "studios[\"Gross\"].agg(['sum', 'mean']).head()"
   ]
  },
  {
   "cell_type": "markdown",
   "metadata": {
    "id": "yhXGZET8puST"
   },
   "source": [
    "Pero los queremos ordenados por el que tiene más ingresos en la columna Gross:"
   ]
  },
  {
   "cell_type": "code",
   "execution_count": null,
   "metadata": {
    "colab": {
     "base_uri": "https://localhost:8080/",
     "height": 136
    },
    "id": "bOZwTD1hp0dC",
    "outputId": "7bab1207-b5a6-4380-a6e4-90565447f5d1"
   },
   "outputs": [],
   "source": [
    "studios['Gross'].sum().sort_values(ascending= False).head()"
   ]
  },
  {
   "cell_type": "code",
   "execution_count": null,
   "metadata": {},
   "outputs": [],
   "source": []
  }
 ],
 "metadata": {
  "colab": {
   "collapsed_sections": [
    "9UopX1LaN1sw",
    "Gjh2RTjKRchf",
    "dUKylM7QTQJN",
    "a-BKwnp7kNRZ",
    "8npYmE3LnUn0"
   ],
   "name": "IntroPandas.ipynb",
   "provenance": [],
   "toc_visible": true
  },
  "kernelspec": {
   "display_name": "Python 3",
   "language": "python",
   "name": "python3"
  },
  "language_info": {
   "codemirror_mode": {
    "name": "ipython",
    "version": 3
   },
   "file_extension": ".py",
   "mimetype": "text/x-python",
   "name": "python",
   "nbconvert_exporter": "python",
   "pygments_lexer": "ipython3",
   "version": "3.8.5"
  }
 },
 "nbformat": 4,
 "nbformat_minor": 1
}

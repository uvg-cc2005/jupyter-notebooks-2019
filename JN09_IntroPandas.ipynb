{
  "nbformat": 4,
  "nbformat_minor": 0,
  "metadata": {
    "colab": {
      "name": "IntroPandas.ipynb",
      "provenance": [],
      "collapsed_sections": [
        "9UopX1LaN1sw",
        "Gjh2RTjKRchf",
        "dUKylM7QTQJN",
        "a-BKwnp7kNRZ",
        "8npYmE3LnUn0"
      ]
    },
    "kernelspec": {
      "name": "python3",
      "display_name": "Python 3"
    }
  },
  "cells": [
    {
      "cell_type": "markdown",
      "metadata": {
        "id": "3XDmFU0wtXk7"
      },
      "source": [
        "# Introducción a Pandas"
      ]
    },
    {
      "cell_type": "markdown",
      "metadata": {
        "id": "EG2D12xotdo-"
      },
      "source": [
        "Una breve introducción de no más de 15 minutos a Pandas. Esta basado en el capítulo 2 de **Pandas in Action** de Boris Paskhaver."
      ]
    },
    {
      "cell_type": "code",
      "metadata": {
        "id": "psrO3gYy747-"
      },
      "source": [
        "import pandas as pd"
      ],
      "execution_count": null,
      "outputs": []
    },
    {
      "cell_type": "markdown",
      "metadata": {
        "id": "QjsR6W8j8kDY"
      },
      "source": [
        "Leer el archivo movies.csv\n",
        "Los datos de ese archivo son guardados en el **DataFrame** que hemos llamado movies."
      ]
    },
    {
      "cell_type": "code",
      "metadata": {
        "id": "S5x_EBHS8q4u"
      },
      "source": [
        "movies = pd.read_csv(\"https://raw.githubusercontent.com/uvg-cc2005/jupyter-notebooks-2019/master/movies.csv\")"
      ],
      "execution_count": null,
      "outputs": []
    },
    {
      "cell_type": "markdown",
      "metadata": {
        "id": "XlxC_V5B9e56"
      },
      "source": [
        "Un DataFrame es una de los tipos de datos que maneja Pandas. Es similar a una hoja electrónica, organizado por filas y columnas.\n",
        "Mostrar los primeros cuatro registros del DataFrame."
      ]
    },
    {
      "cell_type": "code",
      "metadata": {
        "id": "N74LQ8tL9i8m"
      },
      "source": [
        "movies.head(4)"
      ],
      "execution_count": null,
      "outputs": []
    },
    {
      "cell_type": "markdown",
      "metadata": {
        "id": "DVa8OtWu47Ig"
      },
      "source": [
        "Puede notarse que al inicio de cada fila aparece un número resaltado en negritas.\n",
        "Ese es el **índice** de la fila. (Recuerda el índice cuando se emplean listas). Inicia desde el número 0."
      ]
    },
    {
      "cell_type": "markdown",
      "metadata": {
        "id": "h2-9BknJLU-y"
      },
      "source": [
        "Cada columna tiene un título: Rank, Title, Studio, Gross, Year"
      ]
    },
    {
      "cell_type": "markdown",
      "metadata": {
        "id": "MQo-aWjF_4DV"
      },
      "source": [
        "Podemos ver también, los últimos 4 registros del DataFrame."
      ]
    },
    {
      "cell_type": "code",
      "metadata": {
        "id": "KHJj7R8w_8cE"
      },
      "source": [
        "movies.tail(4)"
      ],
      "execution_count": null,
      "outputs": []
    },
    {
      "cell_type": "markdown",
      "metadata": {
        "id": "rbNF42kx6pG-"
      },
      "source": [
        "Varias funciones de Python funcionan con los DataFrame. Por ejemplo podemos saber la cantidad de filas con len (como lo hacemos también con las listas):"
      ]
    },
    {
      "cell_type": "code",
      "metadata": {
        "id": "0jiZmil67KjS"
      },
      "source": [
        "len(movies)"
      ],
      "execution_count": null,
      "outputs": []
    },
    {
      "cell_type": "markdown",
      "metadata": {
        "id": "Fn0yIFPGLpNX"
      },
      "source": [
        "Se puede saber la cantidad de filas y columnas del DataFrame:\n"
      ]
    },
    {
      "cell_type": "code",
      "metadata": {
        "id": "4FFEqywEL3gI"
      },
      "source": [
        "movies.shape"
      ],
      "execution_count": null,
      "outputs": []
    },
    {
      "cell_type": "markdown",
      "metadata": {
        "id": "_D0wjtJ0MjbW"
      },
      "source": [
        "Se puede localizar una fila por su índice. Por ejemplo cual es la fila que tiene índice 499 (recordar que los índices inician en 0, como todo en Python)"
      ]
    },
    {
      "cell_type": "code",
      "metadata": {
        "id": "S5OujKBLM9AO"
      },
      "source": [
        "movies.iloc[499]"
      ],
      "execution_count": null,
      "outputs": []
    },
    {
      "cell_type": "markdown",
      "metadata": {
        "id": "Lpp4e0XBNWL4"
      },
      "source": [
        "Podemos ver también un rango de filas, de la misma manera que lo hariamos con un slice de una lista:"
      ]
    },
    {
      "cell_type": "code",
      "metadata": {
        "id": "W2dvqqywNgj8"
      },
      "source": [
        "movies.iloc[10:15]"
      ],
      "execution_count": null,
      "outputs": []
    },
    {
      "cell_type": "markdown",
      "metadata": {
        "id": "9UopX1LaN1sw"
      },
      "source": [
        "# Consultas sobre el DataFrame"
      ]
    },
    {
      "cell_type": "markdown",
      "metadata": {
        "id": "XbufB3OePEac"
      },
      "source": [
        "Podemos ver cuales son las películas más recientes. Para eso podemos ordenar el DataFrame por la columna Year. (Solo veremos las primeras 6 filas de ese resultado, recordar que el DataFrame tiene muchas más filas)"
      ]
    },
    {
      "cell_type": "code",
      "metadata": {
        "id": "8EwzpQXaPqXD"
      },
      "source": [
        "movies.sort_values(\"Year\",ascending=False).head(6)"
      ],
      "execution_count": null,
      "outputs": []
    },
    {
      "cell_type": "markdown",
      "metadata": {
        "id": "PTLpOHbUQPW4"
      },
      "source": [
        "Ahora ordenaremos el DataFrame por dos columnas: Studio (alfabéticamente) y luego por Year (en orden ascendente). Solo veremos las primeras filas del resultado."
      ]
    },
    {
      "cell_type": "code",
      "metadata": {
        "id": "l7B96jtFQwC6"
      },
      "source": [
        "movies.sort_values([\"Studio\",\"Year\"]).head()"
      ],
      "execution_count": null,
      "outputs": []
    },
    {
      "cell_type": "markdown",
      "metadata": {
        "id": "Gjh2RTjKRchf"
      },
      "source": [
        "# Contando valores"
      ]
    },
    {
      "cell_type": "markdown",
      "metadata": {
        "id": "7XANFCUJRimp"
      },
      "source": [
        "Contemos cuantas películas se han producido por Studio. Primero seleccionemos la columna. **NOTA**: recuerda que aquí siempre usamos head() solo para limitar la cantidad de lineas mostradas (porque son muchas filas)."
      ]
    },
    {
      "cell_type": "code",
      "metadata": {
        "id": "YpQsa1ciRyDT"
      },
      "source": [
        "movies[\"Studio\"].head()"
      ],
      "execution_count": null,
      "outputs": []
    },
    {
      "cell_type": "markdown",
      "metadata": {
        "id": "MwXyp57YSKWi"
      },
      "source": [
        "Ahora si viene la instrucción completa para contar las películas por Studio:"
      ]
    },
    {
      "cell_type": "code",
      "metadata": {
        "id": "GkxI_PNPSYkW"
      },
      "source": [
        "movies[\"Studio\"].value_counts().head(10)"
      ],
      "execution_count": null,
      "outputs": []
    },
    {
      "cell_type": "markdown",
      "metadata": {
        "id": "dUKylM7QTQJN"
      },
      "source": [
        "# Filtrado: seleccionar solo filas deseadas"
      ]
    },
    {
      "cell_type": "markdown",
      "metadata": {
        "id": "S_P0C0-XTWZv"
      },
      "source": [
        "Seleccionar solo las películas producidas por el Studio MGM. "
      ]
    },
    {
      "cell_type": "code",
      "metadata": {
        "id": "9W0VzuCEULgv"
      },
      "source": [
        "movies[movies[\"Studio\"]==\"MGM\"]"
      ],
      "execution_count": null,
      "outputs": []
    },
    {
      "cell_type": "markdown",
      "metadata": {
        "id": "SD2PwUjmVKrm"
      },
      "source": [
        "Ver que el criterio para la búsqueda es tomar las filas que tienen **Studio** igual a \"MGM\". Ese criterio lo podemos también escribir:"
      ]
    },
    {
      "cell_type": "code",
      "metadata": {
        "id": "KfU2zSLzVjhG"
      },
      "source": [
        "producidas_por_MGM = movies[\"Studio\"] == \"MGM\""
      ],
      "execution_count": null,
      "outputs": []
    },
    {
      "cell_type": "markdown",
      "metadata": {
        "id": "tFvXoGfoVq7l"
      },
      "source": [
        "Ahora **criterio** guarda los índices de las filas que cumplen con la condición deseada. Así lo podemos emplear para mostrar esas filas:"
      ]
    },
    {
      "cell_type": "code",
      "metadata": {
        "id": "EbVYrELKWKgc"
      },
      "source": [
        "movies[producidas_por_MGM]"
      ],
      "execution_count": null,
      "outputs": []
    },
    {
      "cell_type": "markdown",
      "metadata": {
        "id": "49bFgaDaWafF"
      },
      "source": [
        "Ambos resultados son iguales. Pero muchas veces es más claro poner una instrucción adicional para expresar el criterio y luego emplearlo en la selección de las filas."
      ]
    },
    {
      "cell_type": "markdown",
      "metadata": {
        "id": "P-aCimfuZ10r"
      },
      "source": [
        "Podemos combinar criterios. Por ejemplo crearemos un criterio adicional para las películas estrenadas después del año 2000:"
      ]
    },
    {
      "cell_type": "code",
      "metadata": {
        "id": "E_-6_BjTaBPI"
      },
      "source": [
        "estrenos_despues_2000 = movies['Year'] > 2000"
      ],
      "execution_count": null,
      "outputs": []
    },
    {
      "cell_type": "markdown",
      "metadata": {
        "id": "vblZpKpTaJX4"
      },
      "source": [
        "Y ahora combinamos ambos criterios para ver las películas producidas por MGM y que se hayan estrenado después del año 2000:"
      ]
    },
    {
      "cell_type": "code",
      "metadata": {
        "id": "GgMsYknzaTp5"
      },
      "source": [
        "movies[producidas_por_MGM & estrenos_despues_2000]"
      ],
      "execution_count": null,
      "outputs": []
    },
    {
      "cell_type": "markdown",
      "metadata": {
        "id": "cOEcOk5Qc59x"
      },
      "source": [
        "También podemos combinar los criterios indicando que se cumpla uno u el otro critero (or lógico):"
      ]
    },
    {
      "cell_type": "code",
      "metadata": {
        "id": "syicGrDCdDSM"
      },
      "source": [
        "movies[producidas_por_MGM | estrenos_despues_2000]"
      ],
      "execution_count": null,
      "outputs": []
    },
    {
      "cell_type": "markdown",
      "metadata": {
        "id": "a-BKwnp7kNRZ"
      },
      "source": [
        "# Limpiar datos (opcional)"
      ]
    },
    {
      "cell_type": "markdown",
      "metadata": {
        "id": "oq4iBP89kTOH"
      },
      "source": [
        "Una de las labores que usualmente tenemos que hacer en nuestras labores de análisis de datos (y Data Science) es ajustar los valores que se nos proporcionan para poder hacer cálculos con ellos."
      ]
    },
    {
      "cell_type": "markdown",
      "metadata": {
        "id": "tXlN-yqwkf0n"
      },
      "source": [
        "Vamos a \"limpiar\" la columna **Gross** para que sea numérica. Observar que ahorita tiene el signo $ y comas para separar los millares. Los quitaremos y la convertiremos a flotante."
      ]
    },
    {
      "cell_type": "code",
      "metadata": {
        "id": "lVYgisKFlbfu"
      },
      "source": [
        "movies['Gross'].str.replace('$','').str.replace(',','')"
      ],
      "execution_count": null,
      "outputs": []
    },
    {
      "cell_type": "markdown",
      "metadata": {
        "id": "q2QBQ_4jl5ss"
      },
      "source": [
        "Ya se quitaron el signo $ y las comas. Ahora le agregaremos que lo convierta a números flotantes."
      ]
    },
    {
      "cell_type": "code",
      "metadata": {
        "id": "Q4I1YO55mKsl"
      },
      "source": [
        "movies['Gross'].str.replace('$','').str.replace(',','').astype(float)"
      ],
      "execution_count": null,
      "outputs": []
    },
    {
      "cell_type": "markdown",
      "metadata": {
        "id": "0AVkYSe5m1pV"
      },
      "source": [
        "Estas operaciones han creado una columna (en Pandas se llama Series) distinta de nuestro DataFrame, para que éste no sea alterado. \n",
        "Ya vimos que si es lo que queremos y ahora sustituiremos la columna Gross de nuestro DataFrame:"
      ]
    },
    {
      "cell_type": "code",
      "metadata": {
        "id": "JuU5tvD3mreJ"
      },
      "source": [
        "movies['Gross'] = movies['Gross'].str.replace('$','').str.replace(',','').astype(float)"
      ],
      "execution_count": null,
      "outputs": []
    },
    {
      "cell_type": "markdown",
      "metadata": {
        "id": "PDgjCi-Lm-k_"
      },
      "source": [
        "veamos si funcionó, mostrar la columna **Gross**"
      ]
    },
    {
      "cell_type": "code",
      "metadata": {
        "id": "j8TQ5ixKnEyw"
      },
      "source": [
        "movies['Gross']"
      ],
      "execution_count": null,
      "outputs": []
    },
    {
      "cell_type": "markdown",
      "metadata": {
        "id": "Nw9lV1OynO_d"
      },
      "source": [
        "Listo! Ya hemos limpiado nuestros datos para que se puedan hacer cálculos con ellos."
      ]
    },
    {
      "cell_type": "markdown",
      "metadata": {
        "id": "8npYmE3LnUn0"
      },
      "source": [
        "# Agrupar Datos"
      ]
    },
    {
      "cell_type": "markdown",
      "metadata": {
        "id": "9D5cQdc9noPN"
      },
      "source": [
        "Sacaremos los totales de ingresos de la columna **Gross** agrupados por **Studio** que produjo las películas."
      ]
    },
    {
      "cell_type": "markdown",
      "metadata": {
        "id": "iNi0sOn9okYr"
      },
      "source": [
        "Primero agruparemos el DataFrame por Studio:"
      ]
    },
    {
      "cell_type": "code",
      "metadata": {
        "id": "5ptdW8bSonxL"
      },
      "source": [
        "studios = movies.groupby('Studio')"
      ],
      "execution_count": null,
      "outputs": []
    },
    {
      "cell_type": "markdown",
      "metadata": {
        "id": "o3kp3kRRo5l8"
      },
      "source": [
        "Y ahora encontrar los totales por la columna Gross.\n",
        "Usaremos head para desplegar solo las primeras filas"
      ]
    },
    {
      "cell_type": "code",
      "metadata": {
        "id": "_QHU-ruFpEn9"
      },
      "source": [
        "studios['Gross'].sum().head()"
      ],
      "execution_count": null,
      "outputs": []
    },
    {
      "cell_type": "markdown",
      "metadata": {
        "id": "yhXGZET8puST"
      },
      "source": [
        "Pero los queremos ordenados por el que tiene más ingresos en la columna Gross:"
      ]
    },
    {
      "cell_type": "code",
      "metadata": {
        "id": "bOZwTD1hp0dC"
      },
      "source": [
        "studios['Gross'].sum().sort_values(ascending= False).head()"
      ],
      "execution_count": null,
      "outputs": []
    }
  ]
}
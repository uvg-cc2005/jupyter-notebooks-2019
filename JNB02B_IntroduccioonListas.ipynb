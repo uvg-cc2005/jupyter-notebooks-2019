{
 "cells": [
  {
   "cell_type": "markdown",
   "metadata": {},
   "source": [
    "A continuación se describe qué son las listas y cómo trabajar con los ítems individuales de una lista.  Aprenderemos cómo agregar y remover elementos, ordenarlas de forma permanente y temporal, además de cómo prevenir errores de indexación."
   ]
  },
  {
   "cell_type": "code",
   "execution_count": 12,
   "metadata": {},
   "outputs": [
    {
     "name": "stdout",
     "output_type": "stream",
     "text": [
      "['sandra torres', 'thelma aldana', 'zury ríos', 'alejandro alejos']\n"
     ]
    }
   ],
   "source": [
    "# Creando listas de presidenciables\n",
    "presidenciables = ['sandra torres', 'thelma aldana', 'zury ríos', 'alejandro alejos']\n",
    "\n",
    "print(presidenciables)"
   ]
  },
  {
   "cell_type": "code",
   "execution_count": null,
   "metadata": {},
   "outputs": [],
   "source": [
    "# Seleccionando un ítem específico\n",
    "\n",
    "print(presidenciables[0])"
   ]
  },
  {
   "cell_type": "code",
   "execution_count": null,
   "metadata": {},
   "outputs": [],
   "source": [
    "# Aplicando métodos de strings a los ítems de la lista presidenciables\n",
    "\n",
    "print(presidenciables[0].title())"
   ]
  },
  {
   "cell_type": "code",
   "execution_count": null,
   "metadata": {},
   "outputs": [],
   "source": [
    "# Los ítems de un string se pueden utilizar como cualquier otra variable.\n",
    "\n",
    "mensaje = \"Es la cuarta vez que \" + presidenciables[0].title() + \" intenta ser presidenta.\"\n",
    "\n",
    "print(message)"
   ]
  },
  {
   "cell_type": "code",
   "execution_count": null,
   "metadata": {},
   "outputs": [],
   "source": [
    "# Los ítems en un string empiezan en la posición '0'\n",
    "\n",
    "print(presidenciables[1])\n",
    "print(presidenciables[3])"
   ]
  },
  {
   "cell_type": "code",
   "execution_count": null,
   "metadata": {},
   "outputs": [],
   "source": [
    "# Obteniendo el último ítem de un string\n",
    "\n",
    "print(presidenciables[-1])"
   ]
  },
  {
   "cell_type": "code",
   "execution_count": null,
   "metadata": {},
   "outputs": [],
   "source": [
    "# Modificando los ítems en una lista\n",
    "\n",
    "presidenciables = ['sandra torres', 'thelma aldana', 'zury ríos', 'alejandro alejos']\n",
    "print(presidenciables)\n",
    "\n",
    "presidenciables[0] = 'alejandro giamattei'\n",
    "print(presidenciables)"
   ]
  },
  {
   "cell_type": "code",
   "execution_count": null,
   "metadata": {},
   "outputs": [],
   "source": [
    "# Agregando nuevos ítems a una lista\n",
    "\n",
    "presidenciables = ['sandra torres', 'thelma aldana', 'zury ríos', 'alejandro alejos']\n",
    "print(presidenciables)\n",
    "\n",
    "presidenciables.append('alejandro giamattei')\n",
    "print(presidenciables)"
   ]
  },
  {
   "cell_type": "code",
   "execution_count": null,
   "metadata": {},
   "outputs": [],
   "source": [
    "# Generando una lista vacía y populándola paso a paso\n",
    "\n",
    "presidenciables = []\n",
    "\n",
    "presidenciables.append('luis von ahn')\n",
    "presidenciables.append('juan pablo romero')\n",
    "presidenciables.append('brenda lemus')\n",
    "\n",
    "print(presidenciables)"
   ]
  },
  {
   "cell_type": "code",
   "execution_count": null,
   "metadata": {},
   "outputs": [],
   "source": [
    "# Removiendo elementos si conozco la posición\n",
    "\n",
    "presidenciables = ['sandra torres', 'thelma aldana', 'zury ríos', 'alejandro alejos']\n",
    "print(presidenciables)\n",
    "\n",
    "del presidenciables[0]\n",
    "print(presidenciables)\n"
   ]
  },
  {
   "cell_type": "code",
   "execution_count": null,
   "metadata": {},
   "outputs": [],
   "source": [
    "# Removiendo elementos utilizando el método pop()\n",
    "\n",
    "presidenciables = ['sandra torres', 'thelma aldana', 'zury ríos', 'alejandro alejos']\n",
    "print(presidenciables)\n",
    "\n",
    "ultimo_inscrito = presidenciables.pop()\n",
    "print(presidenciables)\n",
    "print(ultimo_inscrito)\n",
    "\n",
    "# Aplicación\n",
    "# Ítems ordenados cronológicamente.  Podemos utilizar 'pop' para hacer referencia al último objeto adquirido.\n",
    "\n",
    "ultimo_inscrito = presidenciables.pop()\n",
    "print(\"El último candidato inscrito fue \" + ultimo_inscrito.title() + \".\")"
   ]
  },
  {
   "cell_type": "code",
   "execution_count": null,
   "metadata": {},
   "outputs": [],
   "source": [
    "# Removiendo elementos que están en cualquier posición.\n",
    "\n",
    "presidenciables = ['sandra torres', 'thelma aldana', 'zury ríos', 'alejandro alejos']\n",
    "siempre_inscrito = presidenciables.pop(0)\n",
    "\n",
    "print(\"El candidato que siempre se inscribe y no queda es \" + siempre_inscrito.title() + \".\")\n",
    "print(presidenciables)"
   ]
  },
  {
   "cell_type": "code",
   "execution_count": null,
   "metadata": {},
   "outputs": [],
   "source": [
    "# Removiendo elementos según su valor dentro de una lista.\n",
    "\n",
    "presidenciables = ['sandra torres', 'thelma aldana', 'zury ríos', 'alejandro alejos']\n",
    "print(presidenciables)\n",
    "\n",
    "presidenciables.remove('zury ríos')\n",
    "print(presidenciables)"
   ]
  },
  {
   "cell_type": "code",
   "execution_count": null,
   "metadata": {},
   "outputs": [],
   "source": [
    "# Removiendo elementos según su valor dentro de una lista y utilizando su valor después!\n",
    "\n",
    "presidenciables = ['sandra torres', 'thelma aldana', 'zury ríos', 'alejandro alejos', 'jimmy morales']\n",
    "print(presidenciables)\n",
    "\n",
    "participacion_prohibida = 'jimmy morales'\n",
    "presidenciables.remove(participacion_prohibida)\n",
    "\n",
    "print(presidenciables)\n",
    "print(\"\\nA \" + participacion_prohibida.title() + \" ya no puede participar.\" )"
   ]
  },
  {
   "cell_type": "code",
   "execution_count": null,
   "metadata": {},
   "outputs": [],
   "source": [
    "# Ordenando una lista, alfabéticamente, de forma permanente.\n",
    "\n",
    "presidenciables = ['sandra torres', 'thelma aldana', 'zury ríos', 'alejandro alejos']\n",
    "presidenciables.sort()\n",
    "\n",
    "print(presidenciables)"
   ]
  },
  {
   "cell_type": "code",
   "execution_count": null,
   "metadata": {},
   "outputs": [],
   "source": [
    "# Ordenando una lista, alfabéticamente, pero al revés (también es permanente)!\n",
    "\n",
    "presidenciables = ['sandra torres', 'thelma aldana', 'zury ríos', 'alejandro alejos']\n",
    "presidenciables.sort(reverse = True)\n",
    "\n",
    "print(presidenciables)\n"
   ]
  },
  {
   "cell_type": "code",
   "execution_count": null,
   "metadata": {},
   "outputs": [],
   "source": [
    "# Encontrando la longitud de una lista.\n",
    "\n",
    "presidenciables = ['sandra torres', 'thelma aldana', 'zury ríos', 'alejandro alejos']\n",
    "\n",
    "len(presidenciables)"
   ]
  },
  {
   "cell_type": "code",
   "execution_count": null,
   "metadata": {},
   "outputs": [],
   "source": [
    "# Error al referirnos al índice de una lista.\n",
    "presidenciables = ['sandra torres', 'thelma aldana', 'zury ríos', 'alejandro alejos']\n",
    "\n",
    "print(presidenciables[4])\n"
   ]
  },
  {
   "cell_type": "code",
   "execution_count": null,
   "metadata": {},
   "outputs": [],
   "source": [
    "# Errores in listas vacías (con algo que usualmente funcionaba)\n",
    "\n",
    "presidenciables = []\n",
    "presidenciables[-1]"
   ]
  },
  {
   "cell_type": "code",
   "execution_count": null,
   "metadata": {},
   "outputs": [],
   "source": [
    "# Las listas pueden albergar todo tipo de datos!\n",
    "\n",
    "lista1 = ['a', 5, [10,20], 'z']\n",
    "print(lista1)\n",
    "\n",
    "print(lista1[2][0])"
   ]
  }
 ],
 "metadata": {
  "kernelspec": {
   "display_name": "Python 3",
   "language": "python",
   "name": "python3"
  },
  "language_info": {
   "codemirror_mode": {
    "name": "ipython",
    "version": 3
   },
   "file_extension": ".py",
   "mimetype": "text/x-python",
   "name": "python",
   "nbconvert_exporter": "python",
   "pygments_lexer": "ipython3",
   "version": "3.7.1"
  }
 },
 "nbformat": 4,
 "nbformat_minor": 2
}

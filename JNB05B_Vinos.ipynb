{
 "cells": [
  {
   "cell_type": "markdown",
   "metadata": {},
   "source": [
    "### Uso de NumPy para leer archivos\n",
    "\n",
    "Es posible usar el módulo NumPy para leer archivos .csv, o de otros tipos, y cargarlos directamente en arreglos.  Esto se puede hacer utilizando la función _**numpy.genfromtxt**_.  En este ejercicio lo utilizaremos para leer los datos en un archivo _clásico_ del repositorio **UCI Machine Learning Repository** llamado _winequality-red.csv_ que tiene datos sobre vinos rojos.\n",
    "\n",
    "En el código de abajo, se hace lo siguiente:\n",
    "\n",
    "1. Usar la función _genfromtxt_ para leer los datos del archivo _winequality-red.csv_.\n",
    "2. Especificar el argumento _delimiter=\";\"_ para separar los campos correctamente.\n",
    "3. Especificar el argumento _skip_header=1_ para brincar la primera fila (las etiquetas de los campos).\n",
    "\n",
    "NumPy automaticamente escogerá un tipo de dato para los elementos en el arreglo, basado en su formato."
   ]
  },
  {
   "cell_type": "code",
   "execution_count": 1,
   "metadata": {},
   "outputs": [
    {
     "data": {
      "text/plain": [
       "array([[ 7.4  ,  0.7  ,  0.   , ...,  0.56 ,  9.4  ,  5.   ],\n",
       "       [ 7.8  ,  0.88 ,  0.   , ...,  0.68 ,  9.8  ,  5.   ],\n",
       "       [ 7.8  ,  0.76 ,  0.04 , ...,  0.65 ,  9.8  ,  5.   ],\n",
       "       ...,\n",
       "       [ 6.3  ,  0.51 ,  0.13 , ...,  0.75 , 11.   ,  6.   ],\n",
       "       [ 5.9  ,  0.645,  0.12 , ...,  0.71 , 10.2  ,  5.   ],\n",
       "       [ 6.   ,  0.31 ,  0.47 , ...,  0.66 , 11.   ,  6.   ]])"
      ]
     },
     "execution_count": 1,
     "metadata": {},
     "output_type": "execute_result"
    }
   ],
   "source": [
    "import numpy as np\n",
    "\n",
    "vinos = np.genfromtxt(\"winequality-red.csv\", delimiter=\";\", skip_header=1)\n",
    "\n",
    "vinos"
   ]
  }
 ],
 "metadata": {
  "kernelspec": {
   "display_name": "Python 3",
   "language": "python",
   "name": "python3"
  },
  "language_info": {
   "codemirror_mode": {
    "name": "ipython",
    "version": 3
   },
   "file_extension": ".py",
   "mimetype": "text/x-python",
   "name": "python",
   "nbconvert_exporter": "python",
   "pygments_lexer": "ipython3",
   "version": "3.6.4"
  }
 },
 "nbformat": 4,
 "nbformat_minor": 2
}

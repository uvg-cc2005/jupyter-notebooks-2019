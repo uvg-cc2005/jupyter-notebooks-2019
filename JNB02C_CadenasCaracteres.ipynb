{
 "cells": [
  {
   "cell_type": "markdown",
   "metadata": {},
   "source": [
    "## Cadenas de caracteres\n",
    "\n",
    "El día de hoy aprenderemos sobre cadenas de caracteres o tipo de dato **String**\n",
    "\n",
    "Utilizamos los strings para trabajar con texto. Para que el intérprete de Python sepa que nuestras palabras son un string y no nos estamos refiriendo a nombres de variables, debemos colocar nuestro texto entre comillas, de la siguiente manera"
   ]
  },
  {
   "cell_type": "code",
   "execution_count": 1,
   "metadata": {},
   "outputs": [
    {
     "name": "stdout",
     "output_type": "stream",
     "text": [
      "hola\n"
     ]
    }
   ],
   "source": [
    "saludo = \"hola\"\n",
    "print(saludo)"
   ]
  },
  {
   "cell_type": "code",
   "execution_count": 2,
   "metadata": {},
   "outputs": [
    {
     "name": "stdout",
     "output_type": "stream",
     "text": [
      "hola reemplaza este texto por tu nombre reemplaza este texto por tu apellido\n"
     ]
    }
   ],
   "source": [
    "#Tu también puedes modificar los programas en estas casillas\n",
    "#prueba ingresando los siguientes datos\n",
    "\n",
    "nombre = \"reemplaza este texto por tu nombre\"\n",
    "apellido = \"reemplaza este texto por tu apellido\"\n",
    "carnet = \"reemplaza este texto por tu numero de carnet\"\n",
    "\n",
    "#podemos imprimir un saludo específico para tí con este código\n",
    "print(saludo, nombre, apellido)"
   ]
  },
  {
   "cell_type": "markdown",
   "metadata": {},
   "source": [
    "También podemos crear nuevos string a partir de los anteriores"
   ]
  },
  {
   "cell_type": "code",
   "execution_count": 3,
   "metadata": {},
   "outputs": [
    {
     "name": "stdout",
     "output_type": "stream",
     "text": [
      "Buenos días reemplaza este texto por tu nombre reemplaza este texto por tu apellido\n"
     ]
    }
   ],
   "source": [
    "saludo_personalizado = \"Buenos días \" + nombre + \" \" + apellido\n",
    "\n",
    "#Nota que hemos agregado unos espacios en blanco para que el texto no salga pegado\n",
    "\n",
    "print(saludo_personalizado)"
   ]
  },
  {
   "cell_type": "markdown",
   "metadata": {},
   "source": [
    "Al decir que los strings son cadenas de caracteres, estamos diciendo que están compuestas por caracteres individuales y que estos caracteres están relacionados de una forma lineal.\n",
    "\n",
    "Podemos acceder a los caracteres individuales de un string utilizando los corchetes e indicando el número de posición del caracter que queremos obtener"
   ]
  },
  {
   "cell_type": "code",
   "execution_count": 4,
   "metadata": {},
   "outputs": [
    {
     "name": "stdout",
     "output_type": "stream",
     "text": [
      "La primera letra de tu nombre es  r\n"
     ]
    }
   ],
   "source": [
    "primera_letra = nombre[0]\n",
    "\n",
    "print(\"La primera letra de tu nombre es \", primera_letra)"
   ]
  },
  {
   "cell_type": "markdown",
   "metadata": {},
   "source": [
    "Modifica el siguiente código para que pueda mostrar la segunda letra de tu nombre"
   ]
  },
  {
   "cell_type": "code",
   "execution_count": 5,
   "metadata": {},
   "outputs": [
    {
     "name": "stdout",
     "output_type": "stream",
     "text": [
      "La segunda letra de tu nombre es  r\n"
     ]
    }
   ],
   "source": [
    "segunda_letra = nombre[0]\n",
    "\n",
    "print(\"La segunda letra de tu nombre es \", segunda_letra)"
   ]
  },
  {
   "cell_type": "markdown",
   "metadata": {},
   "source": [
    "También podemos utilizar números negativos para empezar a contar desde el final de la cadena"
   ]
  },
  {
   "cell_type": "code",
   "execution_count": 6,
   "metadata": {},
   "outputs": [
    {
     "name": "stdout",
     "output_type": "stream",
     "text": [
      "La última letra de tu nombre es  e\n"
     ]
    }
   ],
   "source": [
    "ultima_letra = nombre[-1]\n",
    "\n",
    "print(\"La última letra de tu nombre es \", ultima_letra)"
   ]
  },
  {
   "cell_type": "markdown",
   "metadata": {},
   "source": [
    "La función len() nos da la longitud de una cadena"
   ]
  },
  {
   "cell_type": "code",
   "execution_count": 7,
   "metadata": {},
   "outputs": [
    {
     "name": "stdout",
     "output_type": "stream",
     "text": [
      "Tu nombre tiene  34  letras\n"
     ]
    }
   ],
   "source": [
    "longitud = len(nombre)\n",
    "print(\"Tu nombre tiene \", longitud, \" letras\")"
   ]
  },
  {
   "cell_type": "markdown",
   "metadata": {},
   "source": [
    "También podemos obtener la última letra utilizando el tamaño de la cadena. Debido a que las posiciones de los caracteres empiezan en cero y no en uno debemos restarle uno a la longitud para obtener el último caracter"
   ]
  },
  {
   "cell_type": "code",
   "execution_count": 9,
   "metadata": {},
   "outputs": [
    {
     "name": "stdout",
     "output_type": "stream",
     "text": [
      "La última letra de tu nombre es  e\n"
     ]
    }
   ],
   "source": [
    "longitud =  len(nombre)\n",
    "pos_ultima_letra = longitud - 1 #restamos uno porque las posiciones empiezan en cero\n",
    "ultima_letra = nombre[pos_ultima_letra]\n",
    "\n",
    "print(\"La última letra de tu nombre es \", ultima_letra)\n"
   ]
  },
  {
   "cell_type": "markdown",
   "metadata": {},
   "source": [
    "Podemos referirnos a conjuntos de caracteres indicando las posiciones en las que queremos que empiece y termine el conjunto"
   ]
  },
  {
   "cell_type": "code",
   "execution_count": 13,
   "metadata": {},
   "outputs": [
    {
     "name": "stdout",
     "output_type": "stream",
     "text": [
      "Tu nombre completo es  reemplaza este texto por tu nombre reemplaza este texto por tu apellido\n",
      "Las primeras cinco letras de tu nombre son  reemp\n"
     ]
    }
   ],
   "source": [
    "nombre_completo = nombre + \" \" + apellido\n",
    "print (\"Tu nombre completo es \", nombre_completo)\n",
    "\n",
    "\n",
    "#Definimos un segmento que inicia en la posición cero y termina en la posición 5 (sin incluir la letra en esta posición)\n",
    "segmento = nombre_completo[0:5]\n",
    "print(\"Las primeras cinco letras de tu nombre son \", segmento)"
   ]
  },
  {
   "cell_type": "code",
   "execution_count": 14,
   "metadata": {},
   "outputs": [
    {
     "name": "stdout",
     "output_type": "stream",
     "text": [
      "Tu correo UVG es  reereemplaza este texto por tu numero de carnet@uvg.edu.gt\n"
     ]
    }
   ],
   "source": [
    "#En este ejemplo generaremos el correo UVG a partir de los datos que ya tenemos\n",
    "#El correo UVG está formado por las tres primeras letras del apellido más el número de carnet más arroba más el dominio\n",
    "#De esta manera\n",
    "\n",
    "correo_uvg = apellido[0:3] + carnet + \"@uvg.edu.gt\"\n",
    "print(\"Tu correo UVG es \", correo_uvg)"
   ]
  },
  {
   "cell_type": "markdown",
   "metadata": {},
   "source": [
    "## Funciones de las cadenas\n",
    "\n",
    "Las cadenas tienen algunas funciones que podemos utilizar para trabajar con ellas. A continuación veremos ejemplos de estas funciones"
   ]
  },
  {
   "cell_type": "code",
   "execution_count": 17,
   "metadata": {},
   "outputs": [
    {
     "name": "stdout",
     "output_type": "stream",
     "text": [
      "Minúsculas:  bienvenido al curso de algoritmos y programación básica\n",
      "Mayúsculas:  BIENVENIDO AL CURSO DE ALGORITMOS Y PROGRAMACIÓN BÁSICA\n",
      "Título:  Bienvenido Al Curso De Algoritmos Y Programación Básica\n"
     ]
    }
   ],
   "source": [
    "#Lower, Upper y Title sirven para cambiar entre mayúsculas y minúsculas\n",
    "\n",
    "mensaje = \"Bienvenido al curso de Algoritmos y Programación Básica\"\n",
    "\n",
    "print(\"Minúsculas: \", mensaje.lower())\n",
    "print(\"Mayúsculas: \", mensaje.upper())\n",
    "print(\"Título: \", mensaje.title())"
   ]
  },
  {
   "cell_type": "code",
   "execution_count": 18,
   "metadata": {},
   "outputs": [
    {
     "name": "stdout",
     "output_type": "stream",
     "text": [
      "¿Tu nombre contiene únicamente caracteres alfabéticos?  False\n",
      "¿Tu nombre contiene únicamente caracteres numéricos?  False\n",
      "¿Tu carnet contiene únicamente caracteres alfabéticos?  False\n",
      "¿Tu carnet contiene únicamente caracteres numéricos?  False\n"
     ]
    }
   ],
   "source": [
    "#isalpha e isdigit nos indican si un string está formado por caracteres alfabéticos o numéricos\n",
    "\n",
    "print(\"¿Tu nombre contiene únicamente caracteres alfabéticos? \", nombre.isalpha())\n",
    "print(\"¿Tu nombre contiene únicamente caracteres numéricos? \", nombre.isdigit())\n",
    "print(\"¿Tu carnet contiene únicamente caracteres alfabéticos? \", carnet.isalpha())\n",
    "print(\"¿Tu carnet contiene únicamente caracteres numéricos? \", carnet.isdigit())"
   ]
  },
  {
   "cell_type": "code",
   "execution_count": 19,
   "metadata": {},
   "outputs": [
    {
     "name": "stdout",
     "output_type": "stream",
     "text": [
      "True\n"
     ]
    }
   ],
   "source": [
    "#La función in nos indica si un string está contenido dentro de otro\n",
    "nombre_uvg = \"Universidad del Valle de Guatemala\"\n",
    "print(\"Universidad\" in nombre_uvg)"
   ]
  },
  {
   "cell_type": "code",
   "execution_count": 20,
   "metadata": {},
   "outputs": [
    {
     "name": "stdout",
     "output_type": "stream",
     "text": [
      "La letra G está en la posición  25\n"
     ]
    }
   ],
   "source": [
    "#La función find nos indica la posición que un caracter tiene en la cadena\n",
    "posicion = nombre_uvg.find(\"G\")\n",
    "print(\"La letra G está en la posición \", posicion)"
   ]
  },
  {
   "cell_type": "code",
   "execution_count": 21,
   "metadata": {},
   "outputs": [
    {
     "name": "stdout",
     "output_type": "stream",
     "text": [
      "La palabra 'Guatemala' está en la posición  25\n",
      "La palabra 'Honduras' está en la posición  -1\n"
     ]
    }
   ],
   "source": [
    "#También podemos buscar palabras completas y la función nos dirá en qué posición inicia esa palabra\n",
    "posicion1 = nombre_uvg.find(\"Guatemala\")\n",
    "posicion2 = nombre_uvg.find(\"Honduras\")\n",
    "\n",
    "print(\"La palabra 'Guatemala' está en la posición \", posicion1)\n",
    "print(\"La palabra 'Honduras' está en la posición \", posicion2)"
   ]
  },
  {
   "cell_type": "code",
   "execution_count": 25,
   "metadata": {},
   "outputs": [
    {
     "name": "stdout",
     "output_type": "stream",
     "text": [
      "Los niños juegan en el parque\n",
      "Las niñas juegan en el parque\n",
      "Los niños corren en el parque\n"
     ]
    }
   ],
   "source": [
    "#La función replace puede reemplazar caracteres o palabras completas\n",
    "oracion = \"Los niños juegan en el parque\"\n",
    "print(oracion)\n",
    "oracion2 = oracion.replace('o', 'a')\n",
    "print(oracion2)\n",
    "oracion3 = oracion.replace(\"juegan\", \"corren\")\n",
    "print(oracion3)"
   ]
  },
  {
   "cell_type": "code",
   "execution_count": 28,
   "metadata": {},
   "outputs": [
    {
     "name": "stdout",
     "output_type": "stream",
     "text": [
      "['Universidad', 'del', 'Valle', 'de', 'Guatemala']\n"
     ]
    }
   ],
   "source": [
    "#La función split puede separar una cadena de caracteres en una lista de palabras o frases\n",
    "#para esto definimos un carácter separador y este servirá para dividir la cadena\n",
    "nombre_uvg = \"Universidad del Valle de Guatemala\"\n",
    "palabras = nombre_uvg.split(\" \")\n",
    "print(palabras)"
   ]
  },
  {
   "cell_type": "code",
   "execution_count": null,
   "metadata": {},
   "outputs": [],
   "source": [
    "nombre_curso = \"Algoritmos_y_programacion_basica\"\n",
    "palabras = nombre_curso.split(\"_\")\n",
    "print(palabras)"
   ]
  }
 ],
 "metadata": {
  "kernelspec": {
   "display_name": "Python 3",
   "language": "python",
   "name": "python3"
  },
  "language_info": {
   "codemirror_mode": {
    "name": "ipython",
    "version": 3
   },
   "file_extension": ".py",
   "mimetype": "text/x-python",
   "name": "python",
   "nbconvert_exporter": "python",
   "pygments_lexer": "ipython3",
   "version": "3.7.1"
  }
 },
 "nbformat": 4,
 "nbformat_minor": 2
}

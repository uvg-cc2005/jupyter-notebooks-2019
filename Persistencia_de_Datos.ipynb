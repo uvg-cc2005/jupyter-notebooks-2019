{
  "nbformat": 4,
  "nbformat_minor": 0,
  "metadata": {
    "kernelspec": {
      "display_name": "Python 3",
      "language": "python",
      "name": "python3"
    },
    "language_info": {
      "codemirror_mode": {
        "name": "ipython",
        "version": 3
      },
      "file_extension": ".py",
      "mimetype": "text/x-python",
      "name": "python",
      "nbconvert_exporter": "python",
      "pygments_lexer": "ipython3",
      "version": "3.7.3"
    },
    "colab": {
      "name": "Persistencia de Datos.ipynb",
      "provenance": []
    }
  },
  "cells": [
    {
      "cell_type": "markdown",
      "metadata": {
        "id": "HsPBe5hycRl5",
        "colab_type": "text"
      },
      "source": [
        "# Tutorial sobre Persistencia de Datos utilizando archivos tipo CSV\n",
        "\n",
        "A lo largo del semestre hemos realizado diversidad de programas utilizando toda clase de datos, desde los simples como enteros, flotantes, caracteres y booleanos, hasta los complejos como cadenas, listas, diccionarios y arreglos.  Sin embargo, en todos los casos, una vez cerramos el programa, o apagamos el computador, todos los datos ingresados se pierden.\n",
        "\n",
        "El objetivo de este tutorial es ver cómo se pueden leer y grabar archivos para que no sea necesario ingresar toda la información, de nuevo, cada vez que corramos un programa.  A esta capacidad de almacenar los datos y poder volverlos a utilizar se le llama, en la jerga de computación, persistencia de datos.\n"
      ]
    },
    {
      "cell_type": "markdown",
      "metadata": {
        "id": "nR39y9uJcRl9",
        "colab_type": "text"
      },
      "source": [
        "# Archivos con formato de Hoja Electrónica\n",
        "\n",
        "Uno de los formatos de archivo con que más estamos familiarizados son los archivos producidos por los programas de Hojas Electrónicas, como Excel.  En estos, básicamente la información se guarda en forma tabular, con filas y columnas.  Si bien es cierto que en Python hay módulos que permiten leer y grabar en formato de archivos de Excel, sabemos que estos internamente tienen configuraciones propietarias y pueden haber muchas personas que usan programas que no son, o solamente parcialmente son, compatibles con Excel.\n",
        "\n",
        "Por este motivo, se acostumbra a intercambiar archivos con datos en forma tabular utilizando lo que se conoce como formato CSV.  CSV son las siglas de Comma Separated Values y los archivos de este tipo son archivos de texto, con una línea por fila de la tabla, pero para separar los valores de las columnas, se usan comas.  Así, si nosotros tenemos un archivo Excel con una tabla parecida a:\n",
        "\n",
        "| Carnet | Apellidos | Nombres | Dirección  | Zona | Carrera | Año de ingreso |\n",
        "|-------|--------------|-----------|----------------|---|-----------------|------|\n",
        "| 17543 | Pérez García | Juan Jesús| 23 Calle 12-45 | 8 | Ing. Mecatrónica| 2017 |\n",
        "| 18076 | Cano Sierra | Susana María | 4 Avenida 8-53 | 10 | Física | 2018 |\n",
        "\n",
        "\n",
        "En formato CSV, el archivo es un archivo simple de texto, así:\n",
        "\n",
        "Carnet, Apellidos, Nombres, Dirección, Zona, Carrera, Año de ingreso<br>\n",
        "17543, Pérez García, Juan Jesús, 23 Calle 12-45, 8, Ing. Mecatrónica, 2017<br>\n",
        "18076, Cano Sierra, Susana María, 4 Avenida 8-53, 10, Física, 2018\n",
        "\n",
        "Los archivos CSV son reconocidos y pueden ser generados por prácticamente cualquier programa, Excel entre tantos\n",
        "\n",
        "Python trae incorporado el módulo CSV por lo que no es necesario instalarlo\n"
      ]
    },
    {
      "cell_type": "markdown",
      "metadata": {
        "id": "qEGDkGcMcRl_",
        "colab_type": "text"
      },
      "source": [
        "# Lectura de archivos con CSV de Python"
      ]
    },
    {
      "cell_type": "code",
      "metadata": {
        "id": "Z0ODAyiecRmC",
        "colab_type": "code",
        "colab": {}
      },
      "source": [
        "import csv"
      ],
      "execution_count": 0,
      "outputs": []
    },
    {
      "cell_type": "code",
      "metadata": {
        "id": "dGnLVL81cRmK",
        "colab_type": "code",
        "colab": {},
        "outputId": "c1d7d9be-5512-4545-8a59-802b0a2ecd1f"
      },
      "source": [
        "with open('estudiantes.csv') as archivo_csv:\n",
        "    lector = csv.reader(archivo_csv, delimiter=',')\n",
        "    linea = 0\n",
        "    for fila in lector:\n",
        "        if linea == 0:\n",
        "            print(f'Los nombres de las columnas son {\", \".join(fila)} \\n')\n",
        "            linea += 1\n",
        "        else:\n",
        "            print(f'\\tEl estudiante de carnet {fila[0]} tiene apellidos {fila[1]} y nombres {fila[2]} ')\n",
        "            print(f'\\tvive en {fila[3]} de la zona {fila[4]} ') \n",
        "            print(f'\\testudia {fila[5]} e ingresó a la UVG en {fila[6]} \\n')\n",
        "            linea += 1\n",
        "    print(f'\\n Se procesaron {linea} lineas.')"
      ],
      "execution_count": 0,
      "outputs": [
        {
          "output_type": "stream",
          "text": [
            "Los nombres de las columnas son Carnet, Apellidos, Nombres, Dirección, Zona, Carrera, Año de ingreso \n",
            "\n",
            "\tEl estudiante de carnet 15421 tiene apellidos Quiroa y nombres Juana \n",
            "\tvive en Av. Reforma 5-34 de la zona 10 \n",
            "\testudia Psicología e ingresó a la UVG en 2015 \n",
            "\n",
            "\tEl estudiante de carnet 14923 tiene apellidos Rabbit y nombres Peter \n",
            "\tvive en 18 Av 11-37 de la zona 15 \n",
            "\testudia Ing. Industrial e ingresó a la UVG en 2014 \n",
            "\n",
            "\n",
            " Se procesaron 3 lineas.\n"
          ],
          "name": "stdout"
        }
      ]
    },
    {
      "cell_type": "markdown",
      "metadata": {
        "id": "V_vAPhx3cRmS",
        "colab_type": "text"
      },
      "source": [
        "# Grabar archivos CSV"
      ]
    },
    {
      "cell_type": "code",
      "metadata": {
        "id": "BmN-hLOfcRmU",
        "colab_type": "code",
        "colab": {},
        "outputId": "e45b33a5-4e3f-48af-daf7-46ad534e36e3"
      },
      "source": [
        "with open('estudiantes.csv', mode='w') as archivo_csv:\n",
        "    escritor = csv.writer(archivo_csv, delimiter=',', quotechar='\"', quoting=csv.QUOTE_MINIMAL)\n",
        "    \n",
        "    columnas = ['Carnet', 'Apellidos', 'Nombres', 'Dirección', 'Zona', 'Carrera', 'Año de ingreso']\n",
        "    escritor.writerow(columnas)\n",
        "    escritor.writerow(['15421', 'Quiroa', 'Juana', 'Av. Reforma 5-34', '10', 'Psicología', '2015'])\n",
        "    escritor.writerow(['14923', 'Rabbit', 'Peter', '18 Av 11-37', '15','Ing. Industrial', '2014'])\n",
        "    \n",
        "    print(\"\\tArchivo grabado\")"
      ],
      "execution_count": 0,
      "outputs": [
        {
          "output_type": "stream",
          "text": [
            "\tArchivo grabado\n"
          ],
          "name": "stdout"
        }
      ]
    },
    {
      "cell_type": "markdown",
      "metadata": {
        "id": "s7eXMsHscRma",
        "colab_type": "text"
      },
      "source": [
        "# Lectura de un archivo CSV como Diccionario"
      ]
    },
    {
      "cell_type": "code",
      "metadata": {
        "id": "FFjZIH2mcRmc",
        "colab_type": "code",
        "colab": {}
      },
      "source": [
        "with open('festejados.csv', mode='r') as archivo_csv:\n",
        "    lector = csv.DictReader(archivo_csv)\n",
        "    linea = 0\n",
        "    for fila in lector:\n",
        "        if linea == 0:\n",
        "            print(f'Los nombres de las columnas son:  {\", \".join(fila)} \\n')\n",
        "            linea += 1\n",
        "        print(f'\\t{fila[\"Nombre\"]} trabaja en el departamento {fila[\"Departamento\"]}, y nació en {fila[\"Mes Nacimiento\"]}.')\n",
        "        linea += 1\n",
        "    print(f'\\nSe procesaron {linea} lineas.')"
      ],
      "execution_count": 0,
      "outputs": []
    },
    {
      "cell_type": "markdown",
      "metadata": {
        "id": "dLqZvD9EcRmi",
        "colab_type": "text"
      },
      "source": [
        "# Grabado de un archivo CSV a partir de un Diccionario"
      ]
    },
    {
      "cell_type": "code",
      "metadata": {
        "id": "HTSuwdi1cRmk",
        "colab_type": "code",
        "colab": {},
        "outputId": "74c206da-ada1-4108-f3b6-57606debd25e"
      },
      "source": [
        "with open('festejados.csv', mode='a') as archivo_csv:\n",
        "    columnas = ['Nombre', 'Departamento', 'Mes Nacimiento']\n",
        "    escritor = csv.DictWriter(archivo_csv, fieldnames=columnas)\n",
        "\n",
        "    #escritor.writeheader()\n",
        "    escritor.writerow({'Nombre': 'Paquito', 'Departamento': 'Contabilidad', 'Mes Nacimiento': 'Noviembre'})\n",
        "    escritor.writerow({'Nombre': 'Ashleigh', 'Departamento': 'Computación', 'Mes Nacimiento': 'Marzo'})\n",
        "    \n",
        "    print(f'\\tArchivo grabado')"
      ],
      "execution_count": 0,
      "outputs": [
        {
          "output_type": "stream",
          "text": [
            "\tArchivo grabado\n"
          ],
          "name": "stdout"
        }
      ]
    }
  ]
}
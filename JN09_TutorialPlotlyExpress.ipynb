{
  "nbformat": 4,
  "nbformat_minor": 0,
  "metadata": {
    "kernelspec": {
      "display_name": "Python 3",
      "language": "python",
      "name": "python3"
    },
    "language_info": {
      "codemirror_mode": {
        "name": "ipython",
        "version": 3
      },
      "file_extension": ".py",
      "mimetype": "text/x-python",
      "name": "python",
      "nbconvert_exporter": "python",
      "pygments_lexer": "ipython3",
      "version": "3.8.5"
    },
    "colab": {
      "name": "JN09_TutorialPlotlyExpress.ipynb",
      "provenance": []
    }
  },
  "cells": [
    {
      "cell_type": "markdown",
      "metadata": {
        "id": "uREyLCCqfyNs"
      },
      "source": [
        "#  Explorar el Dataset \"Gapminder\" con Plotly Express\n",
        "\n",
        "### Tutorial basado en un curso llevado por Luis R. Furlán (2020)\n",
        "\n",
        "#### Requiere la previa instalación de las librerías para Python:\n",
        "\n",
        "1. Numpy\n",
        "2. Pandas\n",
        "3. Plotly\n",
        "\n",
        "Sobre los datos:\n",
        "[Fuente de Datos](https://gapminder.org/tools/#$state$time$value=2007;;&chart-type=bubbles)"
      ]
    },
    {
      "cell_type": "markdown",
      "metadata": {
        "id": "gsAYMR9vfyNv"
      },
      "source": [
        "## Tarea 1:  Carga de los Datos"
      ]
    },
    {
      "cell_type": "code",
      "metadata": {
        "id": "889bvz0afyNy"
      },
      "source": [
        "import plotly.offline as py\n",
        "import plotly.graph_objs as go\n",
        "import pandas as pd\n",
        "import numpy as np"
      ],
      "execution_count": null,
      "outputs": []
    },
    {
      "cell_type": "code",
      "metadata": {
        "id": "3bD4WCRzfyOB"
      },
      "source": [
        "import plotly.express as px\n",
        "\n",
        "#  La siguiente librería se usa sólo para desplegar tablas en forma más bonita, se puede usar solo .head() \n",
        "from plotly.figure_factory import create_table   "
      ],
      "execution_count": null,
      "outputs": []
    },
    {
      "cell_type": "markdown",
      "metadata": {
        "id": "tMt429EZfyOK"
      },
      "source": [
        "### Una forma de ver qué conjuntos de datos hay disponibles con Plotly Express"
      ]
    },
    {
      "cell_type": "code",
      "metadata": {
        "id": "2UK4GpM0fyON"
      },
      "source": [
        "for name in dir(px.data):\n",
        "    if '__' not in name:\n",
        "        print(name)"
      ],
      "execution_count": null,
      "outputs": []
    },
    {
      "cell_type": "markdown",
      "metadata": {
        "id": "qr8JnoELfyOa"
      },
      "source": [
        "### Usaremos el conjunto de datos \"gapminder\""
      ]
    },
    {
      "cell_type": "code",
      "metadata": {
        "id": "ScN2cko4fyOb"
      },
      "source": [
        "gapminder = px.data.gapminder()    #   El dataset Gapminder se incluye en Plotly Express\n",
        "\n",
        "table = create_table(gapminder.head(10))   #  Una forma más bonita de presentar tablas\n",
        "py.iplot(table)"
      ],
      "execution_count": null,
      "outputs": []
    },
    {
      "cell_type": "code",
      "metadata": {
        "id": "YA2W2zC6fyOi"
      },
      "source": [
        "gapminder.head(10)   # La forma más acostumbrada...todo depende del gusto del usuario"
      ],
      "execution_count": null,
      "outputs": []
    },
    {
      "cell_type": "markdown",
      "metadata": {
        "id": "4i8KZNvOfyOq"
      },
      "source": [
        "## Tarea 2:  Visualizaciones rápidas \"ad hoc\" con gráficas de barra\n"
      ]
    },
    {
      "cell_type": "code",
      "metadata": {
        "scrolled": false,
        "id": "gr6LrgNIfyOs"
      },
      "source": [
        "datos_canada = px.data.gapminder().query('country == \"Canada\"')  #  Seleccionamos solo los datos de Canadá\n",
        "fig = px.bar(datos_canada, x = 'year', y = 'pop', height = 400)\n",
        "fig.show() "
      ],
      "execution_count": null,
      "outputs": []
    },
    {
      "cell_type": "markdown",
      "metadata": {
        "id": "9Vz-2CUdfyOy"
      },
      "source": [
        "#### La gráfica anterior es interactiva.  Se puede mover el cursor sobre la misma y ver los datos.  También, arriba hay íconos para \"panear\", hacer \"zoom\", guardar una imágen estática, etc."
      ]
    },
    {
      "cell_type": "markdown",
      "metadata": {
        "id": "QU3tDclmfyOz"
      },
      "source": [
        "#### Plottly Express usa los mismos nombres de las columnas para las etiquetas y los datos a desplegar al pasar el cursor encima.  Podemos modificar las etiquetas (labels) y agregar datos a desplegar (hover_data)."
      ]
    },
    {
      "cell_type": "code",
      "metadata": {
        "scrolled": true,
        "id": "DVH_fFKPfyO1"
      },
      "source": [
        "fig = px.bar(datos_canada, x = 'year', y = 'pop',\n",
        "            hover_data = ['lifeExp', 'gdpPercap'], \n",
        "            labels = {'pop': 'población de Canadá', 'year': 'Año'}, height = 400)\n",
        "fig.show()"
      ],
      "execution_count": null,
      "outputs": []
    },
    {
      "cell_type": "markdown",
      "metadata": {
        "id": "VbZD6RGnfyO6"
      },
      "source": [
        "### Podemos agregar color basado en otra variable (color)"
      ]
    },
    {
      "cell_type": "code",
      "metadata": {
        "id": "p9By4iQBfyO7"
      },
      "source": [
        "fig = px.bar(datos_canada, x = 'year', y = 'pop',\n",
        "            hover_data = ['lifeExp', 'gdpPercap'], \n",
        "            color = 'lifeExp',\n",
        "            labels = {'pop': 'población de Canadá'}, height = 400)\n",
        "fig.show()"
      ],
      "execution_count": null,
      "outputs": []
    },
    {
      "cell_type": "markdown",
      "metadata": {
        "id": "rfYaT3YRfyPB"
      },
      "source": [
        "### Podemos exportar la gráfica a un archivo de formato .html, que luego puede verse en un navegador"
      ]
    },
    {
      "cell_type": "code",
      "metadata": {
        "id": "r8YccP0AfyPD"
      },
      "source": [
        "py.plot(fig, filename = \"Poblacion_Canada.html\")"
      ],
      "execution_count": null,
      "outputs": []
    },
    {
      "cell_type": "markdown",
      "metadata": {
        "id": "ThT_zgYXfyPJ"
      },
      "source": [
        "## Tarea 3:  Graficar esperanza de vida vrs GDP per cápita usando una gráfica de dispersión \"scatter\"\n"
      ]
    },
    {
      "cell_type": "code",
      "metadata": {
        "id": "10_PrzHPfyPK"
      },
      "source": [
        "gapminder2007 = gapminder.query('year == 2007')    #solo se usarán los datos del 2007\n",
        "px.scatter(gapminder2007, x = 'gdpPercap', y = 'lifeExp')"
      ],
      "execution_count": null,
      "outputs": []
    },
    {
      "cell_type": "markdown",
      "metadata": {
        "id": "ZuTEL-uYfyPQ"
      },
      "source": [
        "### La gráfica anterior contiene datos de todos los continentes.  Utilicemos color para identificarlos"
      ]
    },
    {
      "cell_type": "code",
      "metadata": {
        "scrolled": true,
        "id": "X77Hppv9fyPS"
      },
      "source": [
        "px.scatter(gapminder2007, x = 'gdpPercap', y = 'lifeExp', color = 'continent')"
      ],
      "execution_count": null,
      "outputs": []
    },
    {
      "cell_type": "markdown",
      "metadata": {
        "id": "AaZdwaFOfyPZ"
      },
      "source": [
        "### Nótese que podemos \"encender\" y \"apagar\" los puntos correspondientes a cada continente solo dando un \"click\" en la leyenda de cada uno"
      ]
    },
    {
      "cell_type": "markdown",
      "metadata": {
        "id": "vsYvgStffyPb"
      },
      "source": [
        "## Tarea 4:  Gráfica interactiva \"ad hoc\" de burbuja\n",
        "\n",
        "### El tamaño de cada punto de la gráfica anterior puede hacerse proporcional a otra variable (size)\n"
      ]
    },
    {
      "cell_type": "code",
      "metadata": {
        "id": "iN5lul7PfyPb"
      },
      "source": [
        "px.scatter(gapminder2007, x = 'gdpPercap', y = 'lifeExp', color = 'continent',\n",
        "          size = 'pop', size_max = 60)"
      ],
      "execution_count": null,
      "outputs": []
    },
    {
      "cell_type": "markdown",
      "metadata": {
        "id": "xSLnOZ9PfyPh"
      },
      "source": [
        "### Apliquémos todo lo que hemos aprendido para mejorar la gráfica anterior"
      ]
    },
    {
      "cell_type": "code",
      "metadata": {
        "id": "trA3BOkSfyPi"
      },
      "source": [
        "px.scatter(gapminder2007, \n",
        "           x = 'gdpPercap', \n",
        "           y = 'lifeExp', \n",
        "           color = 'continent',\n",
        "           size = 'pop', \n",
        "           size_max = 60, \n",
        "           hover_name = 'country',\n",
        "           labels = dict(lifeExp = \"Esperanza de vida (años)\", gdpPercap = \"GDP per cápita (Millones $)\"))\n",
        "\n",
        "#  Otra posibilidad para la línea 8 es la siguiente...son intercambiables\n",
        "#           labels = {\"lifeExp\": \"Esperanza de vida (años)\", \"gdpPercap\": \"GDP per cápita (Millones $)\"})"
      ],
      "execution_count": null,
      "outputs": []
    },
    {
      "cell_type": "markdown",
      "metadata": {
        "id": "FnkunbEXfyPo"
      },
      "source": [
        "## Tarea 5:  Crear gráficas de facetas (Facet Plots) y animaciones interactivas\n",
        "\n",
        "### Nos ponemos más creativos con la gráfica anterior, separemos los continentes (habrá que cambiar la escala del eje X, con una logarítmica, para que nos quepa)\n"
      ]
    },
    {
      "cell_type": "code",
      "metadata": {
        "id": "1AU1_sDDfyPp"
      },
      "source": [
        "px.scatter(gapminder2007, x = 'gdpPercap', y = 'lifeExp', color = 'continent',\n",
        "          size = 'pop', size_max = 60, hover_name = 'country', facet_col = 'continent',\n",
        "          log_x = True)"
      ],
      "execution_count": null,
      "outputs": []
    },
    {
      "cell_type": "markdown",
      "metadata": {
        "id": "DOHlUDnYfyPu"
      },
      "source": [
        "### Ahhhh....y que fácil hacer una gráfica animada.  Queremos ver cómo cambia cada país a través de los años!"
      ]
    },
    {
      "cell_type": "code",
      "metadata": {
        "id": "rnvZSwxJfyPv"
      },
      "source": [
        "px.scatter(gapminder, x = 'gdpPercap', y = 'lifeExp', color = 'continent',\n",
        "          size = 'pop', size_max = 60, hover_name = 'country',\n",
        "          animation_frame = 'year', animation_group = 'country',\n",
        "          log_x = True, range_x = [100, 100000],\n",
        "          range_y = [25, 90],\n",
        "          labels = dict(pop = 'Población', gdpPercap = 'GDP per Cápita',\n",
        "                        lifeExp = 'Esperanza de Vida'))"
      ],
      "execution_count": null,
      "outputs": []
    },
    {
      "cell_type": "markdown",
      "metadata": {
        "id": "aUcA4_-vfyP0"
      },
      "source": [
        "### Y el \"postre\" de este tutorial!!! Con gráficas \"choropeth\" (del Griego χῶρος \"área/región\" y πλῆθος \"multitud\") "
      ]
    },
    {
      "cell_type": "markdown",
      "metadata": {
        "id": "89xQO4mjfyP1"
      },
      "source": [
        "## Tarea 6:  Representar datos geográficos como mapas animados\n"
      ]
    },
    {
      "cell_type": "code",
      "metadata": {
        "id": "dMHOxLsVfyP2"
      },
      "source": [
        "px.choropleth(gapminder, locations = 'iso_alpha', color = 'lifeExp', hover_name = 'country',\n",
        "              animation_frame = 'year', color_continuous_scale = px.colors.sequential.Plasma, \n",
        "              projection = 'natural earth')\n"
      ],
      "execution_count": null,
      "outputs": []
    },
    {
      "cell_type": "code",
      "metadata": {
        "id": "ML_iTGwZfyP6"
      },
      "source": [
        "px.choropleth(gapminder, locations = 'iso_alpha', color = 'lifeExp', hover_name = 'country',\n",
        "              animation_frame = 'year', color_continuous_scale = px.colors.sequential.Plasma, \n",
        "              projection = 'orthographic')"
      ],
      "execution_count": null,
      "outputs": []
    }
  ]
}
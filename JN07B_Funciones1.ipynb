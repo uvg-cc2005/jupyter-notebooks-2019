{
  "nbformat": 4,
  "nbformat_minor": 0,
  "metadata": {
    "colab": {
      "name": "Funciones_1_v2.ipynb",
      "version": "0.3.2",
      "provenance": []
    },
    "kernelspec": {
      "display_name": "Python 3",
      "language": "python",
      "name": "python3"
    }
  },
  "cells": [
    {
      "metadata": {
        "colab_type": "text",
        "id": "OjZlhNFXSZl0"
      },
      "cell_type": "markdown",
      "source": [
        "# Funciones Parte 1\n",
        "\n",
        "¡Hola! En esta hoja de trabajo vamos a aprender acerca de las funciones y bibliotecas de Python. Realiza los ejercicios o responde las preguntas que se te hacen a continuación.\n",
        "\n",
        "## Funciones\n",
        "¿Te has dado cuenta de que a lo largo del curso has usado comandos que sirven para ejecutar acciones? Por ejemplo, en RUR-PLE, utilizaste _move( )_ para que _Reeborg_ se moviera y *turn_left( )* para que girara a la izquierda. Estos comandos son **funciones**, que el programador de RUR-PLE programó para que Reeborg pueda ejecutar acciones.\n",
        "\n",
        "Pero, no sólo has usado funciones en RUR-PLE, también has usado funciones en Python. ¿Tienes idea de cuáles son? La siguiente pista te debería ayudar a hallar un ejemplo:\n",
        "\n",
        "1) Has usado una función que te permite imprimir un texto en pantalla.\n",
        "\n",
        "Escribe la función de la que te hablo para imprimir \"Hola Coca Cola\" en pantalla."
      ]
    },
    {
      "metadata": {
        "colab_type": "code",
        "id": "Vre-vR6zSZl4",
        "colab": {}
      },
      "cell_type": "code",
      "source": [
        ""
      ],
      "execution_count": 0,
      "outputs": []
    },
    {
      "metadata": {
        "colab_type": "text",
        "id": "86EgivWWSZl_"
      },
      "cell_type": "markdown",
      "source": [
        "2) ¿Cuál es la función que te ha permitido solicitar ingresos al usuario? Escribe esta función para permitir al usuario ingresar su nombre."
      ]
    },
    {
      "metadata": {
        "colab_type": "code",
        "id": "5tu9YLAoSZmB",
        "colab": {}
      },
      "cell_type": "code",
      "source": [
        ""
      ],
      "execution_count": 0,
      "outputs": []
    },
    {
      "metadata": {
        "colab_type": "text",
        "id": "eTIfPsaWSZmE"
      },
      "cell_type": "markdown",
      "source": [
        "3) Ahora, ¿cuál es la función que has usado para convertir texto a un número a un entero (_integer_)? Escribe la función de para convertir el caracter _\"5\"_ en el entero *5*."
      ]
    },
    {
      "metadata": {
        "colab_type": "code",
        "id": "NeBRpwN6SZmF",
        "colab": {}
      },
      "cell_type": "code",
      "source": [
        ""
      ],
      "execution_count": 0,
      "outputs": []
    },
    {
      "metadata": {
        "colab_type": "text",
        "id": "mYOL9WYKSZmK"
      },
      "cell_type": "markdown",
      "source": [
        "Como te podrás haber dado cuenta, ya has usado (o _llamado_) varias funciones que Python incluye para quien programa.\n",
        "\n",
        "Probablemente te estarás preguntando, ¿y estas funciones dónde están guardadas?\n",
        "\n",
        "## Módulos\n",
        "Las funciones están guardadas en archivos de Python (es decir que están guardados con la extension _.py_, así como tus programas) llamados módulos. Un **módulo** es un archivo de Python que contiene la definición de varias funciones, pero  no tiene un programa principal para ser ejecutado por si solo.\n",
        "\n",
        "Funciones como _print( ), input( ), int( ), etc._ se cargan de forma predeterminada con Python, y están siempre disponibles porque son funciones muy básicas que la mayoría de programas necesitan. Adicionalmente, Python cuenta con otros **módulos** con funciones más especializadas o particulares. Estos módulos no se cargan de forma predeterminada, aunque sí se instalan en tu computadora cuando instalas Python, por lo que más adelante vamos a ver cómo podemos usarlas... o _importarlas_. En el siguiente link puedes ver un listado de las **bibliotecas** estándar de módulos que vienen incluidas en tu instalación de Python: https://docs.python.org/3/library/index.html; algunas de ellas se cargan de forma predeterminada y otras tienes que _importarlas_ para usar las funciones definidas en ellas.\n",
        "\n",
        "Un ejemplo que viene con tu instalación de Python pero no se carga de forma predeterminada, es el **módulo** _Math_, quien contiene varias funciones matemáticas. En la siguiente página puedes ver el detalle de sus funciones: https://docs.python.org/3/library/math.html. Para poder usar estas funciones debes **importar** el módulo explícitamente en tú código. ¿Cómo se hace esto?\n",
        "\n",
        "Primero, quiero que veas qué sucede cuando tratas de llamar una función de un módulo que no se carga de forma predeterminada. Vamos a intentar llamar a la función _exp(x)_ del módulo _Math_, la cual calcula *e* a la *x* potencia. Ejecuta las siguientes líneas de código y observa lo que sucede."
      ]
    },
    {
      "metadata": {
        "colab_type": "code",
        "id": "cv3sB2ZjSZmL",
        "colab": {}
      },
      "cell_type": "code",
      "source": [
        "exp(5)"
      ],
      "execution_count": 0,
      "outputs": []
    },
    {
      "metadata": {
        "colab_type": "text",
        "id": "4NfER0T1SZmQ"
      },
      "cell_type": "markdown",
      "source": [
        "El error que aparece nos dice que el nombre _exp_ no está definido. Probemos de otra forma:"
      ]
    },
    {
      "metadata": {
        "colab_type": "code",
        "id": "utTOcFMDSZmR",
        "colab": {}
      },
      "cell_type": "code",
      "source": [
        "math.exp(5)"
      ],
      "execution_count": 0,
      "outputs": []
    },
    {
      "metadata": {
        "colab_type": "text",
        "id": "TJJRMDYmSZmV"
      },
      "cell_type": "markdown",
      "source": [
        "Ahora nos dice que _math_ no está definido. Ahora probemos importando el módulo.\n",
        "\n",
        "Python ofrece diferentes opciones para importar módulos, cada una con un propósito diferente.\n",
        "\n",
        "### Importar sólo la(s) funcion(es) que necesito de un módulo\n",
        "Siguiendo con nuestro ejemplo de la función _exp_ del *módulo* _Math_, voy a importar únicamente esa función ya que es la única que voy a necesitar. Esto hace que mi código sea más legible porque indica qué funciones del módulo estoy importando. Para hacer esto escribo:\n",
        "\n",
        "`from nombre_del_modulo import nombre_funcion_1, nombre_funcion_2`\n",
        "\n",
        "**Nota:** Puedo poner el nombre de todas las funciones que yo quiera, separadas por comas.\n",
        "\n",
        "Por lo que, para mi ejemplo, sería de la siguiente forma:\n",
        "\n",
        "`from math import exp`\n",
        "\n",
        "Ahora probemos cómo funciona esto:"
      ]
    },
    {
      "metadata": {
        "colab_type": "code",
        "id": "Jf-3cpZtSZmX",
        "colab": {}
      },
      "cell_type": "code",
      "source": [
        "from math import exp\n",
        "\n",
        "potencia = int(input(\"Ingresa un valor x, para calcular e elevada a la x: \"))\n",
        "resultado = exp(potencia)\n",
        "print(resultado)"
      ],
      "execution_count": 0,
      "outputs": []
    },
    {
      "metadata": {
        "colab_type": "text",
        "id": "A88mdC_3SZma"
      },
      "cell_type": "markdown",
      "source": [
        "¡¡¡Wooo, funciona!!! Presta atención cómo _mandamos a llamar la función_: sólo tuvimos que escribir `exp(potencia)`. ¿Qué pasaría si yo importara dos módulos pero tienen una función con el mismo nombre, en nuestro ejemplo otra función `exp` en otro módulo? ¿Cómo hace mi programa para saber a qué función `exp` me refiero? \n",
        "\n",
        "Para estos casos, podemos _mandar a llamar_ las funciones junto con el nombre de su módulo:\n",
        "`nombre_modulo.nombre_funcion()`\n",
        "\n",
        "Para el ejemplo en específico sería así:\n",
        "`math.exp(potencia)`\n",
        "\n",
        "De esta forma evitamos que haya error al momento de correr nuestro programa en situaciones donde hayan funciones con nombres iguales pero en distintos módulos."
      ]
    },
    {
      "metadata": {
        "colab_type": "code",
        "id": "pMNkYecYSZmb",
        "colab": {}
      },
      "cell_type": "code",
      "source": [
        "import math\n",
        "\n",
        "potencia = int(input(\"Ingresa un valor x, para calcular e elevada a la x: \"))\n",
        "resultado = math.exp(potencia)\n",
        "print(resultado)"
      ],
      "execution_count": 0,
      "outputs": []
    },
    {
      "metadata": {
        "colab_type": "text",
        "id": "scAwFRMaSZmf"
      },
      "cell_type": "markdown",
      "source": [
        "Pon mucha atención a cómo ha cambiado la forma de impotar el módulo para hacer uso de él. En este caso no se especifica una función a importar sino el módulo completo. Es importante que recuerdes la relación entre la forma de llamar a una función y la forma de importar un módulo que la contenga.\n",
        "\n",
        "¿Qué pasa sí voy a usar muchas (o todas las) funciones de un módulo? Sería un poco tedioso escribir el nombre de cada una.\n",
        "\n",
        "### Importar todas las funciones de un módulo\n",
        "Si yo estuviera escribiendo un programa que hace muchos cálculos, probablemente ni sabría qué funciones voy a usar de _Math_ desde un principio; o tal vez sí sé cuáles voy a necesitar pero son como 20. Para estos casos hay una forma de importar todas las funciones de un módulo sin tener que escribir sus nombres:\n",
        "\n",
        "`from nombre_modulo import *`\n",
        "\n",
        "Para el caso del módulo _Math_, sería de la siguiente forma:\n",
        "\n",
        "`from math import *`\n",
        "\n",
        "Al escribir eso en la parte superior de mi código, debería tener disponible todas las funciones del módulo _Math_"
      ]
    },
    {
      "metadata": {
        "colab_type": "code",
        "id": "aNFdnXrQSZmf",
        "colab": {}
      },
      "cell_type": "code",
      "source": [
        "from math import *\n",
        "\n",
        "potencia = int(input(\"Ingresa un valor x, para calcular e elevada a la x: \"))\n",
        "resultado = exp(potencia)\n",
        "raiz_cuadrada = sqrt(resultado)\n",
        "\n",
        "print(\"e elevada a la \", potencia, \" es \", resultado, \" y la raiz cuadrada del resultado es \", raiz_cuadrada)"
      ],
      "execution_count": 0,
      "outputs": []
    },
    {
      "metadata": {
        "colab_type": "text",
        "id": "C6yjTwD_SZmj"
      },
      "cell_type": "markdown",
      "source": [
        "¡Siiii, funcionó otra vez!\n",
        "\n",
        "Existe otra forma de lograr el mismo resultado pero con diferente sintaxis:\n",
        "\n",
        "`import nombre_modulo`\n",
        "\n",
        "Para el caso específico de _Math_ sería:\n",
        "\n",
        "`import math`\n",
        "\n",
        "Al usar esta forma tengo disponible todas las funciones definidas dentro del módulo."
      ]
    },
    {
      "metadata": {
        "colab_type": "code",
        "id": "h4zupg_sSZml",
        "outputId": "1e97b792-a818-4e39-c567-a3c97b25f41c",
        "colab": {}
      },
      "cell_type": "code",
      "source": [
        "import math\n",
        "\n",
        "print(\"Para calcular la tangente de un angulo, ingresa:\")\n",
        "opuesto = int(input(\"Longitud del cateto opuesto \"))\n",
        "adyacente = int(input(\"Longitud del cateto adyacente \"))\n",
        "resultado = math.tan(opuesto/adyacente)\n",
        "\n",
        "print(\"La tangente del angulo es \", resultado)"
      ],
      "execution_count": 0,
      "outputs": [
        {
          "output_type": "stream",
          "text": [
            "Para calcular la tangente de un angulo, ingresa:\n",
            "Longitud del cateto opuesto 4\n",
            "Longitud del cateto adyacente 3\n",
            "La tangente del angulo es  4.131728990893145\n"
          ],
          "name": "stdout"
        }
      ]
    },
    {
      "metadata": {
        "colab_type": "text",
        "id": "EL7Fpi-JSZmq"
      },
      "cell_type": "markdown",
      "source": [
        "### Importar módulos o funciones con aliases\n",
        "Has visto en las películas de espías que los agentes tienen aliases, es decir, otros nombres para que los identifiquen sin usar su nombre verdadero. De la misma forma, los módulos y/o las funciones pueden tener aliases. Pero, ¿para qué sirve?\n",
        "\n",
        "Se puede dar el caso de módulos y funciones con nombres muy largos. Entonces empleamos un **alias**, de la siguiente forma:\n",
        "\n",
        "**Alias para un módulo**\n",
        "\n",
        "`import nombre_modulo as nombre_alias`\n",
        "\n",
        "Ejemplo de uso:"
      ]
    },
    {
      "metadata": {
        "colab_type": "code",
        "id": "rEekWn_DSZmq",
        "outputId": "49e8d52f-d556-45f8-edf3-05192bb83b79",
        "colab": {}
      },
      "cell_type": "code",
      "source": [
        "import math as m #ahora math se llama m, cabe mencionar que solo en este codigo m es reconocido como math\n",
        "\n",
        "resultado = m.exp(10)\n",
        "print(resultado)"
      ],
      "execution_count": 0,
      "outputs": [
        {
          "output_type": "stream",
          "text": [
            "22026.465794806718\n"
          ],
          "name": "stdout"
        }
      ]
    },
    {
      "metadata": {
        "colab_type": "text",
        "id": "YGdrvwFrSZmu"
      },
      "cell_type": "markdown",
      "source": [
        "**Alias para una funcion**\n",
        "\n",
        "`from nombre_modulo import nombre_funcion as nombre_alias`\n",
        "\n",
        "Ejemplo de uso:"
      ]
    },
    {
      "metadata": {
        "colab_type": "code",
        "id": "DX18kzx7SZmv",
        "outputId": "1d0be702-e3e5-4607-cc1f-619d6f3704b6",
        "colab": {}
      },
      "cell_type": "code",
      "source": [
        "from math import cos as coseno #cuando se mande a llamar cos se puede escribir coseno\n",
        "\n",
        "resultado = coseno(45)\n",
        "print(resultado)"
      ],
      "execution_count": 0,
      "outputs": [
        {
          "output_type": "stream",
          "text": [
            "0.5253219888177297\n"
          ],
          "name": "stdout"
        }
      ]
    },
    {
      "metadata": {
        "colab_type": "text",
        "id": "NTJFjrbGSZm0"
      },
      "cell_type": "markdown",
      "source": [
        "### Aplica lo que has aprendido\n",
        "\n",
        "Ahora que ya sabes importar **funciones** de **módulos** de Python, ¿qué te parece si importas la función _random_ del módulo _random_ (https://docs.python.org/3/library/random.html) e imprimes el número aleatorio que te genera. Escribe tu código en el espacio de abajo:"
      ]
    },
    {
      "metadata": {
        "colab_type": "code",
        "id": "VxbAqVkDSZm0",
        "colab": {},
        "outputId": "783ad722-6daa-4cdd-ffa8-9b57d61365a0"
      },
      "cell_type": "code",
      "source": [
        "from random import random as rand\n",
        "\n",
        "print(rand())"
      ],
      "execution_count": 0,
      "outputs": [
        {
          "output_type": "stream",
          "text": [
            "0.21131316468264716\n"
          ],
          "name": "stdout"
        }
      ]
    },
    {
      "metadata": {
        "colab_type": "text",
        "id": "jJTZylybSZm3"
      },
      "cell_type": "markdown",
      "source": [
        "#### ¡Terminaste!\n",
        "\n",
        "Ahora, genera un PDF con este y súbela donde te indique tu profesor para ser calificada. ¡Ah, por cierto!... te has puesto a pensar, ¿qué pasa si no existe una función que haga lo que tú quieres que haga?"
      ]
    }
  ]
}
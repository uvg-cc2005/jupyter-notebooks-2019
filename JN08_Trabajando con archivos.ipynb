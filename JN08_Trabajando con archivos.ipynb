{
 "cells": [
  {
   "cell_type": "markdown",
   "metadata": {},
   "source": [
    "Trabajar con archivos y aprender a guardar información hará nuestros programas más manejables y fáciles de usar.  "
   ]
  },
  {
   "cell_type": "markdown",
   "metadata": {},
   "source": [
    "**Leyendo de un archivo**\n",
    "\n",
    "¡Mucha información puede guardarse en archivos de texto!  Leer de un archivo es útil en aplicaciones que impliquen análisis de datos y en situaciones donde queramos analizar y modificar información guardada en archivos.\n",
    "\n",
    "¿Quieres trabajar con la información almacenada en un archivo de texto?\n",
    "* Paso 1 - Leer el archivo (podemos guardarlo completo en memoria o bien leer línea por línea).  "
   ]
  },
  {
   "cell_type": "code",
   "execution_count": 6,
   "metadata": {},
   "outputs": [
    {
     "name": "stdout",
     "output_type": "stream",
     "text": [
      "3.1415926535\n",
      "8979323846\n",
      "2643383279\n"
     ]
    }
   ],
   "source": [
    "# Para empezar, necesitamos un archivo con algunas líneas en él.  En este caso, preparamos el archivo 'digitos_pi.txt'\n",
    "# Guarda este archivo en el mismo directorio donde está el programa de Python que ejecutarás.\n",
    "\n",
    "# El siguiente código abre el archivo, lo lee e imprime el contenido en pantalla.\n",
    "\n",
    "with open('digitos_pi.txt') as file_object: # Abrimos el archivo que buscamos donde especifica\n",
    "                                            # el argumento de la función open.\n",
    "                                            # La función retorna un objeto que representa el archivo y guardamos\n",
    "                                            # en file_object.\n",
    "                                            # La palabra reservada 'with' cierra el archivo una vez no se requiere\n",
    "                                            # más el acceso.\n",
    "    contents = file_object.read()           # Leemos el archivo y guardamos la cadena en 'contents'.\n",
    "    print(contents)"
   ]
  },
  {
   "cell_type": "markdown",
   "metadata": {},
   "source": [
    "**Rutas de archivos**\n",
    "\n",
    "Algunas veces, en función de cómo organicemos el trabajo, el archivo que queremos abrir no está en el mismo directorio de nuestro programa.\n",
    "\n",
    "Para que Python abra archivos de un directorio distinto a donde se tiene almacenado el programa, necesitamos especificar la ruta específica al archivo para que Python revise allí. Le damos una **ruta absoluta**.  \n",
    "\n",
    "**Ejemplo:**\n"
   ]
  },
  {
   "cell_type": "markdown",
   "metadata": {},
   "source": [
    "**Leyendo línea por línea**\n",
    "\n",
    "Se puede utilizar un 'ciclo for' para examinar cada línea del archivo, una a la vez."
   ]
  },
  {
   "cell_type": "code",
   "execution_count": 9,
   "metadata": {},
   "outputs": [
    {
     "name": "stdout",
     "output_type": "stream",
     "text": [
      "3.1415926535\n",
      "\n",
      "8979323846\n",
      "\n",
      "2643383279\n",
      "3.1415926535\n",
      "8979323846\n",
      "2643383279\n"
     ]
    }
   ],
   "source": [
    "filename = 'digitos_pi.txt'\n",
    "\n",
    "with open(filename) as file_object:\n",
    "    for line in file_object:\n",
    "        print(line)\n",
    "        \n",
    "# Para borrar la línea en blanco que se agrega después de cada línea leída, prueba el siguiente código.\n",
    "\n",
    "with open(filename) as file_object:\n",
    "    for line in file_object:\n",
    "        print(line.rstrip())"
   ]
  },
  {
   "cell_type": "markdown",
   "metadata": {},
   "source": [
    "**Haciendo una lista con las líneas leídas en un archivo.**\n",
    "\n",
    "Cuando utilizamos 'with', el objeto 'file_object' existe sólo dentro de la estructura 'with'.  Si queremos conservar el acceso al texto en el archivo, podemos guardarlo en una estructura tipo lista y utilizarla luego en el programa.\n"
   ]
  },
  {
   "cell_type": "code",
   "execution_count": null,
   "metadata": {},
   "outputs": [],
   "source": [
    "filename = 'digitos_pi.txt'\n",
    "\n",
    "with open(filename) as file_object:\n",
    "    lines = file_object.readlines() # Este método toma cada línea del archivo y la guarda en una lista.\n",
    "    \n",
    "for line in lines:\n",
    "    print(line.rstrip())\n",
    "        "
   ]
  },
  {
   "cell_type": "markdown",
   "metadata": {},
   "source": [
    "**NOTAS**\n",
    "Cuando Python lee de un archivo de texto, interpreta todo el texto en el archivo como una cadena.  Si se lee un número y se desea trabajar con él en un contexto numérico, se tendrá que convertir a un tipo que nos sea útil."
   ]
  },
  {
   "cell_type": "markdown",
   "metadata": {},
   "source": [
    "**Trabajando con ARCHIVOS GRANDES**\n",
    "\n",
    "¿Cómo podemos trabajar con un archivo que contiene hasta 1,000,000 posiciones decimales de Pi? Podemos utilizar lo que hasta ahora hemos aprendido.  Haz la prueba con el siguiente código y analiza qué hace cada una de las líneas.\n",
    "\n",
    "**NOTA**\n",
    "Python no tiene un límite inherente de cuánta información puede manejar.  El límite es la capacidad de la memoria de nuestra computadora."
   ]
  },
  {
   "cell_type": "code",
   "execution_count": 11,
   "metadata": {},
   "outputs": [
    {
     "name": "stdout",
     "output_type": "stream",
     "text": [
      "3.14159265358979323846264338327950288419716939937510...\n",
      "1000002\n"
     ]
    }
   ],
   "source": [
    "filename = 'pi_million_digits.txt'\n",
    "\n",
    "with open(filename) as file_object:\n",
    "    lines = file_object.readlines() # Este método toma cada línea del archivo y la guarda en una lista.\n",
    "    \n",
    "pi_string = '' \n",
    "    \n",
    "for line in lines:\n",
    "    pi_string += line.strip()\n",
    "\n",
    "print(pi_string[:52] + \"...\")\n",
    "print(len(pi_string))"
   ]
  },
  {
   "cell_type": "markdown",
   "metadata": {},
   "source": [
    "**Escribiendo en un archivo**\n",
    "\n",
    "Escribe un mensaje simple y guárdalo en un archivo en lugar de imprimirlo en pantalla."
   ]
  },
  {
   "cell_type": "code",
   "execution_count": null,
   "metadata": {},
   "outputs": [],
   "source": [
    "filename = \"programando.txt\"\n",
    "\n",
    "with open(filename, 'w') as file_object: # El segundo argumento de la función ('w') implica que abrimos el archivo en \n",
    "                                         # modo escritura.\n",
    "    file_object.write(\"Me encanta programar!\")"
   ]
  },
  {
   "cell_type": "markdown",
   "metadata": {},
   "source": [
    "**Modos para abrir un archivo**\n",
    "* 'r' - modo lectura\n",
    "* 'w' - modo escritura\n",
    "* 'a' - modo append\n",
    "* 'r+' - modo lectura/escritura\n",
    "\n",
    "Si no especificamos el modo de apertura, se abre como 'r' por defecto.\n",
    "\n",
    "La función 'open()' crea el archivo cuando utilizamos el modo escritura si el archivo no existe. Si en modo escritura abrimos un archivo que ya existe, Python borrará el archivo y escribirá sobre éste.\n",
    "\n",
    "**NOTA**\n",
    "Python puede escribir sólo cadenas de texto a un archivo de texto.  Si se quieren guardar valores numéricos en el archivo de texto, se tienen que convertir los valores a string."
   ]
  },
  {
   "cell_type": "markdown",
   "metadata": {},
   "source": [
    "**Escribiendo múltiples líneas en un archivo**\n",
    "La función 'write' no agrega ninguna línea nueva al texto que se escribe. Por ello, para agregar líneas nuevas, se tienen que agregar los caracteres específicos deliberadamente (\\n)."
   ]
  },
  {
   "cell_type": "code",
   "execution_count": 12,
   "metadata": {},
   "outputs": [],
   "source": [
    "filename = \"programando.txt\"\n",
    "\n",
    "with open(filename, 'w') as file_object: # El segundo argumento de la función ('w') implica que abrimos el archivo en \n",
    "                                         # modo escritura.\n",
    "    file_object.write(\"Me encanta programar!\\n\")\n",
    "    file_object.write(\"Me encanta crear nuevos juegos!\\n\")"
   ]
  },
  {
   "cell_type": "markdown",
   "metadata": {},
   "source": [
    "**Adjuntando texto a un archivo existente.**\n",
    "\n",
    "Cuando se quiere agregar texto a un archivo ya existente, debemos abrirlo en 'modo append'.  De esta forma, Python no lo borra y cualquier línea que agreguemos será anexada al final.  Si el archivo no existe, Python lo creará."
   ]
  },
  {
   "cell_type": "code",
   "execution_count": null,
   "metadata": {},
   "outputs": [],
   "source": [
    "filename = 'programando.txt'\n",
    "\n",
    "with open(filename, 'a') as file_object:\n",
    "    file_object.write(\"También me gusta analizar grandes archivos con datos. \\n\")\n",
    "    file_object.write(\"Me gusta crear aplicaciones que corren en el browser. \\n\")"
   ]
  }
 ],
 "metadata": {
  "kernelspec": {
   "display_name": "Python 3",
   "language": "python",
   "name": "python3"
  },
  "language_info": {
   "codemirror_mode": {
    "name": "ipython",
    "version": 3
   },
   "file_extension": ".py",
   "mimetype": "text/x-python",
   "name": "python",
   "nbconvert_exporter": "python",
   "pygments_lexer": "ipython3",
   "version": "3.7.1"
  }
 },
 "nbformat": 4,
 "nbformat_minor": 2
}

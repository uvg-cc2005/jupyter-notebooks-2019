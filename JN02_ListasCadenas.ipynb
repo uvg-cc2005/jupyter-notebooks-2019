{
 "cells": [
  {
   "cell_type": "markdown",
   "metadata": {},
   "source": [
    "# Listas y Cadenas\n",
    "\n",
    "## Listas\n",
    "\n",
    "Consideremos la siguiente tabla:\n",
    "\n",
    "| Nombre | Actividad 1 | Actividad 2 | Actividad 3 | Actividad 4 | Actividad 5 |\n",
    "| --- | --- | --- | --- | --- | --- |\n",
    "| Estudiante 1 | 50 | 77 | 80 | 65 | 100 |\n",
    "| Estudiante 2 | 100 | 100 | 0 | 90 | 85 |\n",
    "| Estudiante 3 | 0 | 45 | 90 | 40 | 75 |\n",
    "| Estudiante 4 | 70 | 80 | 75 | 72 | 81 |\n",
    "| Estudiante 5 | 100 | 80 | 77 | 70 | 66 | \n",
    "\n",
    "Si queremos todas las notas del Estudiante 4 tomamos la fila correspondiente a este estudiante:\n",
    "\n",
    "| Nombre | Actividad 1 | Actividad 2 | Actividad 3 | Actividad 4 | Actividad 5 |\n",
    "| --- | --- | --- | --- | --- | --- |\n",
    "| Estudiante 4 | 70 | 80 | 75 | 72 | 81 | \n",
    "\n",
    "En esta fila podemos referirnos a la nota del estudiante en cada actividad por su posición: el primer elemento es la nota de la primera actividad, el segundo es la nota de la segunda actividad, etc.\n",
    "\n",
    "Si, por el contrario, queremos las notas de todos los estudiantes en la Actividad 1, tomamos la columna correspondiente a esa actividad\n",
    "\n",
    "| Actividad 1 |\n",
    "| --- |\n",
    "| 50 |\n",
    "| 100 |\n",
    "| 0 |\n",
    "| 70 |\n",
    "| 100 |\n",
    "\n",
    "En esta columna también podemos hacer referencia a las notas de cada estudiante por posición: primera nota, primer estudiante; segunda nota, segundo estudiante, etc.\n",
    "\n",
    "En ambos casos decimos que tenemos un listado de notas (por actividad o por estudiante). Una lista (o listado) es una colección de elementos **en secuencia**. Es importante recalcar que la secuencia es el aspecto distintivo de una lista; no es lo mismo organizar y separar mis pastillas por día que tenerlas en un bote y tragarme unas dos o cuatro ya cuando estoy oyendo voces.\n",
    "\n",
    "<br />\n",
    "<br />\n",
    "<img src=\"img/pastillas.jpg\" alt=\"Ejemplificación de pastillas\">\n",
    "<br />\n",
    "<br />\n",
    "\n",
    "¿Y qué significa que los elementos de una lista estén en secuencia? Significa que hay alguna asociación entre ellos y los números naturales, de modo que podemos asignarle el 1 al “primero”, el 2 al “segundo” y así sucesivamente.\n",
    "\n",
    "Es muy frecuente en la resolución de problemas el disponer de una colección de elementos y el necesitar hacer una misma cosa (o pocas cosas similares) con cada uno de ellos. Lo normal es determinar un orden (secuencia) para los elementos y hacer lo que necesitemos **recorriendo** ese orden, hasta completar la colección.\n",
    "\n",
    "Si necesito un cierto conjunto de herramientas para reparar el batimóvil, voy al baticuarto de chunches y agarro las herramientas, una por una, siguiendo un cierto orden, antes de volver y usarlas para sus respectivas funciones. Posiblemente me las lleve apuntadas en un papel:\n",
    "\n",
    "* Batillave\n",
    "* Batidesarmador\n",
    "* Batialicate\n",
    "* Batiwaype\n",
    "\n",
    "El listado de herramientas me permite aprovechar que fui al cuarto de chunches para obtener todo lo necesario y optimizar el tiempo que me toma la reparación. Esto es preferible sobre ir a traer cada herramienta hasta que la necesito, interrumpiendo la reparación e intercalando tareas que se desarrollan en contextos diferentes, con tiempos diferentes. Puede ser, sin embargo, que necesite algunas herramientas muy pesadas o peligrosas, como un batisoplete o la batialmágana para enderezar los aros. Me veré obligado a separar la obtención de herramientas en dos o más viajes porque la tarea de adquirir las herramientas más pesadas involucrará dificultades y esfuerzos que las otras herramientas no requieren (es decir, son tareas diferentes). Además, tratar de llevármelas todas al mismo tiempo podría resultar en un accidente y uno o más improperios verbales.\n",
    "\n",
    "Es importante, entonces, el saber identificar la necesidad de una lista cuando queremos resolver problemas, y además saber usarla. En Python, las listas especifican como una secuencia de elementos separados por comas y encerrada entre corchetes. Además, la posición inicial es 0."
   ]
  },
  {
   "cell_type": "code",
   "execution_count": 5,
   "metadata": {},
   "outputs": [
    {
     "name": "stdout",
     "output_type": "stream",
     "text": [
      "['elemento1', 'elemento2', 'elemento3', 'elemento4']\n"
     ]
    }
   ],
   "source": [
    "miLista = ['elemento1', 'elemento2', 'elemento3', 'elemento4'];\n",
    "print(miLista)"
   ]
  },
  {
   "cell_type": "markdown",
   "metadata": {},
   "source": [
    "Para usar una lista hacemos dos cosas. Una de ellas es referenciar alguno de sus elementos mediante su posición en la lista."
   ]
  },
  {
   "cell_type": "code",
   "execution_count": 6,
   "metadata": {},
   "outputs": [
    {
     "name": "stdout",
     "output_type": "stream",
     "text": [
      "elemento2\n"
     ]
    }
   ],
   "source": [
    "print(miLista[1])"
   ]
  },
  {
   "cell_type": "markdown",
   "metadata": {},
   "source": [
    "La otra cosa es recorrer la lista, realizando tareas u operaciones con cada elemento conforme avanzamos en el recorrido. Para ello necesitamos un **ciclo**, que es una instrucción en Python que nos permite repetir tareas. El ciclo ideal para manejar listas se llama **for** y se usa así:"
   ]
  },
  {
   "cell_type": "code",
   "execution_count": 7,
   "metadata": {},
   "outputs": [
    {
     "name": "stdout",
     "output_type": "stream",
     "text": [
      "elemento1\n",
      "elemento2\n",
      "elemento3\n",
      "elemento4\n"
     ]
    }
   ],
   "source": [
    "for elemento in miLista:\n",
    "    # otras operaciones con el elemento\n",
    "    print(elemento)"
   ]
  },
  {
   "cell_type": "markdown",
   "metadata": {},
   "source": [
    "\"elemento\" puede ser reemplazado por el nombre que queramos; es como identificamos al elemento “actual” durante el recorrido (llamado **variable de iteración**). \"lista\" puede ser una variable que contenga una lista o incluso una lista escrita.\n",
    "\n",
    "Supongamos que el listado de herramientas anterior está almacenado en la variable batilista:"
   ]
  },
  {
   "cell_type": "code",
   "execution_count": 7,
   "metadata": {},
   "outputs": [],
   "source": [
    "batilista = ['Batillave', 'Batidesarmador', 'Batialicate', 'Batiwaype', 'Batipinzas', 'Batimartillo', 'Batillave de chuchos', 'Batilima', 'Batiaceite', 'Batitornillo', 'Batituerca', 'Batichafaltrana', 'Baticables']"
   ]
  },
  {
   "cell_type": "markdown",
   "metadata": {},
   "source": [
    "_Ejercicio 1_: recorra la batilista, desplegando en pantalla el nombre de cada herramienta en el listado. Para hacerlo, use un ciclo for con una variable de iteración llamada \"batiherramienta\"."
   ]
  },
  {
   "cell_type": "code",
   "execution_count": null,
   "metadata": {
    "scrolled": false
   },
   "outputs": [],
   "source": []
  },
  {
   "cell_type": "markdown",
   "metadata": {},
   "source": [
    "Hacer el recorrido tal como en el ejercicio anterior no nos permite conocer la posición del elemento contenido en la variable de iteración en cada “vuelta” del ciclo (el nombre correcto es **iteración de ciclo**). Si leemos la lista tal como aparece, es tarea nuestra llevar la cuenta de cuál elemento tiene cuál posición.\n",
    "\n",
    "Si alguien me pide el noveno elemento de esta lista seguramente necesitaré leer los elementos uno por uno, llevando la cuenta hasta llegar a la novena posición. En Python, esto se lograría añadiendo un **contador** a las instrucciones repetidas por el ciclo for. Este contador debe tener un valor inicial declarado **antes** del ciclo (normalmente, el valor inicial es cero). Dentro del ciclo, el contador incrementa su valor en uno con cada iteración, así:"
   ]
  },
  {
   "cell_type": "code",
   "execution_count": 9,
   "metadata": {},
   "outputs": [
    {
     "name": "stdout",
     "output_type": "stream",
     "text": [
      "Batiaceite\n"
     ]
    }
   ],
   "source": [
    "contador = 0\n",
    "for batiherramienta in batilista:\n",
    "    # es el 8 ya que la lista inicia en 9\n",
    "    if contador == 8:\n",
    "        print(batiherramienta)\n",
    "    \n",
    "    contador+=1\n",
    "        "
   ]
  },
  {
   "cell_type": "markdown",
   "metadata": {},
   "source": [
    "Naturalmente, sería más fácil proveer el noveno elemento en la lista si dicha lista estuviera escrita así:\n",
    "\n",
    "0. Batillave<br/>\n",
    "1. Batidesarmador<br/>\n",
    "2. Batialicate<br/>\n",
    "3. Batiwaype<br/>\n",
    "4. Batipinzas<br/>\n",
    "5. Batimartillo<br/>\n",
    "6. Batillave de chuchos<br/>\n",
    "7. Batilima<br/>\n",
    "8. Batiaceite<br/>\n",
    "9. Batitornillo<br/>\n",
    "10. Batituerca<br/>\n",
    "11. Batichafaltrana<br/>\n",
    "12. Baticables<br/>\n",
    "\n",
    "La referencia sería, entonces, batilista[8] (porque las listas en Python comienzan desde 0). Leer esta nueva lista de principio a fin me provee información no sólo de los elementos en la lista sino también de su posición en la misma. En Python, este tipo de recorrido necesita que proveamos una **lista de posiciones numéricas** para la variable de iteración. Ojo, esta es una lista adicional a la batilista que nos interesa recorrer. Podemos proveerla manualmente, escribiendo [0, 1, 2, 3, 4, 5, 6, 7, 8, 9, 10, 11, 12], o generarla mediante la función de Python **range**. Esta instrucción, para nuestros fines inmediatos, se escribiría range(13) para generar una lista con los números del 0 al 12.\n",
    "\n",
    "Si no conocemos la cantidad de elementos en la batilista podemos obtenerla mediante la instrucción **len**. len(batilista) proveerá la cantidad de elementos en batilista, por lo que range(len(batilista)) tiene el mismo efecto que range(13)."
   ]
  },
  {
   "cell_type": "code",
   "execution_count": 12,
   "metadata": {},
   "outputs": [
    {
     "data": {
      "text/plain": [
       "13"
      ]
     },
     "execution_count": 12,
     "metadata": {},
     "output_type": "execute_result"
    }
   ],
   "source": [
    "len(batilista)"
   ]
  },
  {
   "cell_type": "markdown",
   "metadata": {},
   "source": [
    "_Ejercicio 2:_ recorra la batilista desplegando en pantalla el nombre de cada herramienta y su posición (_e.g._, “Batidesarmador es el elemento 1”). Para hacerlo use un ciclo for y las funciones range y len. También recuerde que necesitará hacer referencia a los elementos de la lista por posición. ¿Qué variable contiene la “posición actual” de la batilista en cada iteración?"
   ]
  },
  {
   "cell_type": "code",
   "execution_count": null,
   "metadata": {
    "scrolled": true
   },
   "outputs": [],
   "source": []
  },
  {
   "cell_type": "markdown",
   "metadata": {},
   "source": [
    "Recorrer elementos de esta forma puede ser un poco más engorroso, pero disponer de la información de posición resulta muy útil en muchos escenarios. Regresando a la batilista original de sólo cuatro elementos (porque ya me aburrí de escribir tanto), cada herramienta podría estar almacenada en un contenedor diferente:\n",
    "\n",
    "* Batillave en gaveta 0\n",
    "* Batidesarmador en gaveta 1\n",
    "* Batialicate en gaveta 2\n",
    "* Batiwaype en gaveta 3\n",
    "\n",
    "Es decir, hay un listado de gavetas y a cada gaveta le corresponde una herramienta diferente. Para que esto sea posible, el listado de gavetas debe ser del mismo tamaño que el listado de herramientas, y debemos conocer la asociación entre gavetas y herramientas (preestablecida por la posición de los elementos en cada lista). Vamos a reforzar este concepto regresando a la tabla de notas de al inicio la hoja.\n",
    "\n",
    "_Ejercicio 3:_ cree dos listas con las notas de las actividades 2 y 3 de la tabla, respectivamente. Provea el promedio de cada estudiante en esas actividades. Para hacerlo, recorra ambas listas con un mismo ciclo for, sumando las notas en cada lista y dividiendo el resultado entre 2."
   ]
  },
  {
   "cell_type": "code",
   "execution_count": null,
   "metadata": {},
   "outputs": [],
   "source": []
  },
  {
   "cell_type": "markdown",
   "metadata": {},
   "source": [
    "Con las listas de las actividades 2 y 3 tengo dos columnas de la tabla, separadas. Si creamos una lista por cada una de las demás columnas todavía no tendremos la tabla, porque las columnas no están asociadas de ninguna manera. En la tabla, la asociación entre columnas se da por posición, tal como en las listas. Es decir, la tabla es una lista de columnas, por lo que podemos crear una lista llamada \"tablaDeNotas\" y llenarla con las listas correspondientes a cada columna, así:"
   ]
  },
  {
   "cell_type": "code",
   "execution_count": 20,
   "metadata": {},
   "outputs": [],
   "source": [
    "tablaDeNotas = [[50, 100, 0, 70, 100], [77, 100, 45, 80, 80], [80, 0, 90, 75, 77], [65, 90, 40, 72, 70], [100, 85, 75, 81, 66]]"
   ]
  },
  {
   "cell_type": "markdown",
   "metadata": {},
   "source": [
    "Para crear la tabla también podemos escribir listas por fila en lugar de columna, y luego hacer una lista de filas. Lo importante a recordar es que una tabla es simplemente una lista de listas (donde la identificación de filas y columnas queda a cargo del programador, no del programa), también llamada una **lista de dos dimensiones**. ¿Cómo sería una lista de tres dimensiones?\n",
    "\n",
    "_Ejercicio 4:_ use uno o más ciclos for (por inciso) para proveer lo siguiente:<br/>\n",
    "&nbsp;&nbsp;&nbsp;&nbsp;4.1 La nota de la actividad 1 para el estudiante 1, de la actividad 2 para el estudiante 2, etc.<br/>\n",
    "&nbsp;&nbsp;&nbsp;&nbsp;4.2 Todas las notas de los estudiantes 1 y 5.<br/>\n",
    "&nbsp;&nbsp;&nbsp;&nbsp;4.3 Todas las notas, indicando la actividad y el estudiante correspondiente.<br/>"
   ]
  },
  {
   "cell_type": "code",
   "execution_count": 1,
   "metadata": {},
   "outputs": [],
   "source": [
    "# 4.1\n"
   ]
  },
  {
   "cell_type": "code",
   "execution_count": 2,
   "metadata": {},
   "outputs": [],
   "source": [
    "# 4.2\n"
   ]
  },
  {
   "cell_type": "code",
   "execution_count": 3,
   "metadata": {},
   "outputs": [],
   "source": [
    "# 4.3\n"
   ]
  },
  {
   "cell_type": "markdown",
   "metadata": {},
   "source": [
    "## Cadenas\n",
    "\n",
    "Concluimos con el concepto de **cadena**. Una cadena de símbolos, llamada **string** en inglés, es una secuencia de símbolos de texto. “Hola mundo!” ejemplifica un string en Python. La forma de escribir strings es encerrando la secuencia de símbolos entre comillas dobles o simples. Un string puede ser almacenado en variables, al igual que una lista."
   ]
  },
  {
   "cell_type": "code",
   "execution_count": 52,
   "metadata": {},
   "outputs": [],
   "source": [
    "miString = 'Este es un string'"
   ]
  },
  {
   "cell_type": "markdown",
   "metadata": {},
   "source": [
    "El hecho de que los símbolos de un string presenten una secuencia les provee de características similares a las de una lista. Es importante observar que Python distingue los strings y las listas como tipos de dato diferentes. Sus propiedades en común permiten que hagamos referencia a los elementos de un string tal como lo hacemos con los de una lista. Por ejemplo, podemos obtener el tamaño de un string con len y extraer el último elemento de dicho string usando una referencia con corchetes:"
   ]
  },
  {
   "cell_type": "code",
   "execution_count": 53,
   "metadata": {},
   "outputs": [
    {
     "name": "stdout",
     "output_type": "stream",
     "text": [
      "17\n"
     ]
    }
   ],
   "source": [
    "print(len(miString))"
   ]
  },
  {
   "cell_type": "code",
   "execution_count": 54,
   "metadata": {},
   "outputs": [
    {
     "name": "stdout",
     "output_type": "stream",
     "text": [
      "e\n"
     ]
    }
   ],
   "source": [
    "print(miString[5])"
   ]
  },
  {
   "cell_type": "markdown",
   "metadata": {},
   "source": [
    "También podemos recorrer un string con un ciclo for y hacer algo con cada uno de sus símbolos, como desplegarlos en pantalla:"
   ]
  },
  {
   "cell_type": "code",
   "execution_count": 55,
   "metadata": {},
   "outputs": [
    {
     "name": "stdout",
     "output_type": "stream",
     "text": [
      "E\n",
      "s\n",
      "t\n",
      "e\n",
      " \n",
      "e\n",
      "s\n",
      " \n",
      "u\n",
      "n\n",
      " \n",
      "s\n",
      "t\n",
      "r\n",
      "i\n",
      "n\n",
      "g\n"
     ]
    }
   ],
   "source": [
    "for letra in miString:\n",
    "    print(letra)"
   ]
  },
  {
   "cell_type": "markdown",
   "metadata": {},
   "source": [
    "Las diferencias entre strings y listas están en su manejo. Una de las diferencias principales es que los strings son inmutables, lo que significa que no podemos alterar los elementos de un string mediante referencias y asignaciones, contrario a como sí podemos hacer esto en listas:"
   ]
  },
  {
   "cell_type": "code",
   "execution_count": 7,
   "metadata": {},
   "outputs": [
    {
     "name": "stdout",
     "output_type": "stream",
     "text": [
      "['elemento 9', 'elemento 10', 'elemento 11']\n",
      "['elemento 15', 'elemento 10', 'elemento 11']\n",
      "Este es otro string\n"
     ]
    }
   ],
   "source": [
    "otraLista = ['elemento 9', 'elemento 10', 'elemento 11']\n",
    "print(otraLista)\n",
    "\n",
    "otraLista[0] = 'elemento 15'\n",
    "print(otraLista)\n",
    "\n",
    "otroString = 'Este es otro string'\n",
    "print(otroString)\n",
    "\n",
    "# esto no se puede hacer!\n",
    "# otroString[0] = 'M'    "
   ]
  },
  {
   "cell_type": "markdown",
   "metadata": {},
   "source": [
    "Otra diferencia importante es que los componentes de un string son también considerados strings. En el string s = “abc”, el elemento s[0] es el string “a”, mientras que en la lista ele = [“a”,”b”,”c”] el elemento ele[0] es también en el string “a”. ¿Cómo tendríamos que definir ele para que cada elemento fuera una lista?\n",
    "\n",
    "Por ser tipos de dato distintos, Python tiene operaciones predefinidas diferentes para manejar listas y strings. El listado completo de operaciones permitidas sobre strings y listas se encuentra en los siguientes links:\n",
    "\n",
    "* https://docs.python.org/3/library/stdtypes.html#textseq\n",
    "* https://docs.python.org/3/tutorial/datastructures.html\n",
    "\n",
    "Una de estas operaciones es \"upper\", que se aplica a un string existente y resulta en un nuevo string (porque el string original es inmutable) cuyos símbolos están en mayúsculas."
   ]
  },
  {
   "cell_type": "code",
   "execution_count": 57,
   "metadata": {},
   "outputs": [
    {
     "name": "stdout",
     "output_type": "stream",
     "text": [
      "ESTE ES UN STRING\n"
     ]
    }
   ],
   "source": [
    "stringMayusculas = miString.upper()\n",
    "print(stringMayusculas)"
   ]
  },
  {
   "cell_type": "markdown",
   "metadata": {},
   "source": [
    "_Ejercicio 5:_ use un ciclo for para mostrar en pantalla cada uno de los símbolos en el string “Hola mundo!” en mayúsculas"
   ]
  },
  {
   "cell_type": "code",
   "execution_count": 8,
   "metadata": {},
   "outputs": [
    {
     "name": "stdout",
     "output_type": "stream",
     "text": [
      "H\n",
      "O\n",
      "L\n",
      "A\n",
      " \n",
      "M\n",
      "U\n",
      "N\n",
      "D\n",
      "O\n",
      "!\n"
     ]
    }
   ],
   "source": [
    "strNuevo = 'Hola mundo!'\n",
    "for letra in strNuevo:\n",
    "    print(letra.upper())"
   ]
  },
  {
   "cell_type": "markdown",
   "metadata": {},
   "source": [
    "_Ejercicio 6 (ejercicio de práctica, recomendado de tarea):_ ahora que sabe aplicar operaciones sobre strings y listas, investigue las siguientes operaciones:\n",
    "\n",
    "* Append\n",
    "* Insert\n",
    "* Lower\n",
    "* Split\n",
    "* Join\n",
    "\n",
    "Estas operaciones permiten, respectivamente, añadir elementos al final de una lista, insertar elementos en una posición determinada de una lista, convertir un string en minúsculas, convertir un string en una lista de strings; y **concatenar** (unir, preservando el orden de los elementos en la operación) una lista de strings en un único string."
   ]
  },
  {
   "cell_type": "code",
   "execution_count": 13,
   "metadata": {},
   "outputs": [],
   "source": [
    "ultimaLista = ['elemento 12', 'elemento 13', 'elemento 14']\n",
    "ultimoString = 'Este es el ultimo string'"
   ]
  },
  {
   "cell_type": "code",
   "execution_count": 14,
   "metadata": {},
   "outputs": [
    {
     "name": "stdout",
     "output_type": "stream",
     "text": [
      "['elemento 12', 'elemento 13', 'elemento 14', 'elemento 15']\n"
     ]
    }
   ],
   "source": [
    "# Append\n",
    "ultimaLista.append('elemento 15')\n",
    "print(ultimaLista)"
   ]
  },
  {
   "cell_type": "code",
   "execution_count": 15,
   "metadata": {},
   "outputs": [
    {
     "name": "stdout",
     "output_type": "stream",
     "text": [
      "['elemento 11', 'elemento 12', 'elemento 13', 'elemento 14', 'elemento 15']\n"
     ]
    }
   ],
   "source": [
    "# Insert\n",
    "ultimaLista.insert(0, 'elemento 11')\n",
    "print(ultimaLista)"
   ]
  },
  {
   "cell_type": "code",
   "execution_count": 16,
   "metadata": {},
   "outputs": [
    {
     "name": "stdout",
     "output_type": "stream",
     "text": [
      "este es el ultimo string\n"
     ]
    }
   ],
   "source": [
    "# Lower\n",
    "minusculas = ultimoString.lower()\n",
    "print(minusculas)"
   ]
  },
  {
   "cell_type": "code",
   "execution_count": 17,
   "metadata": {},
   "outputs": [
    {
     "name": "stdout",
     "output_type": "stream",
     "text": [
      "['Este', 'es', 'el', 'ultimo', 'string']\n"
     ]
    }
   ],
   "source": [
    "# Split\n",
    "ahoraSiUltima = ultimoString.split()\n",
    "print(ahoraSiUltima)"
   ]
  },
  {
   "cell_type": "code",
   "execution_count": 18,
   "metadata": {},
   "outputs": [
    {
     "name": "stdout",
     "output_type": "stream",
     "text": [
      "elemento 11elemento 12elemento 13elemento 14elemento 15\n"
     ]
    }
   ],
   "source": [
    "# Join\n",
    "ahoraSiUltimo = ''.join(ultimaLista)\n",
    "print(ahoraSiUltimo)"
   ]
  },
  {
   "cell_type": "markdown",
   "metadata": {},
   "source": [
    "### Ejercicios\n",
    "\n",
    "Use estas operaciones para:\n",
    "\n",
    "1. Crear una lista nueva con la nota del estudiante 1 en la actividad 1, del estudiante 2 en la actividad 2, etc.\n",
    "2. Agregar una fila en la posición correcta con las notas del estudiante 0 en cada actividad.\n",
    "3. Convertir los elementos de la batilista a mayúsculas.\n",
    "4. Reemplazar todas las vocales en el string “Let me fight for you, Khaleesi” con la letra “i”.\n",
    "\n",
    "<br />\n",
    "<br />\n",
    "<img src=\"img/khaleesi.jpg\" alt= \"Ejercicios GOT\">\n",
    "<br />\n",
    "<br />\n",
    "\n",
    "Para ello, convierta el string en una lista, reemplace los elementos necesarios y una nuevamente la lista en un string con los elementos reemplazados. También necesitará una condición que permita identificar vocales. En su ciclo for, si su variable de iteración se llama letra (por ponerle un nombre), debería incluir el siguiente código:"
   ]
  },
  {
   "cell_type": "code",
   "execution_count": 21,
   "metadata": {},
   "outputs": [],
   "source": [
    "if (letra in \"aeiou\"):\n",
    "\t# operaciones de reemplazo aquí\n",
    "    pass"
   ]
  }
 ],
 "metadata": {
  "kernelspec": {
   "display_name": "Python 3",
   "language": "python",
   "name": "python3"
  },
  "language_info": {
   "codemirror_mode": {
    "name": "ipython",
    "version": 3
   },
   "file_extension": ".py",
   "mimetype": "text/x-python",
   "name": "python",
   "nbconvert_exporter": "python",
   "pygments_lexer": "ipython3",
   "version": "3.7.1"
  }
 },
 "nbformat": 4,
 "nbformat_minor": 2
}
